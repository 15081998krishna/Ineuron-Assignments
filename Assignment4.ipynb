{
 "cells": [
  {
   "cell_type": "code",
   "execution_count": null,
   "id": "f0368c8e-e6c8-4cdb-b1ba-a0ee004bc9d8",
   "metadata": {},
   "outputs": [],
   "source": [
    "\"\"\"\n",
    "1. What exactly is []?\n",
    "\n",
    "it's an empty list\n",
    "\"\"\""
   ]
  },
  {
   "cell_type": "code",
   "execution_count": null,
   "id": "0ad268db-1377-4d88-a9ef-ca2790cb125b",
   "metadata": {},
   "outputs": [],
   "source": [
    "\"\"\"\n",
    "2. In a list of values stored in a variable called spam, how would you assign the value \"hello\" as the\n",
    "third value? (Assume [2, 4, 6, 8, 10] are in spam.)\n",
    "\"\"\""
   ]
  },
  {
   "cell_type": "code",
   "execution_count": 1,
   "id": "c07a8151-32b7-425c-8b99-43d0b00d4601",
   "metadata": {},
   "outputs": [
    {
     "data": {
      "text/plain": [
       "[2, 4, 'Hello', 8, 10]"
      ]
     },
     "execution_count": 1,
     "metadata": {},
     "output_type": "execute_result"
    }
   ],
   "source": [
    "spam=[2, 4, 6, 8, 10]\n",
    "spam[2]='Hello'\n",
    "spam"
   ]
  },
  {
   "cell_type": "code",
   "execution_count": null,
   "id": "200bc720-51e8-4e45-a93a-046d01fc955d",
   "metadata": {},
   "outputs": [],
   "source": [
    "\"\"\"\n",
    "Let's pretend the spam includes the list ['a', 'b', 'c', 'd'] for the next three queries.\n",
    "3. What is the value of spam[int(int('3' * 2) / 11)]?\n",
    "\"\"\""
   ]
  },
  {
   "cell_type": "code",
   "execution_count": 13,
   "id": "c37fb6b4-880e-47ce-a6fd-be705499c0a7",
   "metadata": {},
   "outputs": [
    {
     "data": {
      "text/plain": [
       "['a', 'b', 'c', 'd']"
      ]
     },
     "execution_count": 13,
     "metadata": {},
     "output_type": "execute_result"
    }
   ],
   "source": [
    "spam=['a', 'b', 'c', 'd']\n",
    "spam"
   ]
  },
  {
   "cell_type": "code",
   "execution_count": 14,
   "id": "23823348-e375-40b9-b937-82f37818d3ff",
   "metadata": {},
   "outputs": [
    {
     "data": {
      "text/plain": [
       "'d'"
      ]
     },
     "execution_count": 14,
     "metadata": {},
     "output_type": "execute_result"
    }
   ],
   "source": [
    "spam[int(int('3' * 2) / 11)]"
   ]
  },
  {
   "cell_type": "code",
   "execution_count": null,
   "id": "7c122b89-6228-46ff-a0ec-f70e3c7d571f",
   "metadata": {},
   "outputs": [],
   "source": [
    "#4. What is the value of spam[-1]?"
   ]
  },
  {
   "cell_type": "code",
   "execution_count": 16,
   "id": "529b3697-7576-4387-a356-b1fd63c439c9",
   "metadata": {},
   "outputs": [
    {
     "data": {
      "text/plain": [
       "'d'"
      ]
     },
     "execution_count": 16,
     "metadata": {},
     "output_type": "execute_result"
    }
   ],
   "source": [
    "spam[-1]#(-1 is the last index)"
   ]
  },
  {
   "cell_type": "code",
   "execution_count": null,
   "id": "1c1432ad-580a-4082-a7f2-fbeeb87dd92c",
   "metadata": {},
   "outputs": [],
   "source": [
    "#5. What is the value of spam[:2]?"
   ]
  },
  {
   "cell_type": "code",
   "execution_count": 17,
   "id": "32607430-b332-44b4-b26a-6bd6243397ee",
   "metadata": {},
   "outputs": [
    {
     "data": {
      "text/plain": [
       "['a', 'b']"
      ]
     },
     "execution_count": 17,
     "metadata": {},
     "output_type": "execute_result"
    }
   ],
   "source": [
    "spam[:2]"
   ]
  },
  {
   "cell_type": "code",
   "execution_count": null,
   "id": "f5323419-7823-4ed1-864f-2646c155b39c",
   "metadata": {},
   "outputs": [],
   "source": [
    "#lower index automatically taken as 0 if not specified and till 2 but not included 2 index"
   ]
  },
  {
   "cell_type": "code",
   "execution_count": null,
   "id": "9bfe10c4-c084-4520-82cb-b13ca8e631d6",
   "metadata": {},
   "outputs": [],
   "source": [
    "#bacon has the list [3.14, 'cat,' 11, 'cat,' True]"
   ]
  },
  {
   "cell_type": "code",
   "execution_count": 28,
   "id": "8f92787e-8e5e-417a-a11b-7957269b9f73",
   "metadata": {},
   "outputs": [],
   "source": [
    "bacon=[3.14, 'cat', 11, 'cat', True]"
   ]
  },
  {
   "cell_type": "code",
   "execution_count": null,
   "id": "7e1a4d95-d5c7-4270-b9df-f32513aecf40",
   "metadata": {},
   "outputs": [],
   "source": [
    "#6. What is the value of bacon.index('cat')?"
   ]
  },
  {
   "cell_type": "code",
   "execution_count": 29,
   "id": "93881445-c686-4418-b95d-af39f6814347",
   "metadata": {},
   "outputs": [
    {
     "data": {
      "text/plain": [
       "1"
      ]
     },
     "execution_count": 29,
     "metadata": {},
     "output_type": "execute_result"
    }
   ],
   "source": [
    "bacon.index('cat') #(returns 1st occurance of the input)"
   ]
  },
  {
   "cell_type": "code",
   "execution_count": null,
   "id": "8b6f685c-cc4d-440c-a4f2-e8024ef48d26",
   "metadata": {},
   "outputs": [],
   "source": [
    "#7. How does bacon.append(99) change the look of the list value in bacon?"
   ]
  },
  {
   "cell_type": "code",
   "execution_count": 30,
   "id": "6880eca4-0935-4d70-9d42-43659792b9a3",
   "metadata": {},
   "outputs": [
    {
     "data": {
      "text/plain": [
       "[3.14, 'cat', 11, 'cat', True, 99]"
      ]
     },
     "execution_count": 30,
     "metadata": {},
     "output_type": "execute_result"
    }
   ],
   "source": [
    "bacon.append(99)\n",
    "bacon #(added new element 99 to the list bacon)"
   ]
  },
  {
   "cell_type": "code",
   "execution_count": null,
   "id": "ad6cf402-b7d5-4ea6-81f0-9d015a856ed5",
   "metadata": {},
   "outputs": [],
   "source": [
    "#8. How does bacon.remove('cat') change the look of the list in bacon?"
   ]
  },
  {
   "cell_type": "code",
   "execution_count": 31,
   "id": "abbe7e92-070f-4a6a-9c57-a2582f642b98",
   "metadata": {},
   "outputs": [
    {
     "data": {
      "text/plain": [
       "[3.14, 11, 'cat', True, 99]"
      ]
     },
     "execution_count": 31,
     "metadata": {},
     "output_type": "execute_result"
    }
   ],
   "source": [
    "bacon.remove('cat')\n",
    "bacon #(reomves the 1st 'cat' occurance in the list)"
   ]
  },
  {
   "cell_type": "code",
   "execution_count": null,
   "id": "2b4952aa-cdb0-41fb-961e-55764050f143",
   "metadata": {},
   "outputs": [],
   "source": [
    "#9. What are the list concatenation and list replication operators?"
   ]
  },
  {
   "cell_type": "code",
   "execution_count": null,
   "id": "6cf3d805-3bc2-40f5-9bcd-9f635e57dd40",
   "metadata": {},
   "outputs": [],
   "source": [
    "#concatenation(+), replication(*)"
   ]
  },
  {
   "cell_type": "code",
   "execution_count": 33,
   "id": "ec980ab9-165c-487d-b7c3-216ebc07ce76",
   "metadata": {},
   "outputs": [
    {
     "name": "stdout",
     "output_type": "stream",
     "text": [
      "['a', 'b', 'c', 'd', 'a', 'b', 'c', 'd']\n",
      "['a', 'b', 'c', 'd', 'a', 'b', 'c', 'd', 'a', 'b', 'c', 'd']\n"
     ]
    }
   ],
   "source": [
    "print(spam+spam)\n",
    "print(spam*3)"
   ]
  },
  {
   "cell_type": "code",
   "execution_count": null,
   "id": "a9710499-fb90-40f8-95a3-adda2967d63c",
   "metadata": {},
   "outputs": [],
   "source": [
    "#10. What is difference between the list methods append() and insert()?"
   ]
  },
  {
   "cell_type": "code",
   "execution_count": null,
   "id": "29f3f62e-b06a-472b-9449-9a3846093308",
   "metadata": {},
   "outputs": [],
   "source": [
    "\"\"\"\n",
    "append automatically adds the element to tha last of the list.\n",
    "In insert you can choose at which index to do you need to add the element\n",
    "\"\"\""
   ]
  },
  {
   "cell_type": "code",
   "execution_count": 48,
   "id": "c25280aa-9c2b-4c3d-8c49-63e07fba0c7c",
   "metadata": {},
   "outputs": [
    {
     "data": {
      "text/plain": [
       "['a', 'b', 'd', 'e', 'e']"
      ]
     },
     "execution_count": 48,
     "metadata": {},
     "output_type": "execute_result"
    }
   ],
   "source": [
    "spam.append('e')\n",
    "spam"
   ]
  },
  {
   "cell_type": "code",
   "execution_count": 49,
   "id": "b1af68aa-9c05-49f4-8ca8-18ce8eac18c6",
   "metadata": {},
   "outputs": [
    {
     "data": {
      "text/plain": [
       "['a', 'b', 'x', 'd', 'e', 'e']"
      ]
     },
     "execution_count": 49,
     "metadata": {},
     "output_type": "execute_result"
    }
   ],
   "source": [
    "spam.insert(2,'x')\n",
    "spam"
   ]
  },
  {
   "cell_type": "code",
   "execution_count": null,
   "id": "c6f59d1e-ad8c-4560-8966-98f1c6886f54",
   "metadata": {},
   "outputs": [],
   "source": [
    "#11. What are the two methods for removing items from a list?"
   ]
  },
  {
   "cell_type": "code",
   "execution_count": 50,
   "id": "1da8cdee-7729-4b84-a9ad-07a7dbda9efc",
   "metadata": {},
   "outputs": [
    {
     "data": {
      "text/plain": [
       "['a', 'b', 'd', 'e', 'e']"
      ]
     },
     "execution_count": 50,
     "metadata": {},
     "output_type": "execute_result"
    }
   ],
   "source": [
    "spam.remove('x') #(removes the element specified)\n",
    "spam"
   ]
  },
  {
   "cell_type": "code",
   "execution_count": 51,
   "id": "d96f14cb-a963-43fe-a583-6448218f5344",
   "metadata": {},
   "outputs": [
    {
     "data": {
      "text/plain": [
       "['a', 'b', 'e', 'e']"
      ]
     },
     "execution_count": 51,
     "metadata": {},
     "output_type": "execute_result"
    }
   ],
   "source": [
    "spam.pop(2) #(removes the elemnt at the index specified)\n",
    "spam"
   ]
  },
  {
   "cell_type": "code",
   "execution_count": null,
   "id": "cc18b423-d4ad-42ed-989d-9eab2fce8f49",
   "metadata": {},
   "outputs": [],
   "source": [
    "#12. Describe how list values and string values are identical."
   ]
  },
  {
   "cell_type": "code",
   "execution_count": null,
   "id": "8b01099f-0d29-4de9-b8f4-05b62442808f",
   "metadata": {},
   "outputs": [],
   "source": [
    "\"\"\"\n",
    "String is an ordered collection(list) of chararacters. That is why list and string have many\n",
    "similar functions \n",
    "\"\"\""
   ]
  },
  {
   "cell_type": "code",
   "execution_count": null,
   "id": "91c03acb-73f2-477e-9521-b1bc04b95d64",
   "metadata": {},
   "outputs": [],
   "source": [
    "#13. What's the difference between tuples and lists?"
   ]
  },
  {
   "cell_type": "code",
   "execution_count": null,
   "id": "0a3bf7cf-253f-451e-ade5-053a8922ce13",
   "metadata": {},
   "outputs": [],
   "source": [
    "\"\"\"\n",
    "tuples are immutable. Lists are mutable. Tuples has only 2 functions(index,count).Lists has numerous data\n",
    "manupulating elements functions. Tuples are used when there is a requirement to protect the data without making \n",
    "any changes ad used only for reading existing data in it.\n",
    "\"\"\""
   ]
  },
  {
   "cell_type": "code",
   "execution_count": null,
   "id": "76fefe4d-9ac0-48e5-a315-7e62d494690d",
   "metadata": {},
   "outputs": [],
   "source": [
    "#14. How do you type a tuple value that only contains the integer 42?"
   ]
  },
  {
   "cell_type": "code",
   "execution_count": 61,
   "id": "6a3cea7d-90bb-4517-8264-05b2747e4895",
   "metadata": {},
   "outputs": [],
   "source": [
    "t=(42,)"
   ]
  },
  {
   "cell_type": "code",
   "execution_count": 63,
   "id": "0bf05266-d689-4e91-918f-16920083849a",
   "metadata": {},
   "outputs": [
    {
     "data": {
      "text/plain": [
       "(42,)"
      ]
     },
     "execution_count": 63,
     "metadata": {},
     "output_type": "execute_result"
    }
   ],
   "source": [
    "t"
   ]
  },
  {
   "cell_type": "code",
   "execution_count": null,
   "id": "b1872a96-566a-427f-8757-a173c3880bae",
   "metadata": {},
   "outputs": [],
   "source": [
    "#15. How do you get a list value's tuple form? How do you get a tuple value's list form?"
   ]
  },
  {
   "cell_type": "code",
   "execution_count": 64,
   "id": "516c9497-8e98-4022-9652-bb4d05c92aac",
   "metadata": {},
   "outputs": [],
   "source": [
    "t=(1,2,3,4,5)\n",
    "l=[6,7,8,9,0]"
   ]
  },
  {
   "cell_type": "code",
   "execution_count": 65,
   "id": "5cb5e39c-df66-41e5-b922-1783a6b0f1e0",
   "metadata": {},
   "outputs": [
    {
     "data": {
      "text/plain": [
       "[1, 2, 3, 4, 5]"
      ]
     },
     "execution_count": 65,
     "metadata": {},
     "output_type": "execute_result"
    }
   ],
   "source": [
    "list(t)"
   ]
  },
  {
   "cell_type": "code",
   "execution_count": 66,
   "id": "8f540ab0-fdc2-4df9-ac3b-8d9dcb80ce87",
   "metadata": {},
   "outputs": [
    {
     "data": {
      "text/plain": [
       "(6, 7, 8, 9, 0)"
      ]
     },
     "execution_count": 66,
     "metadata": {},
     "output_type": "execute_result"
    }
   ],
   "source": [
    "tuple(l)"
   ]
  },
  {
   "cell_type": "code",
   "execution_count": null,
   "id": "b987a302-9583-41ad-b392-f7634e2cfee6",
   "metadata": {},
   "outputs": [],
   "source": [
    "\"\"\"\n",
    "16. Variables that \"contain\" list values are not necessarily lists themselves. Instead, what do they\n",
    "contain?\n",
    "\n",
    "Variables contain reference to the list values rather than the list values themselves. \n",
    "\"\"\""
   ]
  },
  {
   "cell_type": "code",
   "execution_count": null,
   "id": "88a27d90-c44b-47c4-9bec-b8a1a214a537",
   "metadata": {},
   "outputs": [],
   "source": [
    "\"\"\"\n",
    "17. How do you distinguish between copy.copy() and copy.deepcopy()?\n",
    "\n",
    "copy.copy() creates new object , but the references to the elements inside it is same to the elements of \n",
    "original object\n",
    "Whereas copy.deepcopy() creates a new object and elemnts(mutable) in 2 refrences refer to 2 diff objects\n",
    "\"\"\""
   ]
  },
  {
   "cell_type": "code",
   "execution_count": 30,
   "id": "044dd1f8-8df3-48ed-acb1-576a6469e662",
   "metadata": {},
   "outputs": [],
   "source": [
    "import copy\n",
    "l=[2,3,\"Raj\",[23,34,334]]"
   ]
  },
  {
   "cell_type": "code",
   "execution_count": 31,
   "id": "0cb5d240-b8d9-4951-a3fc-0306b6629eba",
   "metadata": {},
   "outputs": [
    {
     "name": "stdout",
     "output_type": "stream",
     "text": [
      "True False\n",
      "True\n",
      "140414966114640 140414966114640\n",
      "True\n",
      "140414966114672 140414966114672\n",
      "True\n",
      "140414897603056 140414897603056\n",
      "True\n",
      "140414454814656 140414454814656\n"
     ]
    }
   ],
   "source": [
    "k=copy.copy(l)\n",
    "print(k==l, k is l)\n",
    "for i in range(len(l)):\n",
    "    print( l[i] is k[i])\n",
    "    print( id(l[i]), id(k[i]))"
   ]
  },
  {
   "cell_type": "code",
   "execution_count": 32,
   "id": "824fbfb2-3d9e-4f48-9419-7019f8951f76",
   "metadata": {},
   "outputs": [
    {
     "name": "stdout",
     "output_type": "stream",
     "text": [
      "True False\n",
      "True\n",
      "140414966114640 140414966114640\n",
      "True\n",
      "140414966114672 140414966114672\n",
      "True\n",
      "140414897603056 140414897603056\n",
      "False\n",
      "140414454814656 140414832282304\n"
     ]
    }
   ],
   "source": [
    "m=copy.deepcopy(l)\n",
    "print(l==m, l is m)\n",
    "for i in range(len(l)):\n",
    "    print( l[i] is m[i])\n",
    "    print( id(l[i]), id(m[i]))"
   ]
  },
  {
   "cell_type": "code",
   "execution_count": null,
   "id": "38b0e4fd-ce73-4cc7-97c6-f2d968294e4b",
   "metadata": {},
   "outputs": [],
   "source": [
    "#as you can see deepcopy incase of mutable objects inside list, it creates a new list instead\n",
    "#of using the existing list, so if we edit m[3] it also affects l[3]"
   ]
  }
 ],
 "metadata": {
  "kernelspec": {
   "display_name": "Python 3 (ipykernel)",
   "language": "python",
   "name": "python3"
  },
  "language_info": {
   "codemirror_mode": {
    "name": "ipython",
    "version": 3
   },
   "file_extension": ".py",
   "mimetype": "text/x-python",
   "name": "python",
   "nbconvert_exporter": "python",
   "pygments_lexer": "ipython3",
   "version": "3.9.12"
  }
 },
 "nbformat": 4,
 "nbformat_minor": 5
}
