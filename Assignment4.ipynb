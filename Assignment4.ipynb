{
 "cells": [
  {
   "cell_type": "raw",
   "id": "fb800275-c885-435a-9454-e6ce1977fa1d",
   "metadata": {},
   "source": [
    "1. What exactly is []?"
   ]
  },
  {
   "cell_type": "raw",
   "id": "da53b638-5bfa-47de-9ede-6cb6d306a8d7",
   "metadata": {},
   "source": [
    "it's an empty list"
   ]
  },
  {
   "cell_type": "raw",
   "id": "9f8b23a8-fbb5-4049-be3f-60be16e387f0",
   "metadata": {},
   "source": [
    "2. In a list of values stored in a variable called spam, how would you assign the value \"hello\" as the\n",
    "third value? (Assume [2, 4, 6, 8, 10] are in spam.)"
   ]
  },
  {
   "cell_type": "code",
   "execution_count": 7,
   "id": "c07a8151-32b7-425c-8b99-43d0b00d4601",
   "metadata": {},
   "outputs": [],
   "source": [
    "spam=[2, 4, 6, 8, 10]"
   ]
  },
  {
   "cell_type": "code",
   "execution_count": 8,
   "id": "c3b7902c-ce33-4408-96ac-f6d223726987",
   "metadata": {},
   "outputs": [],
   "source": [
    "spam[2]='Hello'"
   ]
  },
  {
   "cell_type": "code",
   "execution_count": 9,
   "id": "04dcf00b-60c9-411a-8fa5-5104fcdcc608",
   "metadata": {},
   "outputs": [
    {
     "data": {
      "text/plain": [
       "[2, 4, 'Hello', 8, 10]"
      ]
     },
     "execution_count": 9,
     "metadata": {},
     "output_type": "execute_result"
    }
   ],
   "source": [
    "spam"
   ]
  },
  {
   "cell_type": "raw",
   "id": "28bbb21e-ae39-4240-9503-589d9de0179c",
   "metadata": {},
   "source": [
    "Let's pretend the spam includes the list ['a', 'b', 'c', 'd'] for the next three queries.\n",
    "3. What is the value of spam[int(int('3' * 2) / 11)]?"
   ]
  },
  {
   "cell_type": "code",
   "execution_count": 13,
   "id": "c37fb6b4-880e-47ce-a6fd-be705499c0a7",
   "metadata": {},
   "outputs": [
    {
     "data": {
      "text/plain": [
       "['a', 'b', 'c', 'd']"
      ]
     },
     "execution_count": 13,
     "metadata": {},
     "output_type": "execute_result"
    }
   ],
   "source": [
    "spam=['a', 'b', 'c', 'd']\n",
    "spam"
   ]
  },
  {
   "cell_type": "code",
   "execution_count": 14,
   "id": "23823348-e375-40b9-b937-82f37818d3ff",
   "metadata": {},
   "outputs": [
    {
     "data": {
      "text/plain": [
       "'d'"
      ]
     },
     "execution_count": 14,
     "metadata": {},
     "output_type": "execute_result"
    }
   ],
   "source": [
    "spam[int(int('3' * 2) / 11)]"
   ]
  },
  {
   "cell_type": "raw",
   "id": "70c71e05-575a-4a57-a445-c952cfec07ed",
   "metadata": {},
   "source": [
    "4. What is the value of spam[-1]?"
   ]
  },
  {
   "cell_type": "code",
   "execution_count": 16,
   "id": "529b3697-7576-4387-a356-b1fd63c439c9",
   "metadata": {},
   "outputs": [
    {
     "data": {
      "text/plain": [
       "'d'"
      ]
     },
     "execution_count": 16,
     "metadata": {},
     "output_type": "execute_result"
    }
   ],
   "source": [
    "spam[-1]#(-1 is the last index)"
   ]
  },
  {
   "cell_type": "raw",
   "id": "7d49df3a-c8cc-4af7-a976-dfcb3c0a1be7",
   "metadata": {},
   "source": [
    "5. What is the value of spam[:2]?"
   ]
  },
  {
   "cell_type": "code",
   "execution_count": 17,
   "id": "32607430-b332-44b4-b26a-6bd6243397ee",
   "metadata": {},
   "outputs": [
    {
     "data": {
      "text/plain": [
       "['a', 'b']"
      ]
     },
     "execution_count": 17,
     "metadata": {},
     "output_type": "execute_result"
    }
   ],
   "source": [
    "spam[:2]"
   ]
  },
  {
   "cell_type": "raw",
   "id": "e185615b-0215-422d-8c87-e3215ea42dd4",
   "metadata": {},
   "source": [
    "lower index automatically taken as 0 if not specified and till 2 but not included 2 index"
   ]
  },
  {
   "cell_type": "raw",
   "id": "bcf99c3d-d3f5-4cff-852b-fe281cf431e4",
   "metadata": {},
   "source": [
    "bacon has the list [3.14, 'cat,' 11, 'cat,' True]"
   ]
  },
  {
   "cell_type": "code",
   "execution_count": 28,
   "id": "8f92787e-8e5e-417a-a11b-7957269b9f73",
   "metadata": {},
   "outputs": [],
   "source": [
    "bacon=[3.14, 'cat', 11, 'cat', True]"
   ]
  },
  {
   "cell_type": "raw",
   "id": "41e89688-64ee-445c-89ff-0a53fd43c0cc",
   "metadata": {},
   "source": [
    "6. What is the value of bacon.index('cat')?"
   ]
  },
  {
   "cell_type": "code",
   "execution_count": 29,
   "id": "93881445-c686-4418-b95d-af39f6814347",
   "metadata": {},
   "outputs": [
    {
     "data": {
      "text/plain": [
       "1"
      ]
     },
     "execution_count": 29,
     "metadata": {},
     "output_type": "execute_result"
    }
   ],
   "source": [
    "bacon.index('cat') #(returns 1st occurance of the input)"
   ]
  },
  {
   "cell_type": "raw",
   "id": "af870903-8b80-43ea-ab1f-4d50a88cb9c2",
   "metadata": {},
   "source": [
    "7. How does bacon.append(99) change the look of the list value in bacon?"
   ]
  },
  {
   "cell_type": "code",
   "execution_count": 30,
   "id": "6880eca4-0935-4d70-9d42-43659792b9a3",
   "metadata": {},
   "outputs": [
    {
     "data": {
      "text/plain": [
       "[3.14, 'cat', 11, 'cat', True, 99]"
      ]
     },
     "execution_count": 30,
     "metadata": {},
     "output_type": "execute_result"
    }
   ],
   "source": [
    "bacon.append(99)\n",
    "bacon #(added new element 99 to the list bacon)"
   ]
  },
  {
   "cell_type": "raw",
   "id": "8c145a23-3df4-423b-bed3-3d01ee24cc65",
   "metadata": {},
   "source": [
    "8. How does bacon.remove('cat') change the look of the list in bacon?"
   ]
  },
  {
   "cell_type": "code",
   "execution_count": 31,
   "id": "abbe7e92-070f-4a6a-9c57-a2582f642b98",
   "metadata": {},
   "outputs": [
    {
     "data": {
      "text/plain": [
       "[3.14, 11, 'cat', True, 99]"
      ]
     },
     "execution_count": 31,
     "metadata": {},
     "output_type": "execute_result"
    }
   ],
   "source": [
    "bacon.remove('cat')\n",
    "bacon #(reomves the 1st 'cat' occurance in the list)"
   ]
  },
  {
   "cell_type": "raw",
   "id": "b054b15a-142b-47ab-81ba-c256680b98a5",
   "metadata": {},
   "source": [
    "9. What are the list concatenation and list replication operators?"
   ]
  },
  {
   "cell_type": "raw",
   "id": "fde523b3-667e-4ffa-aee9-6be8c8bf7f24",
   "metadata": {},
   "source": [
    "concatenation(+), replication(*)"
   ]
  },
  {
   "cell_type": "code",
   "execution_count": 33,
   "id": "ec980ab9-165c-487d-b7c3-216ebc07ce76",
   "metadata": {},
   "outputs": [
    {
     "name": "stdout",
     "output_type": "stream",
     "text": [
      "['a', 'b', 'c', 'd', 'a', 'b', 'c', 'd']\n",
      "['a', 'b', 'c', 'd', 'a', 'b', 'c', 'd', 'a', 'b', 'c', 'd']\n"
     ]
    }
   ],
   "source": [
    "print(spam+spam)\n",
    "print(spam*3)"
   ]
  },
  {
   "cell_type": "raw",
   "id": "f19db20d-8084-4ac9-8daa-03718bc7b522",
   "metadata": {},
   "source": [
    "10. What is difference between the list methods append() and insert()?"
   ]
  },
  {
   "cell_type": "raw",
   "id": "ed6c0e8b-798b-451c-aab4-6028d08053b3",
   "metadata": {},
   "source": [
    "append automatically adds the element to tha last of the list.\n",
    "In insert you can choose at which index to do you need to add the element"
   ]
  },
  {
   "cell_type": "code",
   "execution_count": 48,
   "id": "c25280aa-9c2b-4c3d-8c49-63e07fba0c7c",
   "metadata": {},
   "outputs": [
    {
     "data": {
      "text/plain": [
       "['a', 'b', 'd', 'e', 'e']"
      ]
     },
     "execution_count": 48,
     "metadata": {},
     "output_type": "execute_result"
    }
   ],
   "source": [
    "spam.append('e')\n",
    "spam"
   ]
  },
  {
   "cell_type": "code",
   "execution_count": 49,
   "id": "b1af68aa-9c05-49f4-8ca8-18ce8eac18c6",
   "metadata": {},
   "outputs": [
    {
     "data": {
      "text/plain": [
       "['a', 'b', 'x', 'd', 'e', 'e']"
      ]
     },
     "execution_count": 49,
     "metadata": {},
     "output_type": "execute_result"
    }
   ],
   "source": [
    "spam.insert(2,'x')\n",
    "spam"
   ]
  },
  {
   "cell_type": "raw",
   "id": "e5fbae59-fda5-419d-a018-90625d78f73b",
   "metadata": {},
   "source": [
    "11. What are the two methods for removing items from a list?"
   ]
  },
  {
   "cell_type": "code",
   "execution_count": 50,
   "id": "1da8cdee-7729-4b84-a9ad-07a7dbda9efc",
   "metadata": {},
   "outputs": [
    {
     "data": {
      "text/plain": [
       "['a', 'b', 'd', 'e', 'e']"
      ]
     },
     "execution_count": 50,
     "metadata": {},
     "output_type": "execute_result"
    }
   ],
   "source": [
    "spam.remove('x') #(removes the element specified)\n",
    "spam"
   ]
  },
  {
   "cell_type": "code",
   "execution_count": 51,
   "id": "d96f14cb-a963-43fe-a583-6448218f5344",
   "metadata": {},
   "outputs": [
    {
     "data": {
      "text/plain": [
       "['a', 'b', 'e', 'e']"
      ]
     },
     "execution_count": 51,
     "metadata": {},
     "output_type": "execute_result"
    }
   ],
   "source": [
    "spam.pop(2) #(removes the elemnt at the index specified)\n",
    "spam"
   ]
  },
  {
   "cell_type": "raw",
   "id": "4e3c4b73-684c-4ad9-a3f1-423989efa2ee",
   "metadata": {},
   "source": [
    "12. Describe how list values and string values are identical."
   ]
  },
  {
   "cell_type": "raw",
   "id": "8dadeca6-a262-4c54-99de-2283f54340ad",
   "metadata": {},
   "source": [
    "String is an ordered collection(list) of chararacters. That is why list and string have many similar functions "
   ]
  },
  {
   "cell_type": "raw",
   "id": "493d63d8-e9c1-4d48-8562-239d865adff5",
   "metadata": {},
   "source": [
    "13. What's the difference between tuples and lists?"
   ]
  },
  {
   "cell_type": "raw",
   "id": "3a29ae66-ddd8-4237-b37f-ec8297bc4abe",
   "metadata": {},
   "source": [
    "tuples are immutable. Lists are mutable. Tuples has only 2 functions(index,count).Lists has numerous data\n",
    "manupulating elements functions. Tuples are used when there is a requirement to protect the data without making \n",
    "any changes ad used only for reading existing data in it."
   ]
  },
  {
   "cell_type": "raw",
   "id": "baf53980-2b06-41c4-b660-5ec6d9d6dbde",
   "metadata": {},
   "source": [
    "14. How do you type a tuple value that only contains the integer 42?"
   ]
  },
  {
   "cell_type": "code",
   "execution_count": 61,
   "id": "6a3cea7d-90bb-4517-8264-05b2747e4895",
   "metadata": {},
   "outputs": [],
   "source": [
    "t=(42,)"
   ]
  },
  {
   "cell_type": "code",
   "execution_count": 63,
   "id": "0bf05266-d689-4e91-918f-16920083849a",
   "metadata": {},
   "outputs": [
    {
     "data": {
      "text/plain": [
       "(42,)"
      ]
     },
     "execution_count": 63,
     "metadata": {},
     "output_type": "execute_result"
    }
   ],
   "source": [
    "t"
   ]
  },
  {
   "cell_type": "raw",
   "id": "d8819783-46bb-4368-b463-c507158939e6",
   "metadata": {},
   "source": [
    "15. How do you get a list value's tuple form? How do you get a tuple value's list form?"
   ]
  },
  {
   "cell_type": "code",
   "execution_count": 64,
   "id": "516c9497-8e98-4022-9652-bb4d05c92aac",
   "metadata": {},
   "outputs": [],
   "source": [
    "t=(1,2,3,4,5)\n",
    "l=[6,7,8,9,0]"
   ]
  },
  {
   "cell_type": "code",
   "execution_count": 65,
   "id": "5cb5e39c-df66-41e5-b922-1783a6b0f1e0",
   "metadata": {},
   "outputs": [
    {
     "data": {
      "text/plain": [
       "[1, 2, 3, 4, 5]"
      ]
     },
     "execution_count": 65,
     "metadata": {},
     "output_type": "execute_result"
    }
   ],
   "source": [
    "list(t)"
   ]
  },
  {
   "cell_type": "code",
   "execution_count": 66,
   "id": "8f540ab0-fdc2-4df9-ac3b-8d9dcb80ce87",
   "metadata": {},
   "outputs": [
    {
     "data": {
      "text/plain": [
       "(6, 7, 8, 9, 0)"
      ]
     },
     "execution_count": 66,
     "metadata": {},
     "output_type": "execute_result"
    }
   ],
   "source": [
    "tuple(l)"
   ]
  },
  {
   "cell_type": "raw",
   "id": "b16df541-49a6-484c-8282-6412f97be4cb",
   "metadata": {},
   "source": [
    "16. Variables that \"contain\" list values are not necessarily lists themselves. Instead, what do they\n",
    "contain?"
   ]
  },
  {
   "cell_type": "raw",
   "id": "ede166c8-7b92-4002-b214-e6cb262bba13",
   "metadata": {},
   "source": [
    "Variables contain reference to the list values rather than the list values themselves. "
   ]
  },
  {
   "cell_type": "raw",
   "id": "fd1a57bc-b964-49f6-b1a9-4cc400e9f71a",
   "metadata": {},
   "source": [
    "17. How do you distinguish between copy.copy() and copy.deepcopy()?"
   ]
  },
  {
   "cell_type": "raw",
   "id": "97937696-a712-434e-b8a7-c26685707dd4",
   "metadata": {},
   "source": [
    "copy.copy() creates new object , but the references to the elements inside it is same to the elements of \n",
    "original object\n",
    "Whereas copy.deepcopy() creates a new object and elemnts in 2 refrences refer to 2 diff objects"
   ]
  },
  {
   "cell_type": "code",
   "execution_count": null,
   "id": "6e4272d7-1ff6-4332-8371-903314d5b28a",
   "metadata": {},
   "outputs": [],
   "source": []
  }
 ],
 "metadata": {
  "kernelspec": {
   "display_name": "Python 3 (ipykernel)",
   "language": "python",
   "name": "python3"
  },
  "language_info": {
   "codemirror_mode": {
    "name": "ipython",
    "version": 3
   },
   "file_extension": ".py",
   "mimetype": "text/x-python",
   "name": "python",
   "nbconvert_exporter": "python",
   "pygments_lexer": "ipython3",
   "version": "3.9.12"
  }
 },
 "nbformat": 4,
 "nbformat_minor": 5
}
