{
 "cells": [
  {
   "cell_type": "code",
   "execution_count": 1,
   "id": "9a51d157",
   "metadata": {},
   "outputs": [
    {
     "data": {
      "text/plain": [
       "'\\n1. Write a Python program to print &quot;Hello Python&quot;?\\n2. Write a Python program to do arithmetical operations addition and division.?\\n3. Write a Python program to find the area of a triangle?\\n4. Write a Python program to swap two variables?\\n5. Write a Python program to generate a random number?\\n'"
      ]
     },
     "execution_count": 1,
     "metadata": {},
     "output_type": "execute_result"
    }
   ],
   "source": [
    "\"\"\"\n",
    "1. Write a Python program to print \"Hello Python\"?\n",
    "2. Write a Python program to do arithmetical operations addition and division.?\n",
    "3. Write a Python program to find the area of a triangle?\n",
    "4. Write a Python program to swap two variables?\n",
    "5. Write a Python program to generate a random number?\n",
    "\"\"\""
   ]
  },
  {
   "cell_type": "code",
   "execution_count": 1,
   "id": "864b54e4",
   "metadata": {},
   "outputs": [
    {
     "name": "stdout",
     "output_type": "stream",
     "text": [
      "Hello World\n"
     ]
    }
   ],
   "source": [
    "# 1. Write a Python program to print \"Hello Python\"?\n",
    "\n",
    "def welcome():\n",
    "    \"\"\"\n",
    "    This Func prints Hello World\n",
    "    \"\"\"\n",
    "    print(\"Hello World\")\n",
    "welcome()"
   ]
  },
  {
   "cell_type": "code",
   "execution_count": 14,
   "id": "1cd58d3e",
   "metadata": {},
   "outputs": [
    {
     "name": "stdout",
     "output_type": "stream",
     "text": [
      "The sum of 5 and 2 is 7 and a/b is 2.5\n"
     ]
    }
   ],
   "source": [
    "# 2. Write a Python program to do arithmetical operations addition and division.?\n",
    "def adddiv(a,b):\n",
    "    \"\"\"\n",
    "    This Func prints sum and division values of the given 2 inputs\n",
    "    \"\"\"\n",
    "    if type(a) !=int and type(a) !=float:\n",
    "        raise Exception (f\"Please provide integer inputs, the a is of type {type(a)}\")\n",
    "    if type(b) !=int and type(b) !=float:\n",
    "        raise Exception (f\"Please provide integer inputs, the b is of type {type(b)}\")\n",
    "    print(f\"The sum of {a} and {b} is {a+b} and a/b is {a/b}\")\n",
    "\n",
    "adddiv(5,2)"
   ]
  },
  {
   "cell_type": "code",
   "execution_count": 12,
   "id": "8eba1389",
   "metadata": {},
   "outputs": [
    {
     "name": "stdout",
     "output_type": "stream",
     "text": [
      "The area of triangle for the base: 5 and height: 5 is 12.5\n"
     ]
    }
   ],
   "source": [
    "# 3. Write a Python program to find the area of a triangle?\n",
    "def areaoftriangle(base, height):\n",
    "    \"\"\"\n",
    "    This Func generates the area of triangle for given base and height\n",
    "    \"\"\"\n",
    "    try:\n",
    "        area=(1/2)*base*height\n",
    "    except Exception as e:\n",
    "        print(f\"Please provide proper inputs and the exception is {e}\")\n",
    "    print(f\"The area of triangle for the base: {base} and height: {height} is {area}\")\n",
    "areaoftriangle(5,5)\n",
    "    "
   ]
  },
  {
   "cell_type": "code",
   "execution_count": 18,
   "id": "258b977f",
   "metadata": {},
   "outputs": [
    {
     "data": {
      "text/plain": [
       "(45, 23)"
      ]
     },
     "execution_count": 18,
     "metadata": {},
     "output_type": "execute_result"
    }
   ],
   "source": [
    "# 4. Write a Python program to swap two variables?\n",
    "def swap(a,b):\n",
    "    a=a^b\n",
    "    b=b^a\n",
    "    a=a^b\n",
    "    return a,b\n",
    "swap(23,45)"
   ]
  },
  {
   "cell_type": "code",
   "execution_count": 10,
   "id": "5fc3ac80",
   "metadata": {},
   "outputs": [
    {
     "data": {
      "text/plain": [
       "7"
      ]
     },
     "execution_count": 10,
     "metadata": {},
     "output_type": "execute_result"
    }
   ],
   "source": [
    "# 5. Write a Python program to generate a random number?\n",
    "def randomnum():\n",
    "    \"\"\"\n",
    "    This Func generates single digit random integer\n",
    "    \"\"\"\n",
    "    import random\n",
    "    return random.randint(0,9)\n",
    "\n",
    "randomnum()"
   ]
  }
 ],
 "metadata": {
  "kernelspec": {
   "display_name": "Python 3 (ipykernel)",
   "language": "python",
   "name": "python3"
  },
  "language_info": {
   "codemirror_mode": {
    "name": "ipython",
    "version": 3
   },
   "file_extension": ".py",
   "mimetype": "text/x-python",
   "name": "python",
   "nbconvert_exporter": "python",
   "pygments_lexer": "ipython3",
   "version": "3.9.12"
  }
 },
 "nbformat": 4,
 "nbformat_minor": 5
}
