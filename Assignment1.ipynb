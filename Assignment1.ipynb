{
 "cells": [
  {
   "cell_type": "code",
   "execution_count": null,
   "id": "7cd19ce3-2a81-4c4d-8be8-03c3b6d37c50",
   "metadata": {},
   "outputs": [],
   "source": [
    "\"\"\"\n",
    "1. In the below elements which of them are values or an expression? eg:- values can be\n",
    "integer or string and expressions will be mathematical operators.\n",
    "*\n",
    "'hello'\n",
    "-87.8\n",
    "-\n",
    "/\n",
    "+\n",
    "6\n",
    "\"\"\"\n",
    "\"\"\"\n",
    "*        -expression(multiplication operator)\n",
    "'hello'  -value(str)\n",
    "-87.8    -value(float)\n",
    "-        -expression(minus operator)\n",
    "/        -expression(divide operator)\n",
    "+        -expression(add operator)\n",
    "6        -value(int)\n",
    "\"\"\""
   ]
  },
  {
   "cell_type": "code",
   "execution_count": null,
   "id": "17feac7d-a07a-474c-a044-9956c9e088d5",
   "metadata": {},
   "outputs": [],
   "source": [
    "\"\"\"\n",
    "2. What is the difference between string and variable?\n",
    "\n",
    "A variable is a symbol that holds value(data).It can be of any data type. For example an integer, boolean, a class, \n",
    "a string\n",
    "A String is data. A variable can be used to store a string\n",
    "\"\"\""
   ]
  },
  {
   "cell_type": "code",
   "execution_count": null,
   "id": "9800bc60-0fd3-43de-a805-c8783500231d",
   "metadata": {},
   "outputs": [],
   "source": [
    "\"\"\"\n",
    "3. Describe three different data types.\n",
    "\n",
    "int: Holds integer(whole nums both positive and negative ) values from -2,147,483,647(~-2B) \n",
    "to 2,147,483,647(~2B)\n",
    "\n",
    "set: An unordered collection(Indexing is not possible) used mainly to avoid duplicate values.\n",
    "\n",
    "dict: A collection of key, value pairs, where keys are like keys to door lockers that hold \n",
    "something(in this case a value). Key can be used to get a hold of it's value, any key can have \n",
    "only one value but not the opposite.\n",
    "\"\"\""
   ]
  },
  {
   "cell_type": "code",
   "execution_count": null,
   "id": "57b47946-85c8-4779-8272-dfdc5ae6973c",
   "metadata": {},
   "outputs": [],
   "source": [
    "\"\"\"\n",
    "4. What is an expression made up of? What do all expressions do?\n",
    "\n",
    "Expressions are representations of value. It's composed of Identifiers, literals & Operators\n",
    "ex: List comprehension:- (x/2 for x in [2,3,4,2])\n",
    "    Dictionary comprehension:- {x:x+12 for x in range(10)}\n",
    "    Conditional expressions\n",
    "    Generator expressions :(x for x in range(2))\n",
    "\"\"\""
   ]
  },
  {
   "cell_type": "code",
   "execution_count": null,
   "id": "07524624-f99d-49e2-8ee8-2a235c6282dc",
   "metadata": {},
   "outputs": [],
   "source": [
    "\"\"\"\n",
    "5. This assignment statements, like spam = 10. What is the difference between an\n",
    "expression and a statement?\n",
    "\n",
    "the statement mentioned above represents a integer 10 is stored in variable spam. The statement itself\n",
    "doesn't represent any data. In case of expressions, the expression itself represent data, like a \n",
    "string or examples mentioned in 4th answer. As you can see below, the expression represents the data \n",
    "in console whereas the statement gets executed doing something(in this case storing value 10 in spam)\n",
    "\"\"\""
   ]
  },
  {
   "cell_type": "code",
   "execution_count": 2,
   "id": "7e813644-6f9d-43e7-a895-ca4dbc4d24d3",
   "metadata": {},
   "outputs": [
    {
     "data": {
      "text/plain": [
       "<generator object <genexpr> at 0x7f5208415d60>"
      ]
     },
     "execution_count": 2,
     "metadata": {},
     "output_type": "execute_result"
    }
   ],
   "source": [
    "(x/2 for x in [2,3,4,2])"
   ]
  },
  {
   "cell_type": "code",
   "execution_count": 3,
   "id": "11cb56b5-2898-4df7-b7cc-711c98644f2a",
   "metadata": {},
   "outputs": [],
   "source": [
    "spam = 10"
   ]
  },
  {
   "cell_type": "code",
   "execution_count": null,
   "id": "70b3875f-8e95-46ee-b923-c71182d9840d",
   "metadata": {},
   "outputs": [],
   "source": [
    "\"\"\"\n",
    "6. After running the following code, what does the variable bacon contain?\n",
    "bacon = 22\n",
    "bacon + 1\n",
    "\"\"\""
   ]
  },
  {
   "cell_type": "code",
   "execution_count": 6,
   "id": "a857e37a-61bb-4ea0-817b-fee6c807d1a6",
   "metadata": {},
   "outputs": [
    {
     "data": {
      "text/plain": [
       "22"
      ]
     },
     "execution_count": 6,
     "metadata": {},
     "output_type": "execute_result"
    }
   ],
   "source": [
    "bacon = 22\n",
    "bacon + 1\n",
    "bacon"
   ]
  },
  {
   "cell_type": "code",
   "execution_count": null,
   "id": "ba05b931-edf5-467a-a705-d8096fe7143f",
   "metadata": {},
   "outputs": [],
   "source": [
    "\"\"\"\n",
    "It still contains 22 as the 2nd line of code is not stored in bacon as shown above\n",
    "\"\"\""
   ]
  },
  {
   "cell_type": "code",
   "execution_count": null,
   "id": "0eaf9174-f810-4e1c-87b9-9371496f93bf",
   "metadata": {},
   "outputs": [],
   "source": [
    "\"\"\"\n",
    "7. What should the values of the following two terms be?\n",
    "'spam'+'spamspam'\n",
    "'spam'*3\n",
    "\n",
    "Both values are same, as mul operator with string just concats string the no of times mentioned on \n",
    "right side of operator\n",
    "\"\"\""
   ]
  },
  {
   "cell_type": "code",
   "execution_count": 7,
   "id": "236fb7ec-3464-4ca0-a9c5-4730fbfc9ad9",
   "metadata": {},
   "outputs": [
    {
     "data": {
      "text/plain": [
       "'spamspamspam'"
      ]
     },
     "execution_count": 7,
     "metadata": {},
     "output_type": "execute_result"
    }
   ],
   "source": [
    "'spam'+'spamspam'"
   ]
  },
  {
   "cell_type": "code",
   "execution_count": 8,
   "id": "a7032c8e-37e9-47a0-add6-64c5dd932d3c",
   "metadata": {},
   "outputs": [
    {
     "data": {
      "text/plain": [
       "'spamspamspam'"
      ]
     },
     "execution_count": 8,
     "metadata": {},
     "output_type": "execute_result"
    }
   ],
   "source": [
    "'spam'*3"
   ]
  },
  {
   "cell_type": "code",
   "execution_count": null,
   "id": "e85ef6b7-c112-4155-807e-dd42590e68cb",
   "metadata": {},
   "outputs": [],
   "source": [
    "\"\"\"\n",
    "8. Why is eggs a valid variable name while 100 is invalid?\n",
    "\n",
    "100  can be misinterpreted by humans also as it represents a value, also You cannot start a \n",
    "variable name with a number\n",
    "\"\"\""
   ]
  },
  {
   "cell_type": "code",
   "execution_count": null,
   "id": "7cc71cbc-e262-47ce-a881-c7e8f812935e",
   "metadata": {},
   "outputs": [],
   "source": [
    "\"\"\"\n",
    "9. What three functions can be used to get the integer, floating-point number, or string\n",
    "version of a value?\n",
    "\n",
    "int(value)\n",
    "float(value)\n",
    "str(value)\n",
    "\"\"\""
   ]
  },
  {
   "cell_type": "code",
   "execution_count": 18,
   "id": "cfb68112-bcae-45d7-bc5c-841dd38ceada",
   "metadata": {},
   "outputs": [
    {
     "name": "stdout",
     "output_type": "stream",
     "text": [
      "23\n",
      "3.34\n",
      "1323\n"
     ]
    }
   ],
   "source": [
    "print(int('23'))\n",
    "print(float('3.34'))\n",
    "print(str(1323))      "
   ]
  },
  {
   "cell_type": "code",
   "execution_count": null,
   "id": "8d0c255b-a0e7-430c-ab80-c4fa5551434d",
   "metadata": {},
   "outputs": [],
   "source": [
    "\"\"\"\n",
    "10. Why does this expression cause an error? How can you fix it?\n",
    "'I have eaten' + 99 +'burritos.'\n",
    "\n",
    "Converting 99 to string can fix it.(You can also write a print statement and replace '+' with ',')\n",
    "\"\"\""
   ]
  },
  {
   "cell_type": "code",
   "execution_count": 11,
   "id": "e522cb12-175c-4ef5-a772-185a145f0d96",
   "metadata": {},
   "outputs": [
    {
     "ename": "TypeError",
     "evalue": "can only concatenate str (not \"int\") to str",
     "output_type": "error",
     "traceback": [
      "\u001b[0;31m---------------------------------------------------------------------------\u001b[0m",
      "\u001b[0;31mTypeError\u001b[0m                                 Traceback (most recent call last)",
      "Input \u001b[0;32mIn [11]\u001b[0m, in \u001b[0;36m<cell line: 1>\u001b[0;34m()\u001b[0m\n\u001b[0;32m----> 1\u001b[0m \u001b[38;5;124;43m'\u001b[39;49m\u001b[38;5;124;43mI have eaten\u001b[39;49m\u001b[38;5;124;43m'\u001b[39;49m\u001b[43m \u001b[49m\u001b[38;5;241;43m+\u001b[39;49m\u001b[43m \u001b[49m\u001b[38;5;241;43m99\u001b[39;49m \u001b[38;5;241m+\u001b[39m\u001b[38;5;124m'\u001b[39m\u001b[38;5;124mburritos.\u001b[39m\u001b[38;5;124m'\u001b[39m\n",
      "\u001b[0;31mTypeError\u001b[0m: can only concatenate str (not \"int\") to str"
     ]
    }
   ],
   "source": [
    "'I have eaten' + 99 +'burritos.'"
   ]
  },
  {
   "cell_type": "code",
   "execution_count": 2,
   "id": "151e98a4-c0a5-4336-a355-c727d4ca2f08",
   "metadata": {},
   "outputs": [
    {
     "data": {
      "text/plain": [
       "'I have eaten 99 burritos.'"
      ]
     },
     "execution_count": 2,
     "metadata": {},
     "output_type": "execute_result"
    }
   ],
   "source": [
    "'I have eaten ' + str(99) +' burritos.'"
   ]
  },
  {
   "cell_type": "code",
   "execution_count": null,
   "id": "df5ca7c1-849c-45f3-b7cd-4cdf653b4c7b",
   "metadata": {},
   "outputs": [],
   "source": []
  }
 ],
 "metadata": {
  "kernelspec": {
   "display_name": "Python 3 (ipykernel)",
   "language": "python",
   "name": "python3"
  },
  "language_info": {
   "codemirror_mode": {
    "name": "ipython",
    "version": 3
   },
   "file_extension": ".py",
   "mimetype": "text/x-python",
   "name": "python",
   "nbconvert_exporter": "python",
   "pygments_lexer": "ipython3",
   "version": "3.9.12"
  }
 },
 "nbformat": 4,
 "nbformat_minor": 5
}
