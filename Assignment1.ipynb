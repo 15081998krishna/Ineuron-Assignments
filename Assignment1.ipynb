{
 "cells": [
  {
   "cell_type": "raw",
   "id": "5d1d7810-f68e-4ccf-b90d-9c24080cee36",
   "metadata": {},
   "source": [
    "1. In the below elements which of them are values or an expression? eg:- values can be\n",
    "integer or string and expressions will be mathematical operators.\n",
    "*\n",
    "'hello'\n",
    "-87.8\n",
    "-\n",
    "/\n",
    "+\n",
    "6"
   ]
  },
  {
   "cell_type": "raw",
   "id": "3021415a-2872-4b31-93d9-e4e147e2064d",
   "metadata": {},
   "source": [
    "*        -expression(multiplication operator)\n",
    "'hello'  -value(str)\n",
    "-87.8    -value(float)\n",
    "-        -expression(minus operator)\n",
    "/        -expression(divide operator)\n",
    "+        -expression(add operator)\n",
    "6        -value(int)"
   ]
  },
  {
   "cell_type": "raw",
   "id": "f9b1dda6-6485-4fd8-956b-3a502aea6573",
   "metadata": {},
   "source": [
    "2. What is the difference between string and variable?"
   ]
  },
  {
   "cell_type": "raw",
   "id": "01b1afb8-2cb9-4fa1-a532-fc592925a461",
   "metadata": {},
   "source": [
    "A variable is a symbol that holds value(data).It can be of any data type. For example an integer, boolean, a class, \n",
    "a string\n",
    "A String is data. A variable can be used to store a string"
   ]
  },
  {
   "cell_type": "raw",
   "id": "c82acf63-07be-46ba-ad37-b49c416f8564",
   "metadata": {},
   "source": [
    "3. Describe three different data types."
   ]
  },
  {
   "cell_type": "raw",
   "id": "e0251337-4617-413c-af80-fd1d34a10dfb",
   "metadata": {},
   "source": [
    "int: Holds integer(whole nums both positive and negative ) values from -2,147,483,647(~-2B) to 2,147,483,647(~2B)\n",
    "\n",
    "set: An unordered collection(Indexing is not possible) used mainly to avoid duplicate values.\n",
    "\n",
    "dict: A collection of key, value pairs, where keys are like keys to door lockers that hold something(in this case a value). Key can be used to get a hold of it's value, any key can have only one value but not the opposite."
   ]
  },
  {
   "cell_type": "raw",
   "id": "97646b81-670d-4df0-9ba3-aff922fe3509",
   "metadata": {},
   "source": [
    "4. What is an expression made up of? What do all expressions do?"
   ]
  },
  {
   "cell_type": "raw",
   "id": "b82e0f40-5c4f-4b2f-9112-abb7c68614c1",
   "metadata": {},
   "source": [
    "Expressions are representations of value. It's composed of Identifiers, literals & Operators\n",
    "ex: List comprehension:- (x/2 for x in [2,3,4,2])\n",
    "    Dictionary comprehension:- {x:x+12 for x in range(10)}\n",
    "    Conditional expressions\n",
    "    Generator expressions :(x for x in range(2))"
   ]
  },
  {
   "cell_type": "raw",
   "id": "e3a98155-bbf4-484e-a951-f7fc09fe8efe",
   "metadata": {},
   "source": [
    "5. This assignment statements, like spam = 10. What is the difference between an\n",
    "expression and a statement?"
   ]
  },
  {
   "cell_type": "raw",
   "id": "6c0f4cb7-fc65-4a44-97ac-52b088150d6a",
   "metadata": {},
   "source": [
    "the statement mentioned above represents a integer 10 is stored in variable spam. The statement itself\n",
    "doesn't represent any data. In case of expressions, the expression itself represent data, like a string or examples mentioned in 4th answer. As you can see below, the expression represents the data in console whereas the statement gets executed doing something(in this case storing value 10 in spam)"
   ]
  },
  {
   "cell_type": "code",
   "execution_count": 2,
   "id": "7e813644-6f9d-43e7-a895-ca4dbc4d24d3",
   "metadata": {},
   "outputs": [
    {
     "data": {
      "text/plain": [
       "<generator object <genexpr> at 0x7f5208415d60>"
      ]
     },
     "execution_count": 2,
     "metadata": {},
     "output_type": "execute_result"
    }
   ],
   "source": [
    "(x/2 for x in [2,3,4,2])"
   ]
  },
  {
   "cell_type": "code",
   "execution_count": 3,
   "id": "11cb56b5-2898-4df7-b7cc-711c98644f2a",
   "metadata": {},
   "outputs": [],
   "source": [
    "spam = 10"
   ]
  },
  {
   "cell_type": "raw",
   "id": "48feaa51-b7d5-41fd-a711-4872cf02f20e",
   "metadata": {},
   "source": [
    "6. After running the following code, what does the variable bacon contain?\n",
    "bacon = 22\n",
    "bacon + 1"
   ]
  },
  {
   "cell_type": "code",
   "execution_count": 6,
   "id": "a857e37a-61bb-4ea0-817b-fee6c807d1a6",
   "metadata": {},
   "outputs": [
    {
     "data": {
      "text/plain": [
       "22"
      ]
     },
     "execution_count": 6,
     "metadata": {},
     "output_type": "execute_result"
    }
   ],
   "source": [
    "bacon = 22\n",
    "bacon + 1\n",
    "bacon"
   ]
  },
  {
   "cell_type": "raw",
   "id": "52ac6df8-5f37-472b-87c4-d5909a507182",
   "metadata": {},
   "source": [
    "It still contains 22 as the 2nd line of code is not stored in bacon as shown above"
   ]
  },
  {
   "cell_type": "raw",
   "id": "cf856471-0f3c-4efa-9c24-024a457c4b7f",
   "metadata": {},
   "source": [
    "7. What should the values of the following two terms be?\n",
    "'spam'+'spamspam'\n",
    "'spam'*3"
   ]
  },
  {
   "cell_type": "code",
   "execution_count": 7,
   "id": "236fb7ec-3464-4ca0-a9c5-4730fbfc9ad9",
   "metadata": {},
   "outputs": [
    {
     "data": {
      "text/plain": [
       "'spamspamspam'"
      ]
     },
     "execution_count": 7,
     "metadata": {},
     "output_type": "execute_result"
    }
   ],
   "source": [
    "'spam'+'spamspam'"
   ]
  },
  {
   "cell_type": "code",
   "execution_count": 8,
   "id": "a7032c8e-37e9-47a0-add6-64c5dd932d3c",
   "metadata": {},
   "outputs": [
    {
     "data": {
      "text/plain": [
       "'spamspamspam'"
      ]
     },
     "execution_count": 8,
     "metadata": {},
     "output_type": "execute_result"
    }
   ],
   "source": [
    "'spam'*3"
   ]
  },
  {
   "cell_type": "raw",
   "id": "4d87f5f0-cac1-43d9-805d-eacf326710fb",
   "metadata": {},
   "source": [
    "Both values are same, as mul operator with string just concats string the no of times mentioned on \n",
    "right side of operator"
   ]
  },
  {
   "cell_type": "raw",
   "id": "c30dca12-b69c-4ee9-91c8-72d2287474ab",
   "metadata": {},
   "source": [
    "8. Why is eggs a valid variable name while 100 is invalid?"
   ]
  },
  {
   "cell_type": "raw",
   "id": "fc8b176c-36ba-4cd1-adbc-9e238fb582f4",
   "metadata": {},
   "source": [
    "100  can be misinterpreted by humans also as it represents a value, also You cannot start a \n",
    "variable name with a number"
   ]
  },
  {
   "cell_type": "raw",
   "id": "1c390ad3-5b9f-4fb6-8f30-e78326a53845",
   "metadata": {},
   "source": [
    "9. What three functions can be used to get the integer, floating-point number, or string\n",
    "version of a value?"
   ]
  },
  {
   "cell_type": "raw",
   "id": "2ace479e-96b4-422c-9091-1409b55b6281",
   "metadata": {},
   "source": [
    "int(value)\n",
    "float(value)\n",
    "str(value)"
   ]
  },
  {
   "cell_type": "code",
   "execution_count": 18,
   "id": "cfb68112-bcae-45d7-bc5c-841dd38ceada",
   "metadata": {},
   "outputs": [
    {
     "name": "stdout",
     "output_type": "stream",
     "text": [
      "23\n",
      "3.34\n",
      "1323\n"
     ]
    }
   ],
   "source": [
    "print(int('23'))\n",
    "print(float('3.34'))\n",
    "print(str(1323))      "
   ]
  },
  {
   "cell_type": "raw",
   "id": "ae42ace6-78f9-4fda-aa08-f10362bd936a",
   "metadata": {},
   "source": [
    "10. Why does this expression cause an error? How can you fix it?\n",
    "'I have eaten' + 99 +'burritos.'"
   ]
  },
  {
   "cell_type": "code",
   "execution_count": 11,
   "id": "e522cb12-175c-4ef5-a772-185a145f0d96",
   "metadata": {},
   "outputs": [
    {
     "ename": "TypeError",
     "evalue": "can only concatenate str (not \"int\") to str",
     "output_type": "error",
     "traceback": [
      "\u001b[0;31m---------------------------------------------------------------------------\u001b[0m",
      "\u001b[0;31mTypeError\u001b[0m                                 Traceback (most recent call last)",
      "Input \u001b[0;32mIn [11]\u001b[0m, in \u001b[0;36m<cell line: 1>\u001b[0;34m()\u001b[0m\n\u001b[0;32m----> 1\u001b[0m \u001b[38;5;124;43m'\u001b[39;49m\u001b[38;5;124;43mI have eaten\u001b[39;49m\u001b[38;5;124;43m'\u001b[39;49m\u001b[43m \u001b[49m\u001b[38;5;241;43m+\u001b[39;49m\u001b[43m \u001b[49m\u001b[38;5;241;43m99\u001b[39;49m \u001b[38;5;241m+\u001b[39m\u001b[38;5;124m'\u001b[39m\u001b[38;5;124mburritos.\u001b[39m\u001b[38;5;124m'\u001b[39m\n",
      "\u001b[0;31mTypeError\u001b[0m: can only concatenate str (not \"int\") to str"
     ]
    }
   ],
   "source": [
    "'I have eaten' + 99 +'burritos.'"
   ]
  },
  {
   "cell_type": "code",
   "execution_count": 16,
   "id": "151e98a4-c0a5-4336-a355-c727d4ca2f08",
   "metadata": {},
   "outputs": [
    {
     "data": {
      "text/plain": [
       "'I have eaten 99 burritos.'"
      ]
     },
     "execution_count": 16,
     "metadata": {},
     "output_type": "execute_result"
    }
   ],
   "source": [
    "'I have eaten ' + str(99) +' burritos.'"
   ]
  },
  {
   "cell_type": "code",
   "execution_count": null,
   "id": "1cb870bb-0f9d-4a07-8f0e-11b49b9450bc",
   "metadata": {},
   "outputs": [],
   "source": [
    "'I have eaten ' + str(99) +' burritos.'"
   ]
  },
  {
   "cell_type": "code",
   "execution_count": null,
   "id": "0a6d9531-98ce-47ca-a926-87afc2dddbdc",
   "metadata": {},
   "outputs": [],
   "source": [
    "Converting 99 to string can fix it.(You can also write a print statement and replace '+' with ',')"
   ]
  }
 ],
 "metadata": {
  "kernelspec": {
   "display_name": "Python 3 (ipykernel)",
   "language": "python",
   "name": "python3"
  },
  "language_info": {
   "codemirror_mode": {
    "name": "ipython",
    "version": 3
   },
   "file_extension": ".py",
   "mimetype": "text/x-python",
   "name": "python",
   "nbconvert_exporter": "python",
   "pygments_lexer": "ipython3",
   "version": "3.9.12"
  }
 },
 "nbformat": 4,
 "nbformat_minor": 5
}
