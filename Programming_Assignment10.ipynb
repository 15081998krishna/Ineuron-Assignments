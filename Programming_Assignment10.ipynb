{
 "cells": [
  {
   "cell_type": "code",
   "execution_count": null,
   "id": "d5664a57",
   "metadata": {},
   "outputs": [],
   "source": [
    "\"\"\"\n",
    "1. Write a Python program to find sum of elements in list?\n",
    "2. Write a Python program to Multiply all numbers in the list?\n",
    "3. Write a Python program to find smallest number in a list?\n",
    "4. Write a Python program to find largest number in a list?\n",
    "5. Write a Python program to find second largest number in a list?\n",
    "6. Write a Python program to find N largest elements from a list?\n",
    "7. Write a Python program to print even numbers in a list?\n",
    "8. Write a Python program to print odd numbers in a List?\n",
    "9. Write a Python program to Remove empty List from List?\n",
    "10. Write a Python program to Cloning or Copying a list?\n",
    "11. Write a Python program to Count occurrences of an element in a list?\n",
    "\"\"\""
   ]
  },
  {
   "cell_type": "code",
   "execution_count": 1,
   "id": "edf8334f",
   "metadata": {},
   "outputs": [
    {
     "name": "stdout",
     "output_type": "stream",
     "text": [
      "15\n"
     ]
    },
    {
     "data": {
      "text/plain": [
       "15"
      ]
     },
     "execution_count": 1,
     "metadata": {},
     "output_type": "execute_result"
    }
   ],
   "source": [
    "\"\"\"\n",
    "1. Write a Python program to find sum of elements in list?\n",
    "\"\"\"\n",
    "#we can also use sum(lst)\n",
    "def tsum(lst):\n",
    "    total=0\n",
    "    for i in lst:\n",
    "        total+=i\n",
    "    return total\n",
    "\n",
    "my_list = [1, 2, 3, 4, 5]\n",
    "print(tsum(my_list))\n",
    "sum(my_list)\n"
   ]
  },
  {
   "cell_type": "code",
   "execution_count": 2,
   "id": "0e778988",
   "metadata": {},
   "outputs": [
    {
     "name": "stdout",
     "output_type": "stream",
     "text": [
      "120\n"
     ]
    },
    {
     "data": {
      "text/plain": [
       "120"
      ]
     },
     "execution_count": 2,
     "metadata": {},
     "output_type": "execute_result"
    }
   ],
   "source": [
    "\"\"\"\n",
    "2. Write a Python program to Multiply all numbers in the list?\n",
    "\"\"\"\n",
    "def tmultiply(lst):\n",
    "    total=1\n",
    "    for i in lst:\n",
    "        total*=i\n",
    "    return total\n",
    "\n",
    "my_list = [1, 2, 3, 4, 5]\n",
    "print(tmultiply(my_list))\n",
    "\n",
    "import math\n",
    "math.prod(my_list)"
   ]
  },
  {
   "cell_type": "code",
   "execution_count": 3,
   "id": "0d86c4bc",
   "metadata": {},
   "outputs": [
    {
     "name": "stdout",
     "output_type": "stream",
     "text": [
      "-6\n"
     ]
    },
    {
     "data": {
      "text/plain": [
       "-6"
      ]
     },
     "execution_count": 3,
     "metadata": {},
     "output_type": "execute_result"
    }
   ],
   "source": [
    "\"\"\"\n",
    "3. Write a Python program to find smallest number in a list?\n",
    "\"\"\"\n",
    "def smallest(lst):\n",
    "    small=lst[0]\n",
    "    for i in lst:\n",
    "        if i<small:\n",
    "            small=i\n",
    "    return small\n",
    "\n",
    "my_list = [1, 2, 3, 4, 5,-6]\n",
    "print(smallest(my_list))\n",
    "min(my_list)"
   ]
  },
  {
   "cell_type": "code",
   "execution_count": 4,
   "id": "4f20b53d",
   "metadata": {},
   "outputs": [
    {
     "name": "stdout",
     "output_type": "stream",
     "text": [
      "5\n"
     ]
    },
    {
     "data": {
      "text/plain": [
       "5"
      ]
     },
     "execution_count": 4,
     "metadata": {},
     "output_type": "execute_result"
    }
   ],
   "source": [
    "\"\"\"\n",
    "4. Write a Python program to find largest number in a list?\n",
    "\"\"\"\n",
    "\n",
    "def largest(lst):\n",
    "    large=lst[0]\n",
    "    for i in lst:\n",
    "        if i>large:\n",
    "            large=i\n",
    "    return large\n",
    "\n",
    "my_list = [1, 2, 3, 4, 5,-6]\n",
    "print(largest(my_list))\n",
    "max(my_list)"
   ]
  },
  {
   "cell_type": "code",
   "execution_count": 8,
   "id": "f24600f7",
   "metadata": {},
   "outputs": [
    {
     "name": "stdout",
     "output_type": "stream",
     "text": [
      "4\n"
     ]
    }
   ],
   "source": [
    "\"\"\"\n",
    "5. Write a Python program to find second largest number in a list?\n",
    "\"\"\"\n",
    "def sec_large(lst):\n",
    "    if len(lst)<2:\n",
    "        raise ValueError(\"The list must have atleat 2 numbers\")\n",
    "    lst.sort()\n",
    "    return lst[-2]\n",
    "\n",
    "my_list = [1, 2, 3, 4, 5,-6]\n",
    "print(sec_large(my_list))"
   ]
  },
  {
   "cell_type": "code",
   "execution_count": 13,
   "id": "2d86d394",
   "metadata": {},
   "outputs": [
    {
     "name": "stdout",
     "output_type": "stream",
     "text": [
      "[234, 234, 234, 45, 44, 35]\n"
     ]
    }
   ],
   "source": [
    "\"\"\"\n",
    "6. Write a Python program to find N largest elements from a list?\n",
    "\"\"\"\n",
    "\n",
    "def nlargest(lst,n):\n",
    "    if len(lst)<n:\n",
    "        raise ValueError(f\"The list must have atleat {n} numbers\")\n",
    "    lst.sort()\n",
    "    return lst[-1:-(n+1):-1]\n",
    "\n",
    "my_list = [1, 2, 3, 4, 5,-6,234,44,2,35,234,234,45,34,21,3,34,0]\n",
    "print(nlargest(my_list,6))"
   ]
  },
  {
   "cell_type": "code",
   "execution_count": 17,
   "id": "55437f22",
   "metadata": {},
   "outputs": [
    {
     "name": "stdout",
     "output_type": "stream",
     "text": [
      "2 4 -6 234 44 2 234 234 34 34 0 "
     ]
    }
   ],
   "source": [
    "\"\"\"\n",
    "7. Write a Python program to print even numbers in a list?\n",
    "\"\"\"\n",
    "def printeven(lst):\n",
    "    for i in lst:\n",
    "        if i%2==0:\n",
    "            print(i, end=\" \")\n",
    "\n",
    "my_list = [1, 2, 3, 4, 5,-6,234,44,2,35,234,234,45,34,21,3,34,0]\n",
    "printeven(my_list)"
   ]
  },
  {
   "cell_type": "code",
   "execution_count": 18,
   "id": "0ac3dbfb",
   "metadata": {},
   "outputs": [
    {
     "name": "stdout",
     "output_type": "stream",
     "text": [
      "1 3 5 35 45 21 3 "
     ]
    }
   ],
   "source": [
    "\"\"\"\n",
    "8. Write a Python program to print odd numbers in a List?\n",
    "\"\"\"\n",
    "\n",
    "def printodd(lst):\n",
    "    for i in lst:\n",
    "        if i%2!=0:\n",
    "            print(i, end=\" \")\n",
    "\n",
    "my_list = [1, 2, 3, 4, 5,-6,234,44,2,35,234,234,45,34,21,3,34,0]\n",
    "printodd(my_list)"
   ]
  },
  {
   "cell_type": "code",
   "execution_count": 26,
   "id": "2d520a87",
   "metadata": {},
   "outputs": [
    {
     "name": "stdout",
     "output_type": "stream",
     "text": [
      "[1, [2, 3], 4, 5, [-6, 234, 44], 2, 35, 234, 234, 45, 34, 21, 3, 34, 0]\n"
     ]
    }
   ],
   "source": [
    "\"\"\"\n",
    "9. Write a Python program to Remove empty List from List?\n",
    "\"\"\"\n",
    "def removeemptylist(lst):\n",
    "    for i in lst:\n",
    "        if (type(i)==list and len(i)==0):\n",
    "            lst.remove(i)\n",
    "    return lst\n",
    "\n",
    "my_list = [[],1, [2, 3], 4, 5,[-6,234,44],2,35,234,[],234,45,34,21,[],3,34,0]\n",
    "print(removeemptylist(my_list))"
   ]
  },
  {
   "cell_type": "code",
   "execution_count": 30,
   "id": "9a7c2350",
   "metadata": {},
   "outputs": [
    {
     "name": "stdout",
     "output_type": "stream",
     "text": [
      "[1, 2, 3, 4, 5, -6]\n",
      "[1, 2, 3, 4, 5, -6]\n"
     ]
    }
   ],
   "source": [
    "\"\"\"\n",
    "10. Write a Python program to Cloning or Copying a list?\n",
    "\"\"\"\n",
    "def copylist(lst):\n",
    "    return lst.copy()\n",
    "\n",
    "my_list = [1, 2, 3, 4, 5,-6]\n",
    "print(copylist(my_list))\n",
    "k=list(my_list)\n",
    "print(k)"
   ]
  },
  {
   "cell_type": "code",
   "execution_count": 32,
   "id": "a3c1f5b3",
   "metadata": {},
   "outputs": [
    {
     "data": {
      "text/plain": [
       "4"
      ]
     },
     "execution_count": 32,
     "metadata": {},
     "output_type": "execute_result"
    }
   ],
   "source": [
    "\"\"\"\n",
    "11. Write a Python program to Count occurrences of an element in a list?\n",
    "\"\"\"\n",
    "def countocc(lst,ele):\n",
    "    count=0\n",
    "    for i in lst:\n",
    "        if i==ele:\n",
    "            count+=1\n",
    "    return count\n",
    "\n",
    "my_list = [1, 2, 3, 4, 2, 2, 5, 2]\n",
    "\n",
    "element_to_count = 2\n",
    "\n",
    "countocc(my_list, element_to_count)"
   ]
  },
  {
   "cell_type": "code",
   "execution_count": null,
   "id": "2dc33fd4",
   "metadata": {},
   "outputs": [],
   "source": []
  }
 ],
 "metadata": {
  "kernelspec": {
   "display_name": "Python 3 (ipykernel)",
   "language": "python",
   "name": "python3"
  },
  "language_info": {
   "codemirror_mode": {
    "name": "ipython",
    "version": 3
   },
   "file_extension": ".py",
   "mimetype": "text/x-python",
   "name": "python",
   "nbconvert_exporter": "python",
   "pygments_lexer": "ipython3",
   "version": "3.9.12"
  }
 },
 "nbformat": 4,
 "nbformat_minor": 5
}
