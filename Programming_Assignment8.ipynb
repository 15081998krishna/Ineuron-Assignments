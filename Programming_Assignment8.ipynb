{
 "cells": [
  {
   "cell_type": "code",
   "execution_count": null,
   "id": "9b0f9b91",
   "metadata": {},
   "outputs": [],
   "source": [
    "\"\"\"\n",
    "1. Write a Python Program to Add Two Matrices?\n",
    "2. Write a Python Program to Multiply Two Matrices?\n",
    "3. Write a Python Program to Transpose a Matrix?\n",
    "4. Write a Python Program to Sort Words in Alphabetic Order?\n",
    "5. Write a Python Program to Remove Punctuation From a String?\n",
    "\"\"\""
   ]
  },
  {
   "cell_type": "code",
   "execution_count": 6,
   "id": "281d1640",
   "metadata": {},
   "outputs": [
    {
     "name": "stdout",
     "output_type": "stream",
     "text": [
      "[10, 10, 10]\n",
      "[10, 10, 10]\n",
      "[10, 10, 10]\n"
     ]
    }
   ],
   "source": [
    "\"\"\"\n",
    "1. Write a Python Program to Add Two Matrices?\n",
    "\"\"\"\n",
    "\n",
    "def add2matrices(m1, m2):\n",
    "    rows=len(m1)\n",
    "    cols=len(m1[0])\n",
    "    \n",
    "    #we can only add 2 matrices if they have same row and cols\n",
    "    if (len(m1)!=len(m2)) or len(m1[0])!=len(m2[0]):\n",
    "        raise ValueError(\"The 2 matrices are of differe dimensions, they can't be added\")\n",
    "        \n",
    "    for i in range(rows):\n",
    "        for j in range(cols):\n",
    "            m1[i][j]=m1[i][j]+m2[i][j]\n",
    "    return m1\n",
    "matrix1 = [[1, 2, 3], [4, 5, 6], [7, 8, 9]]\n",
    "matrix2 = [[9, 8, 7], [6, 5, 4], [3, 2, 1]]\n",
    "\n",
    "result = add2matrices(matrix1, matrix2)\n",
    "for row in result:\n",
    "    print(row)"
   ]
  },
  {
   "cell_type": "code",
   "execution_count": 14,
   "id": "ad1554f9",
   "metadata": {},
   "outputs": [
    {
     "name": "stdout",
     "output_type": "stream",
     "text": [
      "[58, 64]\n",
      "[139, 154]\n"
     ]
    }
   ],
   "source": [
    "\"\"\"\n",
    "2. Write a Python Program to Multiply Two Matrices?\n",
    "\"\"\"\n",
    "def multiplymatrices(m1, m2):\n",
    "    c1=len(m1[0])\n",
    "    c2=len(m2[0])\n",
    "    r2=len(m2)\n",
    "    r1=len(m1)\n",
    "    \n",
    "    if c1!=r2:\n",
    "        raise ValueError(\"The number of columns of 1st matrix is not equal to rows of 2nd matrix, so they can't be multiplied\")\n",
    "        \n",
    "    result = [[0] * c2 for i in range(r1)]\n",
    "\n",
    "    for i in range(r1):\n",
    "        for j in range(c2):\n",
    "            for k in range(c1):\n",
    "                result[i][j] += matrix1[i][k] * matrix2[k][j]   \n",
    "    return result\n",
    "\n",
    "matrix1 = [[1, 2, 3], [4, 5, 6]]\n",
    "matrix2 = [[7, 8], [9, 10], [11, 12]]\n",
    "\n",
    "result = multiplymatrices(matrix1, matrix2)\n",
    "for row in result:\n",
    "    print(row)"
   ]
  },
  {
   "cell_type": "code",
   "execution_count": 21,
   "id": "6daa508e",
   "metadata": {},
   "outputs": [
    {
     "name": "stdout",
     "output_type": "stream",
     "text": [
      "[1, 4, 7]\n",
      "[2, 5, 8]\n"
     ]
    }
   ],
   "source": [
    "\"\"\"\n",
    "3. Write a Python Program to Transpose a Matrix?\n",
    "\"\"\"\n",
    "\n",
    "def transposeMatrix(m1):\n",
    "    c1=len(m1[0])\n",
    "    r1=len(m1)\n",
    "    \n",
    "    result=[[0]* r1 for _ in range(c1)]\n",
    "    \n",
    "    for i in range(r1):\n",
    "        for j in range(c1):\n",
    "            result[j][i]=m1[i][j]\n",
    "    return result\n",
    "\n",
    "matrix = [[1, 2], [4, 5], [7, 8]]\n",
    "\n",
    "transposed = transposeMatrix(matrix)\n",
    "for row in transposed:\n",
    "    print(row)"
   ]
  },
  {
   "cell_type": "code",
   "execution_count": 27,
   "id": "c21af7f9",
   "metadata": {},
   "outputs": [
    {
     "name": "stdout",
     "output_type": "stream",
     "text": [
      "['banana', 'apple', 'cherry', 'date', 'elderberry', 'wehri', 'cadt']\n",
      "['apple', 'banana', 'cadt', 'cherry', 'date', 'elderberry', 'wehri']\n"
     ]
    }
   ],
   "source": [
    "\"\"\"\n",
    "4. Write a Python Program to Sort Words in Alphabetic Order?\n",
    "\"\"\"\n",
    "def sort_words(arr):\n",
    "    return sorted(arr)\n",
    "\n",
    "word_list = ['banana', 'apple', 'cherry', 'date', 'elderberry',\"wehri\",\"cadt\"]\n",
    "\n",
    "sorted_list = sort_words(word_list)\n",
    "\n",
    "print(word_list)\n",
    "print(sorted_list)"
   ]
  },
  {
   "cell_type": "code",
   "execution_count": null,
   "id": "a8f870cf",
   "metadata": {},
   "outputs": [],
   "source": [
    "\"\"\"\n",
    "5. Write a Python Program to Remove Punctuation From a String?\n",
    "\"\"\""
   ]
  },
  {
   "cell_type": "code",
   "execution_count": 51,
   "id": "9a3e4a5e",
   "metadata": {},
   "outputs": [
    {
     "name": "stdout",
     "output_type": "stream",
     "text": [
      "Hello world How are you today\n"
     ]
    }
   ],
   "source": [
    "import string\n",
    "def rem_punc2(str):\n",
    "    k=[i for i in string.punctuation]\n",
    "    m=text\n",
    "    for i in k:\n",
    "        m=m.replace(i,\"\")\n",
    "    return m\n",
    "\n",
    "text = \"Hello, world! How are you today?\"\n",
    "print(rem_punc2(text))"
   ]
  },
  {
   "cell_type": "code",
   "execution_count": 52,
   "id": "556c8535",
   "metadata": {},
   "outputs": [
    {
     "name": "stdout",
     "output_type": "stream",
     "text": [
      "Hello world How are you today\n"
     ]
    }
   ],
   "source": [
    "import string\n",
    "\n",
    "def rem_punc(str):\n",
    "#translate function takes translation table as input, which can be generated by maketrans fucntion\n",
    "#maketrans arguments varies from 1 to 3, in out case, all the 3rd input gets replaced by None\n",
    "    no_punct = text.translate(str.maketrans(\"\", \"\", string.punctuation))\n",
    "    return no_punct\n",
    "\n",
    "\n",
    "text = \"Hello, world! How are you today?\"\n",
    "print(rem_punc(text))"
   ]
  },
  {
   "cell_type": "code",
   "execution_count": 34,
   "id": "ad16bcdb",
   "metadata": {},
   "outputs": [
    {
     "data": {
      "text/plain": [
       "str"
      ]
     },
     "execution_count": 34,
     "metadata": {},
     "output_type": "execute_result"
    }
   ],
   "source": [
    "type(string.punctuation)"
   ]
  }
 ],
 "metadata": {
  "kernelspec": {
   "display_name": "Python 3 (ipykernel)",
   "language": "python",
   "name": "python3"
  },
  "language_info": {
   "codemirror_mode": {
    "name": "ipython",
    "version": 3
   },
   "file_extension": ".py",
   "mimetype": "text/x-python",
   "name": "python",
   "nbconvert_exporter": "python",
   "pygments_lexer": "ipython3",
   "version": "3.9.12"
  }
 },
 "nbformat": 4,
 "nbformat_minor": 5
}
