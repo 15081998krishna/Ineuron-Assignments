{
 "cells": [
  {
   "cell_type": "raw",
   "id": "b707259f-5334-411a-8e8d-cef077e488da",
   "metadata": {},
   "source": [
    "1. What are escape characters, and how do you use them?\n",
    "2. What do the escape characters n and t stand for?\n",
    "3. What is the way to include backslash characters in a string?\n",
    "4. The string \"Howl's Moving Castle\" is a correct value. Why isn't the single quote character in the\n",
    "word Howl's not escaped a problem?\n",
    "5. How do you write a string of newlines if you don't want to use the n character?\n",
    "6. What are the values of the given expressions?\n",
    "'Hello, world!'[1]\n",
    "'Hello, world!'[0:5]\n",
    "'Hello, world!'[:5]\n",
    "'Hello, world!'[3:]\n",
    "\n",
    "7. What are the values of the following expressions?\n",
    "'Hello'.upper()\n",
    "'Hello'.upper().isupper()\n",
    "'Hello'.upper().lower()\n",
    "8. What are the values of the following expressions?\n",
    "'Remember, remember, the fifth of July.'.split()\n",
    "'-'.join('There can only one.'.split())\n",
    "9. What are the methods for right-justifying, left-justifying, and centering a string?\n",
    "10. What is the best way to remove whitespace characters from the start or end?"
   ]
  },
  {
   "cell_type": "code",
   "execution_count": null,
   "id": "f6b099c1-3fb5-49b1-af8e-153d5a312d2c",
   "metadata": {},
   "outputs": [],
   "source": [
    "#1. What are escape characters, and how do you use them?"
   ]
  },
  {
   "cell_type": "code",
   "execution_count": null,
   "id": "0836414e-b3bb-4bd8-ab56-3d2a898c4277",
   "metadata": {},
   "outputs": [],
   "source": [
    "\"\"\"\n",
    "\\ (backslash) followed by character are escape characters\n",
    "1) used to enter some illegal data you need to enter, like ',\",\\ and others\n",
    "2)\\b for deleting a character to the back of \\\n",
    "3) \\n for new line, \\t for tab space and others\n",
    "\"\"\""
   ]
  },
  {
   "cell_type": "code",
   "execution_count": null,
   "id": "069cf5d1-8d0e-4e08-8282-e0c50969a53b",
   "metadata": {},
   "outputs": [],
   "source": [
    "#2. What do the escape characters n and t stand for?"
   ]
  },
  {
   "cell_type": "code",
   "execution_count": 2,
   "id": "4718ed38-e138-496a-aa36-b73731d16792",
   "metadata": {},
   "outputs": [
    {
     "name": "stdout",
     "output_type": "stream",
     "text": [
      "Vamsi \n",
      "Krishna\n"
     ]
    }
   ],
   "source": [
    "print(\"Vamsi \\nKrishna\") #\\n indicates new line"
   ]
  },
  {
   "cell_type": "code",
   "execution_count": 4,
   "id": "183f45c6-a595-427f-a7dc-634979204647",
   "metadata": {},
   "outputs": [
    {
     "name": "stdout",
     "output_type": "stream",
     "text": [
      "Vamsi \tKrishna\n"
     ]
    }
   ],
   "source": [
    "print(\"Vamsi \\tKrishna\") #t indicates tab space"
   ]
  },
  {
   "cell_type": "code",
   "execution_count": null,
   "id": "dd989997-d3da-4fa5-baaf-da9efee12ffc",
   "metadata": {},
   "outputs": [],
   "source": [
    "#3. What is the way to include backslash characters in a string?"
   ]
  },
  {
   "cell_type": "code",
   "execution_count": 6,
   "id": "9488fdb7-1425-4f22-8f10-5cf42666e2ac",
   "metadata": {},
   "outputs": [
    {
     "name": "stdout",
     "output_type": "stream",
     "text": [
      "Vamsi\\Krishna\n"
     ]
    }
   ],
   "source": [
    "print(\"Vamsi\\\\Krishna\")"
   ]
  },
  {
   "cell_type": "code",
   "execution_count": null,
   "id": "5c217e29-f885-4366-8456-f9d191903bc4",
   "metadata": {},
   "outputs": [],
   "source": [
    "\"\"\"\n",
    "4. The string \"Howl's Moving Castle\" is a correct value. Why isn't the single quote character in the\n",
    "word Howl's not escaped a problem?\n",
    "\"\"\""
   ]
  },
  {
   "cell_type": "code",
   "execution_count": 8,
   "id": "7ea5ea1d-9643-4fc7-ac35-003c0f3ed706",
   "metadata": {},
   "outputs": [
    {
     "name": "stdout",
     "output_type": "stream",
     "text": [
      "Howl's Moving Castle\n"
     ]
    }
   ],
   "source": [
    "print(\"Howl's Moving Castle\") #because it has double quotes enclosed indicating the whole is a string"
   ]
  },
  {
   "cell_type": "code",
   "execution_count": null,
   "id": "68f04c35-8572-4bc4-8570-621598f194fd",
   "metadata": {},
   "outputs": [],
   "source": [
    "#5. How do you write a string of newlines if you don't want to use the n character?"
   ]
  },
  {
   "cell_type": "code",
   "execution_count": 9,
   "id": "1d9d8835-3c60-4e74-b18e-c5ee10b6669b",
   "metadata": {},
   "outputs": [
    {
     "name": "stdout",
     "output_type": "stream",
     "text": [
      "Vamsi\n",
      "Krishna\n"
     ]
    }
   ],
   "source": [
    "print(\"Vamsi\")\n",
    "print(\"Krishna\")"
   ]
  },
  {
   "cell_type": "code",
   "execution_count": null,
   "id": "be6865af-1e18-4db4-a32b-60e7245f7b0a",
   "metadata": {},
   "outputs": [],
   "source": [
    "\"\"\"\n",
    "6. What are the values of the given expressions?\n",
    "'Hello, world!'[1]\n",
    "'Hello, world!'[0:5]\n",
    "'Hello, world!'[:5]\n",
    "'Hello, world!'[3:]\n",
    "\"\"\""
   ]
  },
  {
   "cell_type": "code",
   "execution_count": 15,
   "id": "e96901c0-d10e-47a3-aa9d-84d81c3c7c9a",
   "metadata": {},
   "outputs": [
    {
     "name": "stdout",
     "output_type": "stream",
     "text": [
      "e Hello Hello lo, world!\n"
     ]
    }
   ],
   "source": [
    "print('Hello, world!'[1],#1st character\n",
    "'Hello, world!'[0:5],#from 0th to 4th character\n",
    "'Hello, world!'[:5],#0th to 4th character\n",
    "'Hello, world!'[3:])#3rd to last characater"
   ]
  },
  {
   "cell_type": "code",
   "execution_count": null,
   "id": "bbf6af4b-172d-47b2-9e36-0d29e88d5a2b",
   "metadata": {},
   "outputs": [],
   "source": [
    "\"\"\"\n",
    "7. What are the values of the following expressions?\n",
    "'Hello'.upper()\n",
    "'Hello'.upper().isupper()\n",
    "'Hello'.upper().lower()\n",
    "\"\"\""
   ]
  },
  {
   "cell_type": "code",
   "execution_count": 17,
   "id": "a6e25c71-e1fc-4e42-9148-4a9d63c6cfc5",
   "metadata": {},
   "outputs": [
    {
     "name": "stdout",
     "output_type": "stream",
     "text": [
      "HELLO True hello\n"
     ]
    }
   ],
   "source": [
    "print('Hello'.upper(),#converts all alphabets to upper case\n",
    "'Hello'.upper().isupper(),#converts all alphabets to upper case& checks if all alphabets are uppercase\n",
    "'Hello'.upper().lower())#converts all alphabets to upper case & converts to lower case"
   ]
  },
  {
   "cell_type": "code",
   "execution_count": null,
   "id": "b9f0857b-60c4-4833-a3e3-fc121389d222",
   "metadata": {},
   "outputs": [],
   "source": [
    "\"\"\"\n",
    "8. What are the values of the following expressions?\n",
    "'Remember, remember, the fifth of July.'.split()\n",
    "'-'.join('There can only one.'.split())\n",
    "\"\"\""
   ]
  },
  {
   "cell_type": "code",
   "execution_count": 21,
   "id": "a5782509-7fc3-439e-9f4b-ce940a7daeac",
   "metadata": {},
   "outputs": [
    {
     "name": "stdout",
     "output_type": "stream",
     "text": [
      "['Remember,', 'remember,', 'the', 'fifth', 'of', 'July.']\n",
      "There-can-only-one.\n"
     ]
    }
   ],
   "source": [
    "print('Remember, remember, the fifth of July.'.split())\n",
    "print('-'.join('There can only one.'.split()))"
   ]
  },
  {
   "cell_type": "code",
   "execution_count": null,
   "id": "74f559ab-195c-42f4-a490-6a265fbaa8c8",
   "metadata": {},
   "outputs": [],
   "source": [
    "#9. What are the methods for right-justifying, left-justifying, and centering a string?"
   ]
  },
  {
   "cell_type": "code",
   "execution_count": 22,
   "id": "17e36627-38b5-4d5f-989f-da0516b0d59b",
   "metadata": {},
   "outputs": [],
   "source": [
    "k=\"  Vamsi  Krishna  \""
   ]
  },
  {
   "cell_type": "code",
   "execution_count": 26,
   "id": "3d57b0d6-2aa9-4f00-98f7-4dd39595b456",
   "metadata": {},
   "outputs": [
    {
     "data": {
      "text/plain": [
       "'//////////////////////  Vamsi  Krishna  '"
      ]
     },
     "execution_count": 26,
     "metadata": {},
     "output_type": "execute_result"
    }
   ],
   "source": [
    "k.rjust(40,'/')"
   ]
  },
  {
   "cell_type": "code",
   "execution_count": 27,
   "id": "d5662e1f-4857-47e3-8ccf-81cea2d6bcce",
   "metadata": {},
   "outputs": [
    {
     "data": {
      "text/plain": [
       "'  Vamsi  Krishna  //////////////////////'"
      ]
     },
     "execution_count": 27,
     "metadata": {},
     "output_type": "execute_result"
    }
   ],
   "source": [
    "k.ljust(40,'/')"
   ]
  },
  {
   "cell_type": "code",
   "execution_count": 28,
   "id": "16601253-ff9b-4fc1-bd0b-3ba0ae6bb1fc",
   "metadata": {},
   "outputs": [
    {
     "data": {
      "text/plain": [
       "'///////////  Vamsi  Krishna  ///////////'"
      ]
     },
     "execution_count": 28,
     "metadata": {},
     "output_type": "execute_result"
    }
   ],
   "source": [
    "k.center(40,'/')"
   ]
  },
  {
   "cell_type": "code",
   "execution_count": null,
   "id": "20b7a5cc-3f8e-48c9-8c66-e70c30d3d83a",
   "metadata": {},
   "outputs": [],
   "source": [
    "#10. What is the best way to remove whitespace characters from the start or end?"
   ]
  },
  {
   "cell_type": "code",
   "execution_count": 29,
   "id": "cf86ed4c-62d1-4b79-b34a-2270559d526c",
   "metadata": {},
   "outputs": [
    {
     "data": {
      "text/plain": [
       "'  Vamsi  Krishna'"
      ]
     },
     "execution_count": 29,
     "metadata": {},
     "output_type": "execute_result"
    }
   ],
   "source": [
    "k.rstrip()"
   ]
  },
  {
   "cell_type": "code",
   "execution_count": 30,
   "id": "f954e99e-5529-4881-960a-27187c76314d",
   "metadata": {},
   "outputs": [
    {
     "data": {
      "text/plain": [
       "'Vamsi  Krishna  '"
      ]
     },
     "execution_count": 30,
     "metadata": {},
     "output_type": "execute_result"
    }
   ],
   "source": [
    "k.lstrip()"
   ]
  },
  {
   "cell_type": "code",
   "execution_count": 31,
   "id": "4e07ca44-bee6-4aa4-aa48-85575e2bf58e",
   "metadata": {},
   "outputs": [
    {
     "data": {
      "text/plain": [
       "'Vamsi  Krishna'"
      ]
     },
     "execution_count": 31,
     "metadata": {},
     "output_type": "execute_result"
    }
   ],
   "source": [
    "k.strip()"
   ]
  }
 ],
 "metadata": {
  "kernelspec": {
   "display_name": "Python 3 (ipykernel)",
   "language": "python",
   "name": "python3"
  },
  "language_info": {
   "codemirror_mode": {
    "name": "ipython",
    "version": 3
   },
   "file_extension": ".py",
   "mimetype": "text/x-python",
   "name": "python",
   "nbconvert_exporter": "python",
   "pygments_lexer": "ipython3",
   "version": "3.9.12"
  }
 },
 "nbformat": 4,
 "nbformat_minor": 5
}
