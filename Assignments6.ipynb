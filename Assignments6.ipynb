{
 "cells": [
  {
   "cell_type": "raw",
   "id": "b707259f-5334-411a-8e8d-cef077e488da",
   "metadata": {},
   "source": [
    "1. What are escape characters, and how do you use them?\n",
    "2. What do the escape characters n and t stand for?\n",
    "3. What is the way to include backslash characters in a string?\n",
    "4. The string \"Howl's Moving Castle\" is a correct value. Why isn't the single quote character in the\n",
    "word Howl's not escaped a problem?\n",
    "5. How do you write a string of newlines if you don't want to use the n character?\n",
    "6. What are the values of the given expressions?\n",
    "'Hello, world!'[1]\n",
    "'Hello, world!'[0:5]\n",
    "'Hello, world!'[:5]\n",
    "'Hello, world!'[3:]\n",
    "\n",
    "7. What are the values of the following expressions?\n",
    "'Hello'.upper()\n",
    "'Hello'.upper().isupper()\n",
    "'Hello'.upper().lower()\n",
    "8. What are the values of the following expressions?\n",
    "'Remember, remember, the fifth of July.'.split()\n",
    "'-'.join('There can only one.'.split())\n",
    "9. What are the methods for right-justifying, left-justifying, and centering a string?\n",
    "10. What is the best way to remove whitespace characters from the start or end?"
   ]
  },
  {
   "cell_type": "raw",
   "id": "b525f3da-e027-4526-b742-4ad97cf5b8b3",
   "metadata": {},
   "source": [
    "1. What are escape characters, and how do you use them?"
   ]
  },
  {
   "cell_type": "raw",
   "id": "d4fa97d0-d27f-436f-b48d-71337e408c7b",
   "metadata": {},
   "source": [
    "\\ (backslash) followed by character are escape characters\n",
    "1) used to enter some illegal data you need to enter, like ',\",\\ and others\n",
    "2)\\b for deleting a character to the back of \\\n",
    "3) \\n for new line, \\t for tab space and others"
   ]
  },
  {
   "cell_type": "raw",
   "id": "ff42213a-9014-449b-b0be-655cd6432195",
   "metadata": {},
   "source": [
    "2. What do the escape characters n and t stand for?"
   ]
  },
  {
   "cell_type": "code",
   "execution_count": 2,
   "id": "4718ed38-e138-496a-aa36-b73731d16792",
   "metadata": {},
   "outputs": [
    {
     "name": "stdout",
     "output_type": "stream",
     "text": [
      "Vamsi \n",
      "Krishna\n"
     ]
    }
   ],
   "source": [
    "print(\"Vamsi \\nKrishna\") #\\n indicates new line"
   ]
  },
  {
   "cell_type": "code",
   "execution_count": 4,
   "id": "183f45c6-a595-427f-a7dc-634979204647",
   "metadata": {},
   "outputs": [
    {
     "name": "stdout",
     "output_type": "stream",
     "text": [
      "Vamsi \tKrishna\n"
     ]
    }
   ],
   "source": [
    "print(\"Vamsi \\tKrishna\") #t indicates tab space"
   ]
  },
  {
   "cell_type": "raw",
   "id": "a43c3bd1-0c58-4f9a-9075-470ed7744f22",
   "metadata": {},
   "source": [
    "3. What is the way to include backslash characters in a string?"
   ]
  },
  {
   "cell_type": "code",
   "execution_count": 6,
   "id": "9488fdb7-1425-4f22-8f10-5cf42666e2ac",
   "metadata": {},
   "outputs": [
    {
     "name": "stdout",
     "output_type": "stream",
     "text": [
      "Vamsi\\Krishna\n"
     ]
    }
   ],
   "source": [
    "print(\"Vamsi\\\\Krishna\")"
   ]
  },
  {
   "cell_type": "raw",
   "id": "a229436f-40da-4e47-bb72-962b00f51385",
   "metadata": {},
   "source": [
    "4. The string \"Howl's Moving Castle\" is a correct value. Why isn't the single quote character in the\n",
    "word Howl's not escaped a problem?"
   ]
  },
  {
   "cell_type": "code",
   "execution_count": 8,
   "id": "7ea5ea1d-9643-4fc7-ac35-003c0f3ed706",
   "metadata": {},
   "outputs": [
    {
     "name": "stdout",
     "output_type": "stream",
     "text": [
      "Howl's Moving Castle\n"
     ]
    }
   ],
   "source": [
    "print(\"Howl's Moving Castle\") #because it has double quotes enclosed indicating the whole is a string"
   ]
  },
  {
   "cell_type": "raw",
   "id": "b80afb2f-c97a-46a5-888a-90da993ce0f5",
   "metadata": {},
   "source": [
    "5. How do you write a string of newlines if you don't want to use the n character?"
   ]
  },
  {
   "cell_type": "code",
   "execution_count": 9,
   "id": "1d9d8835-3c60-4e74-b18e-c5ee10b6669b",
   "metadata": {},
   "outputs": [
    {
     "name": "stdout",
     "output_type": "stream",
     "text": [
      "Vamsi\n",
      "Krishna\n"
     ]
    }
   ],
   "source": [
    "print(\"Vamsi\")\n",
    "print(\"Krishna\")"
   ]
  },
  {
   "cell_type": "raw",
   "id": "aaeabc7c-e374-4ba8-a7fb-f0098f0e4de9",
   "metadata": {},
   "source": [
    "6. What are the values of the given expressions?\n",
    "'Hello, world!'[1]\n",
    "'Hello, world!'[0:5]\n",
    "'Hello, world!'[:5]\n",
    "'Hello, world!'[3:]"
   ]
  },
  {
   "cell_type": "code",
   "execution_count": 15,
   "id": "e96901c0-d10e-47a3-aa9d-84d81c3c7c9a",
   "metadata": {},
   "outputs": [
    {
     "name": "stdout",
     "output_type": "stream",
     "text": [
      "e Hello Hello lo, world!\n"
     ]
    }
   ],
   "source": [
    "print('Hello, world!'[1],#1st character\n",
    "'Hello, world!'[0:5],#from 0th to 4th character\n",
    "'Hello, world!'[:5],#0th to 4th character\n",
    "'Hello, world!'[3:])#3rd to last characater"
   ]
  },
  {
   "cell_type": "raw",
   "id": "d6626e11-955e-42d1-b1d6-f0f378062fe6",
   "metadata": {},
   "source": [
    "7. What are the values of the following expressions?\n",
    "'Hello'.upper()\n",
    "'Hello'.upper().isupper()\n",
    "'Hello'.upper().lower()"
   ]
  },
  {
   "cell_type": "code",
   "execution_count": 17,
   "id": "a6e25c71-e1fc-4e42-9148-4a9d63c6cfc5",
   "metadata": {},
   "outputs": [
    {
     "name": "stdout",
     "output_type": "stream",
     "text": [
      "HELLO True hello\n"
     ]
    }
   ],
   "source": [
    "print('Hello'.upper(),#converts all alphabets to upper case\n",
    "'Hello'.upper().isupper(),#converts all alphabets to upper case& checks if all alphabets are uppercase\n",
    "'Hello'.upper().lower())#converts all alphabets to upper case & converts to lower case"
   ]
  },
  {
   "cell_type": "raw",
   "id": "02e86e84-001f-4f99-a3b1-a67a68b6ce80",
   "metadata": {},
   "source": [
    "8. What are the values of the following expressions?\n",
    "'Remember, remember, the fifth of July.'.split()\n",
    "'-'.join('There can only one.'.split())"
   ]
  },
  {
   "cell_type": "code",
   "execution_count": 21,
   "id": "a5782509-7fc3-439e-9f4b-ce940a7daeac",
   "metadata": {},
   "outputs": [
    {
     "name": "stdout",
     "output_type": "stream",
     "text": [
      "['Remember,', 'remember,', 'the', 'fifth', 'of', 'July.']\n",
      "There-can-only-one.\n"
     ]
    }
   ],
   "source": [
    "print('Remember, remember, the fifth of July.'.split())\n",
    "print('-'.join('There can only one.'.split()))"
   ]
  },
  {
   "cell_type": "raw",
   "id": "02ff575e-b2e2-4d21-8a36-463d141e7f27",
   "metadata": {},
   "source": [
    "9. What are the methods for right-justifying, left-justifying, and centering a string?"
   ]
  },
  {
   "cell_type": "code",
   "execution_count": 22,
   "id": "17e36627-38b5-4d5f-989f-da0516b0d59b",
   "metadata": {},
   "outputs": [],
   "source": [
    "k=\"  Vamsi  Krishna  \""
   ]
  },
  {
   "cell_type": "code",
   "execution_count": 26,
   "id": "3d57b0d6-2aa9-4f00-98f7-4dd39595b456",
   "metadata": {},
   "outputs": [
    {
     "data": {
      "text/plain": [
       "'//////////////////////  Vamsi  Krishna  '"
      ]
     },
     "execution_count": 26,
     "metadata": {},
     "output_type": "execute_result"
    }
   ],
   "source": [
    "k.rjust(40,'/')"
   ]
  },
  {
   "cell_type": "code",
   "execution_count": 27,
   "id": "d5662e1f-4857-47e3-8ccf-81cea2d6bcce",
   "metadata": {},
   "outputs": [
    {
     "data": {
      "text/plain": [
       "'  Vamsi  Krishna  //////////////////////'"
      ]
     },
     "execution_count": 27,
     "metadata": {},
     "output_type": "execute_result"
    }
   ],
   "source": [
    "k.ljust(40,'/')"
   ]
  },
  {
   "cell_type": "code",
   "execution_count": 28,
   "id": "16601253-ff9b-4fc1-bd0b-3ba0ae6bb1fc",
   "metadata": {},
   "outputs": [
    {
     "data": {
      "text/plain": [
       "'///////////  Vamsi  Krishna  ///////////'"
      ]
     },
     "execution_count": 28,
     "metadata": {},
     "output_type": "execute_result"
    }
   ],
   "source": [
    "k.center(40,'/')"
   ]
  },
  {
   "cell_type": "raw",
   "id": "4c70f348-2e68-4275-819a-7860dfa5f034",
   "metadata": {},
   "source": [
    "10. What is the best way to remove whitespace characters from the start or end?"
   ]
  },
  {
   "cell_type": "code",
   "execution_count": 29,
   "id": "cf86ed4c-62d1-4b79-b34a-2270559d526c",
   "metadata": {},
   "outputs": [
    {
     "data": {
      "text/plain": [
       "'  Vamsi  Krishna'"
      ]
     },
     "execution_count": 29,
     "metadata": {},
     "output_type": "execute_result"
    }
   ],
   "source": [
    "k.rstrip()"
   ]
  },
  {
   "cell_type": "code",
   "execution_count": 30,
   "id": "f954e99e-5529-4881-960a-27187c76314d",
   "metadata": {},
   "outputs": [
    {
     "data": {
      "text/plain": [
       "'Vamsi  Krishna  '"
      ]
     },
     "execution_count": 30,
     "metadata": {},
     "output_type": "execute_result"
    }
   ],
   "source": [
    "k.lstrip()"
   ]
  },
  {
   "cell_type": "code",
   "execution_count": 31,
   "id": "4e07ca44-bee6-4aa4-aa48-85575e2bf58e",
   "metadata": {},
   "outputs": [
    {
     "data": {
      "text/plain": [
       "'Vamsi  Krishna'"
      ]
     },
     "execution_count": 31,
     "metadata": {},
     "output_type": "execute_result"
    }
   ],
   "source": [
    "k.strip()"
   ]
  },
  {
   "cell_type": "code",
   "execution_count": null,
   "id": "fdbf5006-5c44-4cfc-ab30-84ad8c497f34",
   "metadata": {},
   "outputs": [],
   "source": []
  }
 ],
 "metadata": {
  "kernelspec": {
   "display_name": "Python 3 (ipykernel)",
   "language": "python",
   "name": "python3"
  },
  "language_info": {
   "codemirror_mode": {
    "name": "ipython",
    "version": 3
   },
   "file_extension": ".py",
   "mimetype": "text/x-python",
   "name": "python",
   "nbconvert_exporter": "python",
   "pygments_lexer": "ipython3",
   "version": "3.9.12"
  }
 },
 "nbformat": 4,
 "nbformat_minor": 5
}
