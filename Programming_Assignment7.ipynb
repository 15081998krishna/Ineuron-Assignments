{
 "cells": [
  {
   "cell_type": "code",
   "execution_count": null,
   "id": "53ecb7d6",
   "metadata": {},
   "outputs": [],
   "source": [
    "\"\"\"\n",
    "1. Write a Python Program to find sum of array?\n",
    "2. Write a Python Program to find largest element in an array?\n",
    "3. Write a Python Program for array rotation?\n",
    "4. Write a Python Program to Split the array and add the first part to the end?\n",
    "5. Write a Python Program to check if given array is Monotonic?\n",
    "\"\"\""
   ]
  },
  {
   "cell_type": "code",
   "execution_count": 3,
   "id": "37f20b8b",
   "metadata": {},
   "outputs": [
    {
     "data": {
      "text/plain": [
       "15"
      ]
     },
     "execution_count": 3,
     "metadata": {},
     "output_type": "execute_result"
    }
   ],
   "source": [
    "\"\"\"\n",
    "1. Write a Python Program to find sum of array?\n",
    "\"\"\"\n",
    "\n",
    "def sumofArray(arr):\n",
    "    if type(arr)!=list:\n",
    "        raise ValueError(\"Please enter a proper input\")\n",
    "    sum=0;\n",
    "    for i in arr:\n",
    "        sum=sum+i\n",
    "    return sum\n",
    "\n",
    "arr=[1,2,3,4,5]\n",
    "sumofArray(arr)"
   ]
  },
  {
   "cell_type": "code",
   "execution_count": 5,
   "id": "fcc5fe1d",
   "metadata": {},
   "outputs": [
    {
     "data": {
      "text/plain": [
       "5"
      ]
     },
     "execution_count": 5,
     "metadata": {},
     "output_type": "execute_result"
    }
   ],
   "source": [
    "\"\"\"\n",
    "2. Write a Python Program to find largest element in an array?\n",
    "\"\"\"\n",
    "def maxofArray(arr):\n",
    "    if type(arr)!=list:\n",
    "        raise ValueError(\"Please enter a proper input\")\n",
    "    max=arr[0];\n",
    "    for i in arr:\n",
    "        if i>max:\n",
    "            max=i\n",
    "    return max\n",
    "\n",
    "arr=[1,2,3,4,5]\n",
    "maxofArray(arr)"
   ]
  },
  {
   "cell_type": "code",
   "execution_count": 3,
   "id": "74d70d15",
   "metadata": {},
   "outputs": [
    {
     "data": {
      "text/plain": [
       "[4, 5, 1, 2, 3]"
      ]
     },
     "execution_count": 3,
     "metadata": {},
     "output_type": "execute_result"
    }
   ],
   "source": [
    "\"\"\"\n",
    "3. Write a Python Program for array rotation?\n",
    "\"\"\"\n",
    "\n",
    "def rotationofArray(arr,n):\n",
    "    if type(arr)!=list:\n",
    "        raise ValueError(\"Please enter a proper input\")\n",
    "    n=n%len(arr)\n",
    "    for i in range(n):\n",
    "        temp = arr[0]\n",
    "        for j in range(len(arr)-1):\n",
    "            arr[j] = arr[j+1]\n",
    "        arr[len(arr)-1] = temp\n",
    "    return arr\n",
    "        \n",
    "\n",
    "arr=[1,2,3,4,5]\n",
    "rotationofArray(arr,3)"
   ]
  },
  {
   "cell_type": "code",
   "execution_count": 4,
   "id": "7d080832",
   "metadata": {},
   "outputs": [
    {
     "name": "stdout",
     "output_type": "stream",
     "text": [
      "[4, 5, 1, 2, 3]\n"
     ]
    }
   ],
   "source": [
    "\"\"\"\n",
    "4.Write a Python Program to Split the array and add the first part to the end?\n",
    "\"\"\"\n",
    "\n",
    "def split_and_add(arr, n):\n",
    "    if len(arr) <= 1:\n",
    "        return arr\n",
    "    if n>len(arr):\n",
    "        raise ValueError(\"The value n should be less than length of array\");\n",
    "    \n",
    "    arr = arr[n:] + arr[:n]\n",
    "    \n",
    "    return arr\n",
    "\n",
    "arr = [1, 2, 3, 4, 5]\n",
    "n = 3\n",
    "print(split_and_add(arr, n)) "
   ]
  },
  {
   "cell_type": "code",
   "execution_count": 7,
   "id": "505f8bcb",
   "metadata": {},
   "outputs": [
    {
     "name": "stdout",
     "output_type": "stream",
     "text": [
      "True\n",
      "True\n",
      "False\n"
     ]
    }
   ],
   "source": [
    "\"\"\"\n",
    "5. Write a Python Program to check if given array is Monotonic?\n",
    "\"\"\"\n",
    "def is_monotonic(arr):\n",
    "    if len(arr)<2:\n",
    "        return True;\n",
    "    inc=True\n",
    "    dec=True\n",
    "    for i in range(len(arr)-1):\n",
    "        #checks if it is not in increasing order\n",
    "        if arr[i]>arr[i+1]:\n",
    "            inc=False\n",
    "        #checks if it is not in decreasing order\n",
    "        if arr[i]<arr[i+1]:\n",
    "            dec=False\n",
    "    #if either inc or dec is true, then it is atleast in one of the order, else it is false\n",
    "    val=inc or dec\n",
    "    return val\n",
    "    \n",
    "\n",
    "array1 = [1, 2, 3, 4, 5]\n",
    "array2 = [5, 4, 3, 2, 1]\n",
    "array3 = [1, 2, 3, 2, 1]\n",
    "\n",
    "print(is_monotonic(array1))\n",
    "print(is_monotonic(array2))\n",
    "print(is_monotonic(array3))"
   ]
  },
  {
   "cell_type": "code",
   "execution_count": null,
   "id": "949abd05",
   "metadata": {},
   "outputs": [],
   "source": []
  }
 ],
 "metadata": {
  "kernelspec": {
   "display_name": "Python 3 (ipykernel)",
   "language": "python",
   "name": "python3"
  },
  "language_info": {
   "codemirror_mode": {
    "name": "ipython",
    "version": 3
   },
   "file_extension": ".py",
   "mimetype": "text/x-python",
   "name": "python",
   "nbconvert_exporter": "python",
   "pygments_lexer": "ipython3",
   "version": "3.9.12"
  }
 },
 "nbformat": 4,
 "nbformat_minor": 5
}
