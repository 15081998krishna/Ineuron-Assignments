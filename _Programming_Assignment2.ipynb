{
 "cells": [
  {
   "cell_type": "code",
   "execution_count": null,
   "id": "cbf7ea40",
   "metadata": {},
   "outputs": [],
   "source": [
    "\"\"\"\n",
    "1. Write a Python program to convert kilometers to miles?\n",
    "2. Write a Python program to convert Celsius to Fahrenheit?\n",
    "3. Write a Python program to display calendar?\n",
    "4. Write a Python program to solve quadratic equation?\n",
    "5. Write a Python program to swap two variables without temp variable?\n",
    "\"\"\""
   ]
  },
  {
   "cell_type": "code",
   "execution_count": 8,
   "id": "8275d4b3",
   "metadata": {},
   "outputs": [
    {
     "name": "stdout",
     "output_type": "stream",
     "text": [
      "Enter the distance in kilometers efewf\n",
      "Please enter an interger/float type\n",
      "Enter the distance in kilometers 45\n",
      "45.0 kilometers is equal to 27.96170355 miles\n"
     ]
    }
   ],
   "source": [
    "#1. Write a Python program to convert kilometers to miles?\n",
    "0.62137119 \n",
    "\n",
    "while(True):\n",
    "    try:\n",
    "        kms=float(input(\"Enter the distance in kilometers \"))\n",
    "        break;\n",
    "    except ValueError:\n",
    "        print(\"Please enter an interger/float type\")\n",
    "        continue;\n",
    "conv_factor= 0.62137119\n",
    "\n",
    "miles=kms*conv_factor;\n",
    "print(f\"{kms} kilometers is equal to {miles} miles\")\n",
    "\n",
    "    "
   ]
  },
  {
   "cell_type": "code",
   "execution_count": 9,
   "id": "6292bd0e",
   "metadata": {},
   "outputs": [
    {
     "name": "stdout",
     "output_type": "stream",
     "text": [
      "Enter the temperature in celsius 36\n",
      "36.0 celsius is equal to 96.8 Fahrenheit\n"
     ]
    }
   ],
   "source": [
    "\"\"\"\n",
    "2. Write a Python program to convert Celsius to Fahrenheit?\n",
    "\"\"\"\n",
    "while(True):\n",
    "    try:\n",
    "        celsius=float(input(\"Enter the temperature in celsius \"))\n",
    "        break;\n",
    "    except ValueError:\n",
    "        print(\"Please enter an interger/float type\")\n",
    "        continue;\n",
    "\n",
    "fah=(celsius*1.8) +32;\n",
    "print(f\"{celsius} celsius is equal to {fah} Fahrenheit\")"
   ]
  },
  {
   "cell_type": "code",
   "execution_count": 11,
   "id": "8ac3a52d",
   "metadata": {},
   "outputs": [
    {
     "name": "stdout",
     "output_type": "stream",
     "text": [
      "Enter the year: sd\n",
      "Invalid input! Please enter a valid year (non-negative integer) and month (1-12).\n",
      "Enter the year: 2023\n",
      "Enter the month (1-12): wer\n",
      "Invalid input! Please enter a valid year (non-negative integer) and month (1-12).\n",
      "Enter the year: exit\n",
      "Invalid input! Please enter a valid year (non-negative integer) and month (1-12).\n",
      "Enter the year: 2023\n",
      "Enter the month (1-12): 5\n",
      "      May 2023\n",
      "Mo Tu We Th Fr Sa Su\n",
      " 1  2  3  4  5  6  7\n",
      " 8  9 10 11 12 13 14\n",
      "15 16 17 18 19 20 21\n",
      "22 23 24 25 26 27 28\n",
      "29 30 31\n",
      "\n"
     ]
    }
   ],
   "source": [
    "\"\"\"\n",
    "3. Write a Python program to display calendar?\n",
    "\"\"\"\n",
    "\n",
    "import calendar;\n",
    "\n",
    "while(True):\n",
    "    try:\n",
    "        year=int(input(\"Enter the year: \"))\n",
    "        if year<0:\n",
    "            raise ValueError\n",
    "        month=int(input(\"Enter the month (1-12): \"))\n",
    "        if month<1 or month>12:\n",
    "            raise ValueError\n",
    "        break;\n",
    "    except ValueError:\n",
    "        print(\"Invalid input! Please enter a valid year (non-negative integer) and month (1-12).\")\n",
    "        continue;\n",
    "print(calendar.month(year,month))"
   ]
  },
  {
   "cell_type": "code",
   "execution_count": 18,
   "id": "82f5b527",
   "metadata": {},
   "outputs": [
    {
     "name": "stdout",
     "output_type": "stream",
     "text": [
      "The baisc quadratic equation is of ax^2+bx+c\n",
      "Enter the value of a: 1\n",
      "Enter the value of b: -4\n",
      "Enter the value of c: 4\n",
      "the roots of equation are 2.0 and 2.0\n"
     ]
    }
   ],
   "source": [
    "\"\"\"\n",
    "4. Write a Python program to solve quadratic equation?\n",
    "\"\"\"\n",
    "import math;\n",
    "\n",
    "#ax*2+bx+c\n",
    "while(True):\n",
    "    try:\n",
    "        print(\"The baisc quadratic equation is of ax^2+bx+c\")\n",
    "        a=int(input(\"Enter the value of a: \"))\n",
    "        b=int(input(\"Enter the value of b: \"))\n",
    "        c=int(input(\"Enter the value of c: \"))\n",
    "        break\n",
    "    except ValueError:\n",
    "        print(\"Invalid input! Please enter integers\")\n",
    "        continue;\n",
    "dis=b**2-4*a*c\n",
    "if dis>=0:\n",
    "    root1=(-b+math.sqrt(dis))/(2*a);\n",
    "    root2=(-b-math.sqrt(dis))/(2*a);\n",
    "    \n",
    "    print(f\"the roots of equation are {root1} and {root2}\")\n",
    "else:\n",
    "    print(f\"There are no roots for the equation\")"
   ]
  },
  {
   "cell_type": "code",
   "execution_count": 19,
   "id": "4c235857",
   "metadata": {},
   "outputs": [
    {
     "name": "stdout",
     "output_type": "stream",
     "text": [
      "Enter value of variable a23\n",
      "Enter value of variable bdss\n",
      "now the value of a is dss and value of b is 23\n"
     ]
    }
   ],
   "source": [
    "\"\"\"\n",
    "5. Write a Python program to swap two variables without temp variable?\n",
    "\"\"\"\n",
    "a=input(\"Enter value of variable a\")\n",
    "b=input(\"Enter value of variable b\")\n",
    "\n",
    "#swap\n",
    "a,b=b,a\n",
    "\n",
    "print(f\"now the value of a is {a} and value of b is {b}\")\n"
   ]
  }
 ],
 "metadata": {
  "kernelspec": {
   "display_name": "Python 3 (ipykernel)",
   "language": "python",
   "name": "python3"
  },
  "language_info": {
   "codemirror_mode": {
    "name": "ipython",
    "version": 3
   },
   "file_extension": ".py",
   "mimetype": "text/x-python",
   "name": "python",
   "nbconvert_exporter": "python",
   "pygments_lexer": "ipython3",
   "version": "3.9.12"
  }
 },
 "nbformat": 4,
 "nbformat_minor": 5
}
