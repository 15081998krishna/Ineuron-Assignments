{
  "nbformat": 4,
  "nbformat_minor": 0,
  "metadata": {
    "colab": {
      "provenance": [],
      "collapsed_sections": []
    },
    "kernelspec": {
      "name": "python3",
      "display_name": "Python 3"
    },
    "language_info": {
      "name": "python"
    }
  },
  "cells": [
    {
      "cell_type": "code",
      "source": [
        "#1. What is indentation error? Why indentation is important? Give one simple example?\n",
        "\"\"\"Indentation error is error in the alignment of code. It is important in python because we don't use {} like in other \n",
        "programming languages to signify to which block does the code belong to. As you can see below in the 2nd case as print statement \n",
        "doesn't have any space before the start, it assumes the code belongs outside of if block->the if block is empty, python understands \n",
        "there is an indentation error (as there is a statement outside the if block).\n",
        "\"\"\"\n",
        "k=10\n",
        "if k>5:\n",
        "  print(f'{k} is greater than 5')\n",
        "\n",
        "k=10\n",
        "if k>5:\n",
        "print(f'{k} is greater than 5')"
      ],
      "metadata": {
        "colab": {
          "base_uri": "https://localhost:8080/"
        },
        "id": "sOr4ol4svvoS",
        "outputId": "8959ed8a-6870-4770-88d7-4a997a390558"
      },
      "execution_count": 4,
      "outputs": [
        {
          "output_type": "stream",
          "name": "stdout",
          "text": [
            "10 is greater than 5\n"
          ]
        }
      ]
    },
    {
      "cell_type": "code",
      "source": [
        "#2. Correct the following code and write the comment where you made the correction?\n",
        "\"\"\"\n",
        "class_started = bool(input(\"Hey friend, is class started?: [0-False/1-True]\"))\n",
        "\n",
        "if class_started:\n",
        "   print(\"Since class started...\")\n",
        "   print(\"Lets concentrate\")\n",
        "else:\n",
        "   print(\"Since class is not started...\")\n",
        "   print(\"let's revise\")    \n",
        "\"\"\"\n",
        "class_started = bool(input(\"Hey friend, is class started?: [0-False/1-True]\"))\n",
        "\n",
        "if class_started:\n",
        "   print(\"Since class started...\")\n",
        "   print(\"Lets concentrate\")\n",
        "else:\n",
        "   print(\"Since class is not started...\")\n",
        "   print(\"let's revise\") \n",
        "\n",
        "class_started = bool(int(input(\"Hey friend, is class started?: [0-False/1-True]\")))#the error is that it always goes to execute if clause\n",
        "#because input function always takes input as string and while converting string to bool, after from \"\"(empty string), it always converts to True\n",
        "#so, the correction I choose is to convert the input to int and then bool(altough even in this case apart from 0 it always converts to True)\n",
        "#it still solves the problem whenever there is zero it goes to else class.\n",
        "\n",
        "if class_started:\n",
        "   print(\"Since class started...\")\n",
        "   print(\"Lets concentrate\")\n",
        "else:\n",
        "   print(\"Since class is not started...\")\n",
        "   print(\"let's revise\") "
      ],
      "metadata": {
        "colab": {
          "base_uri": "https://localhost:8080/"
        },
        "id": "j8gxD5HfyDvz",
        "outputId": "9b6ed08d-ba24-4808-a675-cda9fe12597b"
      },
      "execution_count": 11,
      "outputs": [
        {
          "output_type": "stream",
          "name": "stdout",
          "text": [
            "Hey friend, is class started?: [0-False/1-True]0\n",
            "Since class started...\n",
            "Lets concentrate\n",
            "Hey friend, is class started?: [0-False/1-True]0\n",
            "Since class is not started...\n",
            "let's revise\n"
          ]
        }
      ]
    },
    {
      "cell_type": "code",
      "source": [
        "#3. Use if else condition to verify that dataype of input() method in python is always string.\n",
        "\n",
        "k=input(\"Enter any datatype you need\")\n",
        "if type(k) is str:\n",
        "  print(f\"Yes, it is true. Datatype of anything you get through input() is string and the input is {k}\")\n",
        "else:\n",
        "  print(f\"It seems that we might be wrong in assuming anything you get through input() is string,The datatype of k is {type(k)}\")\n"
      ],
      "metadata": {
        "colab": {
          "base_uri": "https://localhost:8080/"
        },
        "id": "Ty3lrJXKz2ur",
        "outputId": "49364e88-00a5-4982-af18-1eb51cfb331f"
      },
      "execution_count": 13,
      "outputs": [
        {
          "output_type": "stream",
          "name": "stdout",
          "text": [
            "Enter any datatype you need(12,3,3434,2342423,40)\n",
            "Yes, it is true. Datatype of anything you get through input() is string and the input is (12,3,3434,2342423,40)\n"
          ]
        }
      ]
    },
    {
      "cell_type": "code",
      "source": [
        "#4.Take 3 variables and assign integer values to them. Find the largest variable, by only using the if and else conditions.\n",
        "a=int(input(\"Enter your 1st integer\"))\n",
        "b=int(input(\"Enter your 2nd integer\"))\n",
        "c=int(input(\"Enter your 3rd integer\"))\n",
        "\n",
        "if a>b:\n",
        "  great=a\n",
        "else:\n",
        "  great=b\n",
        "if c>great:\n",
        "  great=c\n",
        "print(f'The greatest number among the inputs is {great}')"
      ],
      "metadata": {
        "colab": {
          "base_uri": "https://localhost:8080/"
        },
        "id": "kcYOuIJV1CLs",
        "outputId": "1b235358-fcc5-4512-e24f-c875877cec2c"
      },
      "execution_count": 16,
      "outputs": [
        {
          "output_type": "stream",
          "name": "stdout",
          "text": [
            "Enter your 1st integer23\n",
            "Enter your 2nd integer65\n",
            "Enter your 3rd integer45\n",
            "The greatest number among the inputs is 65\n"
          ]
        }
      ]
    },
    {
      "cell_type": "code",
      "source": [
        "\"\"\"\n",
        "5.What would be the solution?\n",
        "    True\n",
        "    False\n",
        "\n",
        "    a = 6\n",
        "    b = 10\n",
        "    print( not ( not a == 10 or not b == 10) )\n",
        "\n",
        "    Ans: False, first not a ==10 gives true, not b==10 gives false, or condition fulfills if atleast one is true it ouputs true, so finally\n",
        "    not(True) gives False\n",
        "\n",
        "\"\"\"\n",
        "a = 6\n",
        "b = 10\n",
        "print( not ( not a == 10 or not b == 10) )\n",
        "#False, first not a ==10 gives true, not b==10 gives false, or condition fulfills if atleast one is true it ouputs true and finally\n",
        "#    not(True) gives False"
      ],
      "metadata": {
        "colab": {
          "base_uri": "https://localhost:8080/"
        },
        "id": "mWgCaRbZ2PFC",
        "outputId": "2e705f16-58ec-4bb4-93b7-ea68ac2d8e7a"
      },
      "execution_count": 21,
      "outputs": [
        {
          "output_type": "stream",
          "name": "stdout",
          "text": [
            "False\n"
          ]
        }
      ]
    },
    {
      "cell_type": "code",
      "source": [
        "\"\"\"\n",
        "6.Find the answer as well as find out the reason behind the result? -\n",
        "    case 1:\n",
        "      A = 5.0\n",
        "      B = 10/2\n",
        "      print(A is B)\n",
        "    case 2:\n",
        "      A = 5.0\n",
        "      B = int(10/2)\n",
        "      print(A is B)\n",
        "    case 3:\n",
        "      A = 5.0\n",
        "      B = float(10/2)\n",
        "      print(A is B)\n",
        "\"\"\"\n",
        "A = 5.0\n",
        "B = 10/2\n",
        "print(A is B)\n",
        "print(f'id(a) is {id(A)}, type of a is {type(A)} and id(b) is {id(B)}, type of b is {type(B)}')\n",
        "\n",
        "A = 5.0\n",
        "B = int(10/2)\n",
        "print(A is B)\n",
        "print(f'id(a) is {id(A)}, type of a is {type(A)} and id(b) is {id(B)}, type of b is {type(B)}')\n",
        "\n",
        "A = 5.0\n",
        "B = float(10/2)\n",
        "print(A is B)\n",
        "print(f'id(a) is {id(A)}, type of a is {type(A)} and id(b) is {id(B)}, type of b is {type(B)}')\n",
        "# The reason is that the addresses of A & B are different and I noticed for float type it always creates a new object instead of searching if\n",
        "#the object is alreay created(to reuse it) unlike int or string"
      ],
      "metadata": {
        "colab": {
          "base_uri": "https://localhost:8080/"
        },
        "id": "AGjrv4OY2-wZ",
        "outputId": "0d95fa9c-0d7b-45f6-da75-4533c43004b9"
      },
      "execution_count": 28,
      "outputs": [
        {
          "output_type": "stream",
          "name": "stdout",
          "text": [
            "False\n",
            "id(a) is 140235928329136, type of a is <class 'float'> and id(b) is 140235928327216, type of b is <class 'float'>\n",
            "False\n",
            "id(a) is 140236073149136, type of a is <class 'float'> and id(b) is 11122720, type of b is <class 'int'>\n",
            "False\n",
            "id(a) is 140235928329264, type of a is <class 'float'> and id(b) is 140235928329040, type of b is <class 'float'>\n"
          ]
        }
      ]
    },
    {
      "cell_type": "code",
      "source": [
        "a=12.0\n",
        "b=12.0\n",
        "print(a is b)\n",
        "print(f'id(a) is {id(a)}, type of a is {type(a)} and id(b) is {id(b)}, type of b is {type(b)}')\n",
        "print(a==b)"
      ],
      "metadata": {
        "colab": {
          "base_uri": "https://localhost:8080/"
        },
        "id": "3Ob0Z3My5o_y",
        "outputId": "01dd5d20-4def-4a7f-a1c8-0b9e539493de"
      },
      "execution_count": 32,
      "outputs": [
        {
          "output_type": "stream",
          "name": "stdout",
          "text": [
            "False\n",
            "id(a) is 140235927969904, type of a is <class 'float'> and id(b) is 140235927971824, type of b is <class 'float'>\n",
            "True\n"
          ]
        }
      ]
    },
    {
      "cell_type": "code",
      "execution_count": 35,
      "metadata": {
        "id": "XumyqFp6MHnv",
        "colab": {
          "base_uri": "https://localhost:8080/"
        },
        "outputId": "4d202d7a-f262-4b9d-ebdb-79c1a5105303"
      },
      "outputs": [
        {
          "output_type": "stream",
          "name": "stdout",
          "text": [
            "Enter the number 34\n",
            "That number is not divisible by either 3 or 5\n"
          ]
        }
      ],
      "source": [
        "\"\"\"\n",
        "7.Write a program that asks the user to enter a number. You should print out a message to the user, either \n",
        "“That number is divisible by either 3 or 5”, or “That number is not divisible by either 3 or 5”. Be sure \n",
        "to consider the data type of the input you are taking in from the user. Use a single if/else block to solve this problem.\n",
        "\"\"\"\n",
        "number=int(input(\"Enter the number \"))\n",
        "\n",
        "if number%3==0 or number%5==0:\n",
        "  print(\"That number is divisible by either 3 or 5\")\n",
        "else:\n",
        "  print(\"That number is not divisible by either 3 or 5\")"
      ]
    },
    {
      "cell_type": "code",
      "source": [
        "\"\"\"\n",
        "8.Take user input for length and width. Then calculate the area of rectangle. \n",
        "Also print as per length and width whether its a square of rectangle.\n",
        "\"\"\"\n",
        "length=int(input(\"Enter the length of the rectangle\"))\n",
        "width=int(input(\"Enter the width of the rectangle\"))\n",
        "\n",
        "print(f'The area of the rectangle is {length*width}')\n",
        "if length==width:\n",
        "  print(\"as length equals width it is a square\")\n",
        "else:\n",
        "  print(\"as length doesn't equals width it is a rectangle\")"
      ],
      "metadata": {
        "colab": {
          "base_uri": "https://localhost:8080/"
        },
        "id": "cl6mc8_H-4O3",
        "outputId": "5a1daa95-5afe-4b41-a933-9c317de6bd9f"
      },
      "execution_count": 37,
      "outputs": [
        {
          "output_type": "stream",
          "name": "stdout",
          "text": [
            "Enter the length of the rectangle45\n",
            "Enter the width of the rectangle45\n",
            "The area of the rectangle is 2025\n",
            "as length equals width it is a square\n"
          ]
        }
      ]
    },
    {
      "cell_type": "code",
      "source": [
        "\"\"\"\n",
        "9. Take two variable radius_1 and radius_2 and calculate the area of circle_1 and circle_2. \n",
        "Also print which circle has large area. If area is equal then print area is equal.\n",
        "\"\"\"\n",
        "radius_1=int(input(\"Enter the radius of 1st circle \"))\n",
        "radius_2=int(input(\"Enter the radius of 2nd circle \"))\n",
        "print(f\"The area of 1st circle is {(22/7)*(radius_1**2)} and The area of 2nd circle is {(22/7)*(radius_2**2)}\")\n",
        "\n",
        "if radius_1 ==radius_2:\n",
        "  print(\"Both circles have same area\")\n",
        "else:\n",
        "  if radius_1 >radius_2:\n",
        "    print(\"1st circle has the larger area\")\n",
        "  else:\n",
        "    print(\"2nd circle has the larger area\")\n"
      ],
      "metadata": {
        "colab": {
          "base_uri": "https://localhost:8080/"
        },
        "id": "PYBgJnJTAEUT",
        "outputId": "e4ee4b59-7389-4d32-df29-8d34febb88a6"
      },
      "execution_count": 41,
      "outputs": [
        {
          "output_type": "stream",
          "name": "stdout",
          "text": [
            "Enter the radius of 1st circle 23\n",
            "Enter the radius of 2nd circle 3\n",
            "The area of 1st circle is 1662.5714285714284 and The area of 2nd circle is 28.285714285714285\n",
            "1st circle has the larger area\n"
          ]
        }
      ]
    },
    {
      "cell_type": "code",
      "source": [
        "\"\"\"\n",
        "10. Check whether a year is leap year or not. Use nested if...else to solve this problem. \n",
        "A leap year is exactly divisible by 4 except for century years (years ending with 00). \n",
        "The century year is a leap year only if it is perfectly divisible by 400.\n",
        "\"\"\"\n",
        "\n",
        "year=int(input(\"Enter the year \"))\n",
        "if year%400==0:\n",
        "  print(f\"The year {year} is a leap year\")\n",
        "else:\n",
        "  if year%100==0:\n",
        "    print(f\"The year {year} is not a leap year\")\n",
        "  else:\n",
        "    if year%4==0:\n",
        "      print(f\"The year {year} is a leap year\")\n",
        "    else:\n",
        "      print(f\"The year {year} is not a leap year\")"
      ],
      "metadata": {
        "colab": {
          "base_uri": "https://localhost:8080/"
        },
        "id": "fxudFf48ATnT",
        "outputId": "8c405a74-1b96-4616-bcbf-86a2de98d418"
      },
      "execution_count": 45,
      "outputs": [
        {
          "output_type": "stream",
          "name": "stdout",
          "text": [
            "Enter the year 2020\n",
            "The year 2020 is a leap year\n"
          ]
        }
      ]
    }
  ]
}