{
 "cells": [
  {
   "cell_type": "code",
   "execution_count": null,
   "id": "c9b2c567",
   "metadata": {},
   "outputs": [],
   "source": [
    "\"\"\"\n",
    "1. Create a list called years_list, starting with the year of your birth, and each year thereafter until\n",
    "the year of your fifth birthday. For example, if you were born in 1980. the list would be years_list =\n",
    "[1980, 1981, 1982, 1983, 1984, 1985].\n",
    "2. In which year in years_list was your third birthday? Remember, you were 0 years of age for your\n",
    "first year.\n",
    "3.In the years list, which year were you the oldest?\n",
    "4. Make a list called things with these three strings as elements: \"mozzarella\", \"cinderella\",\n",
    "\"salmonella\".\n",
    "5. Capitalize the element in things that refers to a person and then print the list. Did it change the\n",
    "element in the list?\n",
    "6. Make a surprise list with the elements \"Groucho,\" \"Chico,\" and \"Harpo.\"\n",
    "7. Lowercase the last element of the surprise list, reverse it, and then capitalize it.\n",
    "8. Make an English-to-French dictionary called e2f and print it. Here are your starter words: dog is\n",
    "chien, cat is chat, and walrus is morse.\n",
    "9. Write the French word for walrus in your three-word dictionary e2f.\n",
    "10. Make a French-to-English dictionary called f2e from e2f. Use the items method.\n",
    "11. Print the English version of the French word chien using f2e.\n",
    "12. Make and print a set of English words from the keys in e2f.\n",
    "13. Make a multilevel dictionary called life. Use these strings for the topmost keys: 'animals', 'plants',\n",
    "and 'other'. Make the 'animals' key refer to another dictionary with the keys 'cats', 'octopi', and\n",
    "'emus'. Make the 'cats' key refer to a list of strings with the values 'Henri', 'Grumpy', and 'Lucy'.\n",
    "Make all the other keys refer to empty dictionaries.\n",
    "14. Print the top-level keys of life.\n",
    "15. Print the keys for life['animals'].\n",
    "16. Print the values for life['animals']['cats']\n",
    "\"\"\""
   ]
  },
  {
   "cell_type": "code",
   "execution_count": 1,
   "id": "9d61586b",
   "metadata": {},
   "outputs": [
    {
     "name": "stdout",
     "output_type": "stream",
     "text": [
      "[1998, 1999, 2000, 2001, 2002, 2003]\n"
     ]
    }
   ],
   "source": [
    "\"\"\"\n",
    "1. Create a list called years_list, starting with the year of your birth, and each year thereafter until\n",
    "the year of your fifth birthday. For example, if you were born in 1980. the list would be years_list =\n",
    "[1980, 1981, 1982, 1983, 1984, 1985].\n",
    "\"\"\"\n",
    "years_list=[]\n",
    "dob=1998\n",
    "for i in range(6):\n",
    "    years_list.append(dob)\n",
    "    dob+=1\n",
    "print(years_list)"
   ]
  },
  {
   "cell_type": "code",
   "execution_count": 2,
   "id": "18773a5b",
   "metadata": {},
   "outputs": [
    {
     "name": "stdout",
     "output_type": "stream",
     "text": [
      "2001\n"
     ]
    }
   ],
   "source": [
    "\"\"\"\n",
    "2. In which year in years_list was your third birthday? Remember, you were 0 years of age for your\n",
    "first year.\n",
    "\"\"\"\n",
    "print(years_list[3])"
   ]
  },
  {
   "cell_type": "code",
   "execution_count": 7,
   "id": "0b708664",
   "metadata": {},
   "outputs": [
    {
     "name": "stdout",
     "output_type": "stream",
     "text": [
      "2003\n"
     ]
    }
   ],
   "source": [
    "\"\"\"\n",
    "3.In the years list, which year were you the oldest?\n",
    "\"\"\"\n",
    "print(years_list[-1])"
   ]
  },
  {
   "cell_type": "code",
   "execution_count": 8,
   "id": "11cfe5c4",
   "metadata": {},
   "outputs": [
    {
     "name": "stdout",
     "output_type": "stream",
     "text": [
      "['mozzarella', 'cinderella', 'salmonella']\n"
     ]
    }
   ],
   "source": [
    "\"\"\"\n",
    "4. Make a list called things with these three strings as elements: \"mozzarella\",\"cinderella\",\n",
    "\"salmonella\".\n",
    "\"\"\"\n",
    "things=[\"mozzarella\",\"cinderella\",\"salmonella\"]\n",
    "print(things)"
   ]
  },
  {
   "cell_type": "code",
   "execution_count": 9,
   "id": "e3295950",
   "metadata": {},
   "outputs": [
    {
     "name": "stdout",
     "output_type": "stream",
     "text": [
      "['mozzarella', 'Cinderella', 'salmonella']\n"
     ]
    }
   ],
   "source": [
    "\"\"\"\n",
    "5. Capitalize the element in things that refers to a person and then print the list. Did it change the\n",
    "element in the list?\n",
    "\"\"\"\n",
    "things[1]=things[1].capitalize()\n",
    "print(things)\n"
   ]
  },
  {
   "cell_type": "code",
   "execution_count": 11,
   "id": "968612fe",
   "metadata": {},
   "outputs": [
    {
     "name": "stdout",
     "output_type": "stream",
     "text": [
      "['Groucho', 'Chico', 'Harpo']\n",
      "['Groucho', 'Chico', 'Oprah']\n"
     ]
    }
   ],
   "source": [
    "\"\"\"\n",
    "6. Make a surprise list with the elements \"Groucho,\" \"Chico,\" and \"Harpo.\"\n",
    "7. Lowercase the last element of the surprise list, reverse it, and then capitalize it.\n",
    "\"\"\"\n",
    "surprise=[\"Groucho\", \"Chico\" , \"Harpo\"]\n",
    "print(surprise)\n",
    "\n",
    "surprise[-1]=surprise[-1].lower()\n",
    "\n",
    "surprise[-1]=surprise[-1][::-1].capitalize()\n",
    "\n",
    "print(surprise)"
   ]
  },
  {
   "cell_type": "code",
   "execution_count": 12,
   "id": "04b00522",
   "metadata": {},
   "outputs": [
    {
     "name": "stdout",
     "output_type": "stream",
     "text": [
      "{'dog': 'chien', 'cat': 'chat', 'walrus': 'morse'}\n"
     ]
    },
    {
     "data": {
      "text/plain": [
       "dict"
      ]
     },
     "execution_count": 12,
     "metadata": {},
     "output_type": "execute_result"
    }
   ],
   "source": [
    "\"\"\"\n",
    "8. Make an English-to-French dictionary called e2f and print it. Here are your starter words: dog is\n",
    "chien, cat is chat, and walrus is morse.\n",
    "\"\"\"\n",
    "e2f={'dog':'chien','cat':'chat','walrus':'morse'}\n",
    "print(e2f)\n",
    "type(e2f)"
   ]
  },
  {
   "cell_type": "code",
   "execution_count": 15,
   "id": "222a12dd",
   "metadata": {},
   "outputs": [
    {
     "name": "stdout",
     "output_type": "stream",
     "text": [
      "morse\n",
      "morse\n"
     ]
    }
   ],
   "source": [
    "\"\"\"\n",
    "9. Write the French word for walrus in your three-word dictionary e2f.\n",
    "\"\"\"\n",
    "print(e2f.get('walrus'))\n",
    "print(e2f['walrus'])"
   ]
  },
  {
   "cell_type": "code",
   "execution_count": 17,
   "id": "627bff12",
   "metadata": {},
   "outputs": [
    {
     "name": "stdout",
     "output_type": "stream",
     "text": [
      "{'chien': 'dog', 'chat': 'cat', 'morse': 'walrus'}\n"
     ]
    }
   ],
   "source": [
    "\"\"\"\n",
    "10. Make a French-to-English dictionary called f2e from e2f. Use the items method.\n",
    "\"\"\"\n",
    "f2e={english:french for french,english in e2f.items()}\n",
    "\n",
    "print(f2e)"
   ]
  },
  {
   "cell_type": "code",
   "execution_count": 18,
   "id": "48b25548",
   "metadata": {},
   "outputs": [
    {
     "name": "stdout",
     "output_type": "stream",
     "text": [
      "{'chien': 'dog', 'chat': 'cat', 'morse': 'walrus'}\n"
     ]
    }
   ],
   "source": [
    "f2e={}\n",
    "for e,f in e2f.items():\n",
    "    f2e[f]=e\n",
    "print(f2e)"
   ]
  },
  {
   "cell_type": "code",
   "execution_count": 19,
   "id": "8bc47496",
   "metadata": {},
   "outputs": [
    {
     "data": {
      "text/plain": [
       "'dog'"
      ]
     },
     "execution_count": 19,
     "metadata": {},
     "output_type": "execute_result"
    }
   ],
   "source": [
    "\"\"\"\n",
    "11. Print the English version of the French word chien using f2e.\n",
    "\"\"\"\n",
    "f2e['chien']"
   ]
  },
  {
   "cell_type": "code",
   "execution_count": 22,
   "id": "323ac59a",
   "metadata": {},
   "outputs": [
    {
     "name": "stdout",
     "output_type": "stream",
     "text": [
      "{'cat', 'walrus', 'dog'}\n"
     ]
    }
   ],
   "source": [
    "\"\"\"\n",
    "12. Make and print a set of English words from the keys in e2f.\n",
    "\"\"\"\n",
    "englist=[eng for eng,fre in e2f.items()]\n",
    "engset=set(englist)\n",
    "print(engset)"
   ]
  },
  {
   "cell_type": "code",
   "execution_count": 25,
   "id": "cecfce95",
   "metadata": {},
   "outputs": [
    {
     "name": "stdout",
     "output_type": "stream",
     "text": [
      "{'animals': {'cats': ['Henri', 'Grumpy', 'Lucy'], 'octopi': {}, 'emus': {}}, 'plants': {}, 'other': {}}\n"
     ]
    }
   ],
   "source": [
    "\"\"\"\n",
    "13. Make a multilevel dictionary called life. Use these strings for the topmost keys: 'animals', 'plants',\n",
    "and 'other'. Make the 'animals' key refer to another dictionary with the keys 'cats', 'octopi', and\n",
    "'emus'. Make the 'cats' key refer to a list of strings with the values 'Henri', 'Grumpy', and 'Lucy'.\n",
    "Make all the other keys refer to empty dictionaries.\n",
    "\"\"\"\n",
    "life={'animals':{'cats':['Henri', 'Grumpy', 'Lucy'], 'octopi':{},'emus':{}}, 'plants':{},'other':{}}\n",
    "\n",
    "print(life)"
   ]
  },
  {
   "cell_type": "code",
   "execution_count": 30,
   "id": "c5b416bf",
   "metadata": {},
   "outputs": [
    {
     "name": "stdout",
     "output_type": "stream",
     "text": [
      "animals\n",
      "plants\n",
      "other\n",
      "------------------OR-------------------\n",
      "dict_keys(['animals', 'plants', 'other'])\n"
     ]
    }
   ],
   "source": [
    "\"\"\"\n",
    "14. Print the top-level keys of life.\n",
    "\"\"\"\n",
    "for key,val in life.items():\n",
    "    print(key)\n",
    "print(\"------------------OR-------------------\")\n",
    "print(life.keys())"
   ]
  },
  {
   "cell_type": "code",
   "execution_count": 32,
   "id": "4c0b422e",
   "metadata": {},
   "outputs": [
    {
     "name": "stdout",
     "output_type": "stream",
     "text": [
      "dict_keys(['cats', 'octopi', 'emus'])\n",
      "------------------OR-------------------\n",
      "cats\n",
      "octopi\n",
      "emus\n"
     ]
    }
   ],
   "source": [
    "\"\"\"\n",
    "15. Print the keys for life['animals'].\n",
    "\"\"\"\n",
    "print(life['animals'].keys())\n",
    "print(\"------------------OR-------------------\")\n",
    "for key,val in life['animals'].items():\n",
    "    print(key)"
   ]
  },
  {
   "cell_type": "code",
   "execution_count": 34,
   "id": "dfeb9696",
   "metadata": {},
   "outputs": [
    {
     "name": "stdout",
     "output_type": "stream",
     "text": [
      "['Henri', 'Grumpy', 'Lucy']\n"
     ]
    }
   ],
   "source": [
    "\"\"\"\n",
    "16. Print the values for life['animals']['cats']\n",
    "\"\"\"\n",
    "print(life['animals']['cats'])"
   ]
  },
  {
   "cell_type": "code",
   "execution_count": null,
   "id": "6b547f07",
   "metadata": {},
   "outputs": [],
   "source": []
  }
 ],
 "metadata": {
  "kernelspec": {
   "display_name": "Python 3 (ipykernel)",
   "language": "python",
   "name": "python3"
  },
  "language_info": {
   "codemirror_mode": {
    "name": "ipython",
    "version": 3
   },
   "file_extension": ".py",
   "mimetype": "text/x-python",
   "name": "python",
   "nbconvert_exporter": "python",
   "pygments_lexer": "ipython3",
   "version": "3.9.12"
  }
 },
 "nbformat": 4,
 "nbformat_minor": 5
}
