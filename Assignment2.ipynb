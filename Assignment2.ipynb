{
 "cells": [
  {
   "cell_type": "raw",
   "id": "26596c6a-ef10-46c8-b841-052f51aa10d3",
   "metadata": {},
   "source": [
    "1.What are the two values of the Boolean data type? How do you write them?"
   ]
  },
  {
   "cell_type": "code",
   "execution_count": 1,
   "id": "fc581d19-2a5c-4b94-9797-4ee53c97eb4a",
   "metadata": {},
   "outputs": [
    {
     "data": {
      "text/plain": [
       "True"
      ]
     },
     "execution_count": 1,
     "metadata": {},
     "output_type": "execute_result"
    }
   ],
   "source": [
    "True"
   ]
  },
  {
   "cell_type": "code",
   "execution_count": 2,
   "id": "04ebac34-b327-46fc-9f90-c28d493d7d93",
   "metadata": {},
   "outputs": [
    {
     "data": {
      "text/plain": [
       "False"
      ]
     },
     "execution_count": 2,
     "metadata": {},
     "output_type": "execute_result"
    }
   ],
   "source": [
    "False"
   ]
  },
  {
   "cell_type": "code",
   "execution_count": 4,
   "id": "923eb245-6066-4e6b-83d3-91fbaf35ed7e",
   "metadata": {},
   "outputs": [
    {
     "data": {
      "text/plain": [
       "1"
      ]
     },
     "execution_count": 4,
     "metadata": {},
     "output_type": "execute_result"
    }
   ],
   "source": [
    "int(True)"
   ]
  },
  {
   "cell_type": "raw",
   "id": "07c00005-29b3-4c4a-802f-9414286fbcb4",
   "metadata": {},
   "source": [
    "2. What are the three different types of Boolean operators?"
   ]
  },
  {
   "cell_type": "raw",
   "id": "fddd7580-1302-47e5-a90d-a2497b637975",
   "metadata": {},
   "source": [
    "and, not, or"
   ]
  },
  {
   "cell_type": "code",
   "execution_count": 1,
   "id": "197c1a96-619b-4a29-96f4-da819cd39319",
   "metadata": {},
   "outputs": [
    {
     "data": {
      "text/plain": [
       "True"
      ]
     },
     "execution_count": 1,
     "metadata": {},
     "output_type": "execute_result"
    }
   ],
   "source": [
    "20>34 or 23<29"
   ]
  },
  {
   "cell_type": "code",
   "execution_count": 2,
   "id": "fc63efea-6d64-4286-a1f6-bf5096a7cfc2",
   "metadata": {},
   "outputs": [
    {
     "data": {
      "text/plain": [
       "False"
      ]
     },
     "execution_count": 2,
     "metadata": {},
     "output_type": "execute_result"
    }
   ],
   "source": [
    "20>34 and 23<29"
   ]
  },
  {
   "cell_type": "code",
   "execution_count": 3,
   "id": "8177f119-3706-4233-924b-6522f4991c0d",
   "metadata": {},
   "outputs": [
    {
     "data": {
      "text/plain": [
       "True"
      ]
     },
     "execution_count": 3,
     "metadata": {},
     "output_type": "execute_result"
    }
   ],
   "source": [
    "not(20>34)"
   ]
  },
  {
   "cell_type": "raw",
   "id": "4835e149-249a-4c0b-ab51-4d146ba42635",
   "metadata": {},
   "source": [
    "3. Make a list of each Boolean operator's truth tables (i.e. every possible combination of Boolean\n",
    "values for the operator and what it evaluate )."
   ]
  },
  {
   "cell_type": "raw",
   "id": "b2bd946b-580a-405a-a91d-0856365df21e",
   "metadata": {},
   "source": [
    "and:\n",
    "    True and True =True\n",
    "    True and False =False\n",
    "    False and True =False\n",
    "    False and False =False"
   ]
  },
  {
   "cell_type": "raw",
   "id": "9ee57f01-399f-483a-885a-605b0f52e9c2",
   "metadata": {},
   "source": [
    "or:\n",
    "    True or True =True\n",
    "    True or False =True\n",
    "    False or True =True\n",
    "    False or False =False"
   ]
  },
  {
   "cell_type": "raw",
   "id": "8a23ddbe-8fb9-4c07-89e1-757605758ef0",
   "metadata": {},
   "source": [
    "not:\n",
    "    not(True) =False\n",
    "    not(False)=True"
   ]
  },
  {
   "cell_type": "code",
   "execution_count": 4,
   "id": "37c0aa39-3a06-4b6c-b54d-dfd3ecc8cb9b",
   "metadata": {},
   "outputs": [
    {
     "name": "stdout",
     "output_type": "stream",
     "text": [
      "True True True False\n"
     ]
    }
   ],
   "source": [
    "print(True or True,\n",
    "    True or False,\n",
    "    False or True,\n",
    "    False or False)"
   ]
  },
  {
   "cell_type": "code",
   "execution_count": 5,
   "id": "42a7b04c-595f-401d-be35-82646638946b",
   "metadata": {},
   "outputs": [
    {
     "name": "stdout",
     "output_type": "stream",
     "text": [
      "True False False False\n"
     ]
    }
   ],
   "source": [
    "print(True and True,\n",
    "    True and False,\n",
    "    False and True,\n",
    "    False and False)"
   ]
  },
  {
   "cell_type": "code",
   "execution_count": 6,
   "id": "c0821e95-2e69-463b-9b02-7395f3df83bc",
   "metadata": {},
   "outputs": [
    {
     "name": "stdout",
     "output_type": "stream",
     "text": [
      "False True\n"
     ]
    }
   ],
   "source": [
    "print(not(True),\n",
    "    not(False))"
   ]
  },
  {
   "cell_type": "raw",
   "id": "5c5ea8d4-5d7f-4f15-be6e-a4c0ce4385aa",
   "metadata": {},
   "source": [
    "4. What are the values of the following expressions?\n",
    "(5 >4) and (3 == 5)"
   ]
  },
  {
   "cell_type": "code",
   "execution_count": 7,
   "id": "5f6f5e95-a0bd-4591-9c78-f8acf8d6c43b",
   "metadata": {},
   "outputs": [
    {
     "data": {
      "text/plain": [
       "False"
      ]
     },
     "execution_count": 7,
     "metadata": {},
     "output_type": "execute_result"
    }
   ],
   "source": [
    "(5 >4) and (3 == 5)"
   ]
  },
  {
   "cell_type": "code",
   "execution_count": 8,
   "id": "33858d77-c5bb-4855-bc36-7585fd527b53",
   "metadata": {},
   "outputs": [
    {
     "data": {
      "text/plain": [
       "False"
      ]
     },
     "execution_count": 8,
     "metadata": {},
     "output_type": "execute_result"
    }
   ],
   "source": [
    "not (5 > 4)"
   ]
  },
  {
   "cell_type": "code",
   "execution_count": 9,
   "id": "62aaf197-1a33-4656-a13c-d5949e888c1e",
   "metadata": {},
   "outputs": [
    {
     "data": {
      "text/plain": [
       "True"
      ]
     },
     "execution_count": 9,
     "metadata": {},
     "output_type": "execute_result"
    }
   ],
   "source": [
    "(5> 4) or (3 == 5)"
   ]
  },
  {
   "cell_type": "code",
   "execution_count": 10,
   "id": "cd3544d5-d8c3-415f-bb16-9f1fc16488b9",
   "metadata": {},
   "outputs": [
    {
     "data": {
      "text/plain": [
       "False"
      ]
     },
     "execution_count": 10,
     "metadata": {},
     "output_type": "execute_result"
    }
   ],
   "source": [
    "not ((5 >4) or (3 == 5))"
   ]
  },
  {
   "cell_type": "code",
   "execution_count": 11,
   "id": "d12fbd73-c487-4a12-bf75-c4d036d5407c",
   "metadata": {},
   "outputs": [
    {
     "data": {
      "text/plain": [
       "False"
      ]
     },
     "execution_count": 11,
     "metadata": {},
     "output_type": "execute_result"
    }
   ],
   "source": [
    "(True and True) and (True == False)"
   ]
  },
  {
   "cell_type": "code",
   "execution_count": 12,
   "id": "3a8d8411-e456-414d-8fe5-379e0cb53816",
   "metadata": {},
   "outputs": [
    {
     "data": {
      "text/plain": [
       "True"
      ]
     },
     "execution_count": 12,
     "metadata": {},
     "output_type": "execute_result"
    }
   ],
   "source": [
    "(not False) or (not True)"
   ]
  },
  {
   "cell_type": "raw",
   "id": "d9db3705-c1ff-480d-9d5f-4141fd6db56a",
   "metadata": {},
   "source": [
    "5. What are the six comparison operators?"
   ]
  },
  {
   "cell_type": "raw",
   "id": "f400156e-66c5-4478-8425-8ff192e89678",
   "metadata": {},
   "source": [
    "==(equals), >=(greater or equal), <=, >, <, !=(not equals)"
   ]
  },
  {
   "cell_type": "raw",
   "id": "e9543a41-0612-4be3-91bd-161909883d5e",
   "metadata": {},
   "source": [
    "6. How do you tell the difference between the equal to and assignment operators?Describe a\n",
    "condition and when you would use one."
   ]
  },
  {
   "cell_type": "raw",
   "id": "03e3e226-296d-4ac7-8d4d-fb81358aabc6",
   "metadata": {},
   "source": [
    "assignment operator(=) is used to assign something to a variable. like a =[23,234,32]\n",
    "(assigning a list to a variable named a). Doesn't give any output\n",
    "equal to (==) is used to check whether LHS and RHS of the operator are same(equal in value).It generates boolean as output. like 2== 10-3, (as 2 is not equal to 7 it provides output as false)"
   ]
  },
  {
   "cell_type": "raw",
   "id": "1c9bed05-4e81-4f9f-80bd-cf4981501c6d",
   "metadata": {},
   "source": [
    "7. Identify the three blocks in this code:\n",
    "spam = 0\n",
    "if spam == 10:\n",
    "print('eggs')\n",
    "if spam > 5:\n",
    "print('bacon')\n",
    "else:\n",
    "print('ham')\n",
    "print('spam')\n",
    "print('spam')"
   ]
  },
  {
   "cell_type": "code",
   "execution_count": 14,
   "id": "d284fccd-fea7-4323-b4bb-ccb8c285850a",
   "metadata": {},
   "outputs": [
    {
     "name": "stdout",
     "output_type": "stream",
     "text": [
      "ham\n",
      "spam\n",
      "spam\n"
     ]
    }
   ],
   "source": [
    "spam = 0\n",
    "if spam == 10:\n",
    "    print('eggs')\n",
    "if spam > 5:\n",
    "    print('bacon')\n",
    "else:\n",
    "    print('ham')\n",
    "    print('spam')\n",
    "print('spam')"
   ]
  },
  {
   "cell_type": "raw",
   "id": "d85e5c25-7e22-4dfb-97e1-4adbf2fb572a",
   "metadata": {},
   "source": [
    "8. Write code that prints Hello if 1 is stored in spam, prints Howdy if 2 is stored in spam, and prints\n",
    "Greetings! if anything else is stored in spam."
   ]
  },
  {
   "cell_type": "code",
   "execution_count": 22,
   "id": "d2f5f394-11e3-4466-852b-0e56961b36d2",
   "metadata": {},
   "outputs": [],
   "source": [
    "def spammer():\n",
    "    \"\"\"\n",
    "    This Func prints Hello/Howdy/Greetings based on inpt integer provided\n",
    "    \"\"\"\n",
    "    spam=[]\n",
    "    while type(spam)!=int:\n",
    "        try:\n",
    "            spam=int(input(\"Enter Integer\"))\n",
    "        except:\n",
    "            print(\"Please provide an integer to gen output\")\n",
    "            pass\n",
    "    if spam==1:\n",
    "        print(\"Hello\")\n",
    "    elif spam==2:\n",
    "        print(\"Howdy\")\n",
    "    else:\n",
    "        print(\"Greeting!\")\n"
   ]
  },
  {
   "cell_type": "code",
   "execution_count": 23,
   "id": "230f9e81-6ee8-4895-8288-b0a58597b03f",
   "metadata": {},
   "outputs": [
    {
     "name": "stdin",
     "output_type": "stream",
     "text": [
      "Enter Integer sdf\n"
     ]
    },
    {
     "name": "stdout",
     "output_type": "stream",
     "text": [
      "Please provide an integer to gen output\n"
     ]
    },
    {
     "name": "stdin",
     "output_type": "stream",
     "text": [
      "Enter Integer ssfsdf\n"
     ]
    },
    {
     "name": "stdout",
     "output_type": "stream",
     "text": [
      "Please provide an integer to gen output\n"
     ]
    },
    {
     "name": "stdin",
     "output_type": "stream",
     "text": [
      "Enter Integer 23\n"
     ]
    },
    {
     "name": "stdout",
     "output_type": "stream",
     "text": [
      "Greeting!\n"
     ]
    }
   ],
   "source": [
    "spammer()"
   ]
  },
  {
   "cell_type": "raw",
   "id": "b76d9a29-5864-44e4-abf6-ee3b1159de4c",
   "metadata": {},
   "source": [
    "9.If your programme is stuck in an endless loop, what keys you’ll press?"
   ]
  },
  {
   "cell_type": "raw",
   "id": "74abb36b-8b0b-44a8-81ce-0ed2b952e0ab",
   "metadata": {},
   "source": [
    "To exit out of infinite loops on the command line, press CTRL + C "
   ]
  },
  {
   "cell_type": "raw",
   "id": "76b07284-ffc1-4f82-9776-f2dce1f0c2b1",
   "metadata": {},
   "source": [
    "10. How can you tell the difference between break and continue?|"
   ]
  },
  {
   "cell_type": "raw",
   "id": "d9c7d5d0-2837-4daf-a5e6-876fdc9b8e0b",
   "metadata": {},
   "source": [
    "SImple difference btw break and continue is break takes you out of the loop and executes the commands\n",
    "after the loop, whereas continue just breaks the current iteration and starts the next iteration in the same loop"
   ]
  },
  {
   "cell_type": "code",
   "execution_count": null,
   "id": "9361cdee-d113-4fab-af9f-a89988704c41",
   "metadata": {},
   "outputs": [],
   "source": [
    "for i in range(10):\n",
    "    if i<2:\n",
    "        print(\"contiunuing\",i)\n",
    "        continue;\n",
    "    if i==3:\n",
    "        print(\"breaking\",i)\n",
    "        break;\n",
    "    print(\"Nothing happened\")\n",
    "print(i)"
   ]
  },
  {
   "cell_type": "raw",
   "id": "68546c9a-26cd-4da5-9d66-30ff7deabe65",
   "metadata": {},
   "source": [
    "As you can see above, 1st  iteration just started next iteration without completely \n",
    "executing the loop (as Nothing happened isn't printed), In 2n case as it doen't satify 1st 2 conditions it printed \"Nothing happend\", and 3rd iteration just broke the loop without going forward"
   ]
  },
  {
   "cell_type": "raw",
   "id": "d6d55f18-7a2a-4c18-b588-a0a922ed00ae",
   "metadata": {},
   "source": [
    "11. In a for loop, what is the difference between range(10), range(0, 10), and range(0, 10, 1)?"
   ]
  },
  {
   "cell_type": "code",
   "execution_count": 6,
   "id": "2d709273-bdc4-4fce-8371-c9cc12773129",
   "metadata": {},
   "outputs": [
    {
     "data": {
      "text/plain": [
       "[0, 1, 2, 3, 4, 5, 6, 7, 8, 9]"
      ]
     },
     "execution_count": 6,
     "metadata": {},
     "output_type": "execute_result"
    }
   ],
   "source": [
    "list(range(10))"
   ]
  },
  {
   "cell_type": "code",
   "execution_count": 7,
   "id": "600ba65e-078a-4919-99d8-3fac489735cc",
   "metadata": {},
   "outputs": [
    {
     "data": {
      "text/plain": [
       "[0, 1, 2, 3, 4, 5, 6, 7, 8, 9]"
      ]
     },
     "execution_count": 7,
     "metadata": {},
     "output_type": "execute_result"
    }
   ],
   "source": [
    "list(range(0, 10))"
   ]
  },
  {
   "cell_type": "code",
   "execution_count": 8,
   "id": "4407a6c0-cc6c-488d-9526-588ee33c946c",
   "metadata": {},
   "outputs": [
    {
     "data": {
      "text/plain": [
       "[0, 1, 2, 3, 4, 5, 6, 7, 8, 9]"
      ]
     },
     "execution_count": 8,
     "metadata": {},
     "output_type": "execute_result"
    }
   ],
   "source": [
    "list(range(0, 10, 1))"
   ]
  },
  {
   "cell_type": "raw",
   "id": "37c41c47-fa50-433d-9edb-03ddd57722fe",
   "metadata": {},
   "source": [
    "as you can see all are same, you are just providing the default value inputs in 2nd and 3rd case"
   ]
  },
  {
   "cell_type": "raw",
   "id": "d123a8d2-88e1-4028-a373-2c1eca603bb6",
   "metadata": {},
   "source": [
    "12. Write a short program that prints the numbers 1 to 10 using a for loop. Then write an equivalent\n",
    "program that prints the numbers 1 to 10 using a while loop."
   ]
  },
  {
   "cell_type": "code",
   "execution_count": 11,
   "id": "1e5e3cdc-9ca7-4608-840a-581f238b8f2a",
   "metadata": {},
   "outputs": [
    {
     "name": "stdout",
     "output_type": "stream",
     "text": [
      "1 2 3 4 5 6 7 8 9 10 "
     ]
    }
   ],
   "source": [
    "for i in range(1,11):\n",
    "    print(i, end=\" \")"
   ]
  },
  {
   "cell_type": "code",
   "execution_count": 12,
   "id": "29b1653e-ba25-4bfb-a2af-156d1546c7cc",
   "metadata": {},
   "outputs": [
    {
     "name": "stdout",
     "output_type": "stream",
     "text": [
      "1 2 3 4 5 6 7 8 9 10 "
     ]
    }
   ],
   "source": [
    "i=1\n",
    "while(i<11):\n",
    "    print(i, end=\" \")\n",
    "    i+=1"
   ]
  },
  {
   "cell_type": "raw",
   "id": "bbf27bf4-c000-40bb-a63b-6591961fbea3",
   "metadata": {},
   "source": [
    "13. If you had a function named bacon() inside a module named spam, how would you call it after\n",
    "importing spam?"
   ]
  },
  {
   "cell_type": "raw",
   "id": "f3d2e873-8f73-4824-a248-276aba452c40",
   "metadata": {},
   "source": [
    "spam.bacon()\n",
    "or \n",
    "import spam as s\n",
    "s.bacon()"
   ]
  },
  {
   "cell_type": "code",
   "execution_count": null,
   "id": "3e1f3a83-1485-4100-bcb4-6debf344fcc3",
   "metadata": {},
   "outputs": [],
   "source": []
  }
 ],
 "metadata": {
  "kernelspec": {
   "display_name": "Python 3 (ipykernel)",
   "language": "python",
   "name": "python3"
  },
  "language_info": {
   "codemirror_mode": {
    "name": "ipython",
    "version": 3
   },
   "file_extension": ".py",
   "mimetype": "text/x-python",
   "name": "python",
   "nbconvert_exporter": "python",
   "pygments_lexer": "ipython3",
   "version": "3.9.12"
  }
 },
 "nbformat": 4,
 "nbformat_minor": 5
}
