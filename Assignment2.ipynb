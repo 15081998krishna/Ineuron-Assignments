{
 "cells": [
  {
   "cell_type": "code",
   "execution_count": null,
   "id": "e57d7a23-d595-4fe8-9312-c8cc12ee5d8c",
   "metadata": {},
   "outputs": [],
   "source": [
    "#1.What are the two values of the Boolean data type? How do you write them?"
   ]
  },
  {
   "cell_type": "code",
   "execution_count": 1,
   "id": "fc581d19-2a5c-4b94-9797-4ee53c97eb4a",
   "metadata": {},
   "outputs": [
    {
     "data": {
      "text/plain": [
       "True"
      ]
     },
     "execution_count": 1,
     "metadata": {},
     "output_type": "execute_result"
    }
   ],
   "source": [
    "True"
   ]
  },
  {
   "cell_type": "code",
   "execution_count": 2,
   "id": "04ebac34-b327-46fc-9f90-c28d493d7d93",
   "metadata": {},
   "outputs": [
    {
     "data": {
      "text/plain": [
       "False"
      ]
     },
     "execution_count": 2,
     "metadata": {},
     "output_type": "execute_result"
    }
   ],
   "source": [
    "False"
   ]
  },
  {
   "cell_type": "code",
   "execution_count": 4,
   "id": "923eb245-6066-4e6b-83d3-91fbaf35ed7e",
   "metadata": {},
   "outputs": [
    {
     "data": {
      "text/plain": [
       "1"
      ]
     },
     "execution_count": 4,
     "metadata": {},
     "output_type": "execute_result"
    }
   ],
   "source": [
    "int(True)"
   ]
  },
  {
   "cell_type": "code",
   "execution_count": null,
   "id": "3a161954-0adb-40e9-a623-4154896a14bb",
   "metadata": {},
   "outputs": [],
   "source": [
    "#2. What are the three different types of Boolean operators?"
   ]
  },
  {
   "cell_type": "code",
   "execution_count": null,
   "id": "74eb7a57-b1ea-4d3e-992c-7a7661698369",
   "metadata": {},
   "outputs": [],
   "source": [
    "#and, not, or"
   ]
  },
  {
   "cell_type": "code",
   "execution_count": 1,
   "id": "197c1a96-619b-4a29-96f4-da819cd39319",
   "metadata": {},
   "outputs": [
    {
     "data": {
      "text/plain": [
       "True"
      ]
     },
     "execution_count": 1,
     "metadata": {},
     "output_type": "execute_result"
    }
   ],
   "source": [
    "20>34 or 23<29"
   ]
  },
  {
   "cell_type": "code",
   "execution_count": 2,
   "id": "fc63efea-6d64-4286-a1f6-bf5096a7cfc2",
   "metadata": {},
   "outputs": [
    {
     "data": {
      "text/plain": [
       "False"
      ]
     },
     "execution_count": 2,
     "metadata": {},
     "output_type": "execute_result"
    }
   ],
   "source": [
    "20>34 and 23<29"
   ]
  },
  {
   "cell_type": "code",
   "execution_count": 3,
   "id": "8177f119-3706-4233-924b-6522f4991c0d",
   "metadata": {},
   "outputs": [
    {
     "data": {
      "text/plain": [
       "True"
      ]
     },
     "execution_count": 3,
     "metadata": {},
     "output_type": "execute_result"
    }
   ],
   "source": [
    "not(20>34)"
   ]
  },
  {
   "cell_type": "code",
   "execution_count": null,
   "id": "d2c8816d-8e01-4461-ac70-42d4e3a90cf1",
   "metadata": {},
   "outputs": [],
   "source": [
    "\"\"\"\n",
    "\n",
    "3. Make a list of each Boolean operator's truth tables (i.e. every possible combination of Boolean\n",
    "values for the operator and what it evaluate ).\n",
    "and:\n",
    "    True and True =True\n",
    "    True and False =False\n",
    "    False and True =False\n",
    "    False and False =False\n",
    "or:\n",
    "    True or True =True\n",
    "    True or False =True\n",
    "    False or True =True\n",
    "    False or False =False    \n",
    "not:\n",
    "    not(True) =False\n",
    "    not(False)=True\n",
    "\"\"\""
   ]
  },
  {
   "cell_type": "code",
   "execution_count": 4,
   "id": "37c0aa39-3a06-4b6c-b54d-dfd3ecc8cb9b",
   "metadata": {},
   "outputs": [
    {
     "name": "stdout",
     "output_type": "stream",
     "text": [
      "True True True False\n"
     ]
    }
   ],
   "source": [
    "print(True or True,\n",
    "    True or False,\n",
    "    False or True,\n",
    "    False or False)"
   ]
  },
  {
   "cell_type": "code",
   "execution_count": 5,
   "id": "42a7b04c-595f-401d-be35-82646638946b",
   "metadata": {},
   "outputs": [
    {
     "name": "stdout",
     "output_type": "stream",
     "text": [
      "True False False False\n"
     ]
    }
   ],
   "source": [
    "print(True and True,\n",
    "    True and False,\n",
    "    False and True,\n",
    "    False and False)"
   ]
  },
  {
   "cell_type": "code",
   "execution_count": 6,
   "id": "c0821e95-2e69-463b-9b02-7395f3df83bc",
   "metadata": {},
   "outputs": [
    {
     "name": "stdout",
     "output_type": "stream",
     "text": [
      "False True\n"
     ]
    }
   ],
   "source": [
    "print(not(True),\n",
    "    not(False))"
   ]
  },
  {
   "cell_type": "code",
   "execution_count": null,
   "id": "20ce48e5-6eaa-42e4-af67-7ffa8b88c150",
   "metadata": {},
   "outputs": [],
   "source": [
    "\"\"\"\n",
    "4. What are the values of the following expressions?\n",
    "(5 >4) and (3 == 5)\n",
    "\"\"\""
   ]
  },
  {
   "cell_type": "code",
   "execution_count": 7,
   "id": "5f6f5e95-a0bd-4591-9c78-f8acf8d6c43b",
   "metadata": {},
   "outputs": [
    {
     "data": {
      "text/plain": [
       "False"
      ]
     },
     "execution_count": 7,
     "metadata": {},
     "output_type": "execute_result"
    }
   ],
   "source": [
    "(5 >4) and (3 == 5)"
   ]
  },
  {
   "cell_type": "code",
   "execution_count": 8,
   "id": "33858d77-c5bb-4855-bc36-7585fd527b53",
   "metadata": {},
   "outputs": [
    {
     "data": {
      "text/plain": [
       "False"
      ]
     },
     "execution_count": 8,
     "metadata": {},
     "output_type": "execute_result"
    }
   ],
   "source": [
    "not (5 > 4)"
   ]
  },
  {
   "cell_type": "code",
   "execution_count": 9,
   "id": "62aaf197-1a33-4656-a13c-d5949e888c1e",
   "metadata": {},
   "outputs": [
    {
     "data": {
      "text/plain": [
       "True"
      ]
     },
     "execution_count": 9,
     "metadata": {},
     "output_type": "execute_result"
    }
   ],
   "source": [
    "(5> 4) or (3 == 5)"
   ]
  },
  {
   "cell_type": "code",
   "execution_count": 10,
   "id": "cd3544d5-d8c3-415f-bb16-9f1fc16488b9",
   "metadata": {},
   "outputs": [
    {
     "data": {
      "text/plain": [
       "False"
      ]
     },
     "execution_count": 10,
     "metadata": {},
     "output_type": "execute_result"
    }
   ],
   "source": [
    "not ((5 >4) or (3 == 5))"
   ]
  },
  {
   "cell_type": "code",
   "execution_count": 11,
   "id": "d12fbd73-c487-4a12-bf75-c4d036d5407c",
   "metadata": {},
   "outputs": [
    {
     "data": {
      "text/plain": [
       "False"
      ]
     },
     "execution_count": 11,
     "metadata": {},
     "output_type": "execute_result"
    }
   ],
   "source": [
    "(True and True) and (True == False)"
   ]
  },
  {
   "cell_type": "code",
   "execution_count": 12,
   "id": "3a8d8411-e456-414d-8fe5-379e0cb53816",
   "metadata": {},
   "outputs": [
    {
     "data": {
      "text/plain": [
       "True"
      ]
     },
     "execution_count": 12,
     "metadata": {},
     "output_type": "execute_result"
    }
   ],
   "source": [
    "(not False) or (not True)"
   ]
  },
  {
   "cell_type": "code",
   "execution_count": null,
   "id": "937fbca2-810a-422f-aed6-dd25eb1aa7f0",
   "metadata": {},
   "outputs": [],
   "source": [
    "\"\"\"\n",
    "5. What are the six comparison operators?\n",
    "\n",
    "==(equals), >=(greater or equal), <=, >, <, !=(not equals)\n",
    "\"\"\""
   ]
  },
  {
   "cell_type": "code",
   "execution_count": null,
   "id": "ff9793d1-b531-46f9-955a-bbf875e82f6f",
   "metadata": {},
   "outputs": [],
   "source": [
    "\"\"\"\n",
    "\n",
    "6. How do you tell the difference between the equal to and assignment operators?Describe a\n",
    "condition and when you would use one.\n",
    "\n",
    "assignment operator(=) is used to assign something to a variable. like a =[23,234,32]\n",
    "(assigning a list to a variable named a). Doesn't give any output\n",
    "equal to (==) is used to check whether LHS and RHS of the operator are same(equal in value).It generates boolean as output. like 2== 10-3, (as 2 is not equal to 7 it provides output as false)\n",
    "\"\"\""
   ]
  },
  {
   "cell_type": "code",
   "execution_count": null,
   "id": "e8e75068-6bc2-42cf-88ed-cb7dbb9486b7",
   "metadata": {},
   "outputs": [],
   "source": [
    "\"\"\"\n",
    "7. Identify the three blocks in this code:\n",
    "spam = 0\n",
    "if spam == 10:\n",
    "print('eggs')\n",
    "if spam > 5:\n",
    "print('bacon')\n",
    "else:\n",
    "print('ham')\n",
    "print('spam')\n",
    "print('spam')\n",
    "\n",
    "\"\"\""
   ]
  },
  {
   "cell_type": "code",
   "execution_count": 14,
   "id": "d284fccd-fea7-4323-b4bb-ccb8c285850a",
   "metadata": {},
   "outputs": [
    {
     "name": "stdout",
     "output_type": "stream",
     "text": [
      "ham\n",
      "spam\n",
      "spam\n"
     ]
    }
   ],
   "source": [
    "spam = 0\n",
    "if spam == 10:\n",
    "    print('eggs')\n",
    "if spam > 5:\n",
    "    print('bacon')\n",
    "else:\n",
    "    print('ham')\n",
    "    print('spam')\n",
    "print('spam')"
   ]
  },
  {
   "cell_type": "code",
   "execution_count": null,
   "id": "ac1649d8-5d02-4020-a276-627cfbea5170",
   "metadata": {},
   "outputs": [],
   "source": [
    "\"\"\"\n",
    "8. Write code that prints Hello if 1 is stored in spam, prints Howdy if 2 is stored in spam, and prints\n",
    "Greetings! if anything else is stored in spam.\n",
    "\"\"\""
   ]
  },
  {
   "cell_type": "code",
   "execution_count": 22,
   "id": "d2f5f394-11e3-4466-852b-0e56961b36d2",
   "metadata": {},
   "outputs": [],
   "source": [
    "def spammer():\n",
    "    \"\"\"\n",
    "    This Func prints Hello/Howdy/Greetings based on inpt integer provided\n",
    "    \"\"\"\n",
    "    spam=[]\n",
    "    while type(spam)!=int:\n",
    "        try:\n",
    "            spam=int(input(\"Enter Integer\"))\n",
    "        except:\n",
    "            print(\"Please provide an integer to gen output\")\n",
    "            pass\n",
    "    if spam==1:\n",
    "        print(\"Hello\")\n",
    "    elif spam==2:\n",
    "        print(\"Howdy\")\n",
    "    else:\n",
    "        print(\"Greeting!\")\n"
   ]
  },
  {
   "cell_type": "code",
   "execution_count": 23,
   "id": "230f9e81-6ee8-4895-8288-b0a58597b03f",
   "metadata": {},
   "outputs": [
    {
     "name": "stdin",
     "output_type": "stream",
     "text": [
      "Enter Integer sdf\n"
     ]
    },
    {
     "name": "stdout",
     "output_type": "stream",
     "text": [
      "Please provide an integer to gen output\n"
     ]
    },
    {
     "name": "stdin",
     "output_type": "stream",
     "text": [
      "Enter Integer ssfsdf\n"
     ]
    },
    {
     "name": "stdout",
     "output_type": "stream",
     "text": [
      "Please provide an integer to gen output\n"
     ]
    },
    {
     "name": "stdin",
     "output_type": "stream",
     "text": [
      "Enter Integer 23\n"
     ]
    },
    {
     "name": "stdout",
     "output_type": "stream",
     "text": [
      "Greeting!\n"
     ]
    }
   ],
   "source": [
    "spammer()"
   ]
  },
  {
   "cell_type": "code",
   "execution_count": null,
   "id": "9f4945aa-37ef-4191-b944-b83e304eabaa",
   "metadata": {},
   "outputs": [],
   "source": [
    "\"\"\"\n",
    "\n",
    "9.If your programme is stuck in an endless loop, what keys you’ll press?\n",
    "\n",
    "To exit out of infinite loops on the command line, press CTRL + C \n",
    "\"\"\""
   ]
  },
  {
   "cell_type": "code",
   "execution_count": null,
   "id": "0327ce03-edf1-4f03-95b3-e2e747a09e0f",
   "metadata": {},
   "outputs": [],
   "source": [
    "\"\"\"\n",
    "\n",
    "10. How can you tell the difference between break and continue?|\n",
    "SImple difference btw break and continue is break takes you out of the loop and executes the commands\n",
    "after the loop, whereas continue just breaks the current iteration and starts the next iteration \n",
    "in the same loop\n",
    "\n",
    "\"\"\""
   ]
  },
  {
   "cell_type": "code",
   "execution_count": null,
   "id": "9361cdee-d113-4fab-af9f-a89988704c41",
   "metadata": {},
   "outputs": [],
   "source": [
    "for i in range(10):\n",
    "    if i<2:\n",
    "        print(\"contiunuing\",i)\n",
    "        continue;\n",
    "    if i==3:\n",
    "        print(\"breaking\",i)\n",
    "        break;\n",
    "    print(\"Nothing happened\")\n",
    "print(i)"
   ]
  },
  {
   "cell_type": "code",
   "execution_count": null,
   "id": "5f30f99a-3153-40ee-a973-87143b3c8406",
   "metadata": {},
   "outputs": [],
   "source": [
    "\"\"\"As you can see above, 1st  iteration just started next iteration without completely \n",
    "executing the loop (as Nothing happened isn't printed), In 2n case as it doen't satify \n",
    "1st 2 conditions it printed \"Nothing happend\", and 3rd iteration just broke the loop without \n",
    "going forward\"\"\""
   ]
  },
  {
   "cell_type": "code",
   "execution_count": null,
   "id": "24c4dd39-afd7-4ca4-aa72-d5317cc0dae0",
   "metadata": {},
   "outputs": [],
   "source": [
    "\"\"\"\n",
    "11. In a for loop, what is the difference between range(10), range(0, 10), and range(0, 10, 1)?\n",
    "\"\"\""
   ]
  },
  {
   "cell_type": "code",
   "execution_count": 6,
   "id": "2d709273-bdc4-4fce-8371-c9cc12773129",
   "metadata": {},
   "outputs": [
    {
     "data": {
      "text/plain": [
       "[0, 1, 2, 3, 4, 5, 6, 7, 8, 9]"
      ]
     },
     "execution_count": 6,
     "metadata": {},
     "output_type": "execute_result"
    }
   ],
   "source": [
    "list(range(10))"
   ]
  },
  {
   "cell_type": "code",
   "execution_count": 7,
   "id": "600ba65e-078a-4919-99d8-3fac489735cc",
   "metadata": {},
   "outputs": [
    {
     "data": {
      "text/plain": [
       "[0, 1, 2, 3, 4, 5, 6, 7, 8, 9]"
      ]
     },
     "execution_count": 7,
     "metadata": {},
     "output_type": "execute_result"
    }
   ],
   "source": [
    "list(range(0, 10))"
   ]
  },
  {
   "cell_type": "code",
   "execution_count": 8,
   "id": "4407a6c0-cc6c-488d-9526-588ee33c946c",
   "metadata": {},
   "outputs": [
    {
     "data": {
      "text/plain": [
       "[0, 1, 2, 3, 4, 5, 6, 7, 8, 9]"
      ]
     },
     "execution_count": 8,
     "metadata": {},
     "output_type": "execute_result"
    }
   ],
   "source": [
    "list(range(0, 10, 1))"
   ]
  },
  {
   "cell_type": "code",
   "execution_count": null,
   "id": "25ea8a64-2067-4a0a-8203-0bae9c051744",
   "metadata": {},
   "outputs": [],
   "source": [
    "#as you can see all are same, you are just providing the default value inputs in 2nd and 3rd case"
   ]
  },
  {
   "cell_type": "code",
   "execution_count": null,
   "id": "d239630e-86e7-4f98-ac82-5b78eb484d56",
   "metadata": {},
   "outputs": [],
   "source": [
    "\"\"\"12. Write a short program that prints the numbers 1 to 10 using a for loop. Then write an equivalent\n",
    "program that prints the numbers 1 to 10 using a while loop.\n",
    "\"\"\""
   ]
  },
  {
   "cell_type": "code",
   "execution_count": 11,
   "id": "1e5e3cdc-9ca7-4608-840a-581f238b8f2a",
   "metadata": {},
   "outputs": [
    {
     "name": "stdout",
     "output_type": "stream",
     "text": [
      "1 2 3 4 5 6 7 8 9 10 "
     ]
    }
   ],
   "source": [
    "for i in range(1,11):\n",
    "    print(i, end=\" \")"
   ]
  },
  {
   "cell_type": "code",
   "execution_count": 12,
   "id": "29b1653e-ba25-4bfb-a2af-156d1546c7cc",
   "metadata": {},
   "outputs": [
    {
     "name": "stdout",
     "output_type": "stream",
     "text": [
      "1 2 3 4 5 6 7 8 9 10 "
     ]
    }
   ],
   "source": [
    "i=1\n",
    "while(i<11):\n",
    "    print(i, end=\" \")\n",
    "    i+=1"
   ]
  },
  {
   "cell_type": "code",
   "execution_count": null,
   "id": "694ae6fc-d88e-43ec-945d-ff8c337dea78",
   "metadata": {},
   "outputs": [],
   "source": [
    "\"\"\"\n",
    "13. If you had a function named bacon() inside a module named spam, how would you call it after\n",
    "importing spam?\n",
    "\n",
    "spam.bacon()\n",
    "or \n",
    "import spam as s\n",
    "s.bacon()\n",
    "\"\"\""
   ]
  }
 ],
 "metadata": {
  "kernelspec": {
   "display_name": "Python 3 (ipykernel)",
   "language": "python",
   "name": "python3"
  },
  "language_info": {
   "codemirror_mode": {
    "name": "ipython",
    "version": 3
   },
   "file_extension": ".py",
   "mimetype": "text/x-python",
   "name": "python",
   "nbconvert_exporter": "python",
   "pygments_lexer": "ipython3",
   "version": "3.9.12"
  }
 },
 "nbformat": 4,
 "nbformat_minor": 5
}
