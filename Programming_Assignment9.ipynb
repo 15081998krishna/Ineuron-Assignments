{
 "cells": [
  {
   "cell_type": "code",
   "execution_count": null,
   "id": "46a789fb",
   "metadata": {},
   "outputs": [],
   "source": [
    "\"\"\"\n",
    "1. Write a Python program to check if the given number is a Disarium Number?\n",
    "2. Write a Python program to print all disarium numbers between 1 to 100?\n",
    "3. Write a Python program to check if the given number is Happy Number?\n",
    "4. Write a Python program to print all happy numbers between 1 and 100?\n",
    "5. Write a Python program to determine whether the given number is a Harshad Number?\n",
    "6. Write a Python program to print all pronic numbers between 1 and 100?\"\"\""
   ]
  },
  {
   "cell_type": "code",
   "execution_count": 8,
   "id": "aba9cdb9",
   "metadata": {},
   "outputs": [
    {
     "name": "stdout",
     "output_type": "stream",
     "text": [
      "True\n",
      "True\n",
      "False\n"
     ]
    }
   ],
   "source": [
    "\"\"\"\n",
    "1. Write a Python program to check if the given number is a Disarium Number?\n",
    "\"\"\"\n",
    "def is_disarium(num):\n",
    "    s=str(num)\n",
    "    sum=0\n",
    "    for i in range(len(s)):\n",
    "        sum+=(int(s[i])**(i+1))\n",
    "    if sum==num:\n",
    "        return True\n",
    "    else:\n",
    "        return False\n",
    "        \n",
    "print(is_disarium(89))   \n",
    "print(is_disarium(4))\n",
    "print(is_disarium(34))"
   ]
  },
  {
   "cell_type": "code",
   "execution_count": 24,
   "id": "c1708e37",
   "metadata": {},
   "outputs": [
    {
     "name": "stdout",
     "output_type": "stream",
     "text": [
      "1 2 3 4 5 6 7 8 9 89 "
     ]
    }
   ],
   "source": [
    "\"\"\"\n",
    "2. Write a Python program to print all disarium numbers between 1 to 100?\n",
    "\"\"\"\n",
    "for i in range(1,101):\n",
    "    if is_disarium(i):\n",
    "        print(f\"{i}\", end=\" \")"
   ]
  },
  {
   "cell_type": "code",
   "execution_count": 21,
   "id": "0db4ea16",
   "metadata": {},
   "outputs": [
    {
     "name": "stdout",
     "output_type": "stream",
     "text": [
      "False\n",
      "True\n"
     ]
    }
   ],
   "source": [
    "\"\"\"\n",
    "3. Write a Python program to check if the given number is Happy Number?\n",
    "\"\"\"\n",
    "def is_happy(num):\n",
    "    s=str(num)\n",
    "    seen=set()\n",
    "    while True:\n",
    "        tsum=0\n",
    "        for i in range(len(s)):\n",
    "            tsum+=(int(s[i])**2)\n",
    "        if tsum==1:\n",
    "            return True\n",
    "        elif tsum in seen:\n",
    "            return False\n",
    "        \n",
    "        s=str(tsum)\n",
    "        seen.add(tsum)\n",
    "\n",
    "print(is_happy(34))\n",
    "print(is_happy(100))      "
   ]
  },
  {
   "cell_type": "code",
   "execution_count": 26,
   "id": "f13422e1",
   "metadata": {},
   "outputs": [
    {
     "name": "stdout",
     "output_type": "stream",
     "text": [
      "1 7 10 13 19 23 28 31 32 44 49 68 70 79 82 86 91 94 97 100 "
     ]
    }
   ],
   "source": [
    "\"\"\"\n",
    "4. Write a Python program to print all happy numbers between 1 and 100?\n",
    "\"\"\"\n",
    "for i in range(1,101):\n",
    "    if is_happy(i):\n",
    "        print(f\"{i}\", end=\" \") "
   ]
  },
  {
   "cell_type": "code",
   "execution_count": 30,
   "id": "d6c5a295",
   "metadata": {},
   "outputs": [
    {
     "name": "stdout",
     "output_type": "stream",
     "text": [
      "False\n",
      "True\n",
      "True\n"
     ]
    }
   ],
   "source": [
    "\"\"\"\n",
    "5. Write a Python program to determine whether the given number is a Harshad Number?\n",
    "\"\"\"\n",
    "def is_harshad(num):\n",
    "    k=str(num)\n",
    "    tsum=sum([int(i) for i in k])\n",
    "    if num%tsum==0:\n",
    "        return True\n",
    "    return False\n",
    "print(is_harshad(25))\n",
    "print(is_harshad(100))\n",
    "print(is_harshad(18))"
   ]
  },
  {
   "cell_type": "code",
   "execution_count": 31,
   "id": "978dfbca",
   "metadata": {},
   "outputs": [
    {
     "name": "stdout",
     "output_type": "stream",
     "text": [
      "1 2 4 6 9 12 16 20 25 30 36 42 49 56 64 72 81 90 100 "
     ]
    }
   ],
   "source": [
    "\"\"\"\n",
    "6. Write a Python program to print all pronic numbers between 1 and 100?\n",
    "\"\"\"\n",
    "import math\n",
    "def is_pronic(num):\n",
    "    k=math.sqrt(num)\n",
    "    if num==(math.floor(k) * math.ceil(k)):\n",
    "        return True\n",
    "    return False\n",
    "for i in range(1,101):\n",
    "    if is_pronic(i):\n",
    "        print(i, end=\" \")\n",
    "    "
   ]
  },
  {
   "cell_type": "code",
   "execution_count": null,
   "id": "9550dc7e",
   "metadata": {},
   "outputs": [],
   "source": []
  }
 ],
 "metadata": {
  "kernelspec": {
   "display_name": "Python 3 (ipykernel)",
   "language": "python",
   "name": "python3"
  },
  "language_info": {
   "codemirror_mode": {
    "name": "ipython",
    "version": 3
   },
   "file_extension": ".py",
   "mimetype": "text/x-python",
   "name": "python",
   "nbconvert_exporter": "python",
   "pygments_lexer": "ipython3",
   "version": "3.9.12"
  }
 },
 "nbformat": 4,
 "nbformat_minor": 5
}
