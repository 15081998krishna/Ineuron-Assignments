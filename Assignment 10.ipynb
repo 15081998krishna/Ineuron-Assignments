{
 "cells": [
  {
   "cell_type": "code",
   "execution_count": 5,
   "id": "80b61b11",
   "metadata": {},
   "outputs": [],
   "source": [
    "\"\"\"\n",
    "1. How do you distinguish between shutil.copy() and shutil.copytree()?\n",
    "\n",
    "shutil.copy copies only a single file, while shutil.copytree() copies entire folder along with its contents\n",
    "\"\"\"\n",
    "import os\n",
    "os.getcwd()\n",
    "os.rename(\"Test1 Folder\",\"X Folder\")\n"
   ]
  },
  {
   "cell_type": "code",
   "execution_count": 8,
   "id": "3c252ac9",
   "metadata": {},
   "outputs": [
    {
     "name": "stdout",
     "output_type": "stream",
     "text": [
      "[' Programming_Assignment2.ipynb', '.ipynb_checkpoints', 'Assignment 10.ipynb', 'Assignment 11.ipynb', 'Assignment 12.ipynb', 'Assignment 13.ipynb', 'Assignment 7.ipynb', 'Assignment 8.ipynb', 'Assignment 9.ipynb', 'E.zip', 'Programming_Assignment1.ipynb', 'test.txt', 'Test3 Folder', 'text.bak', 'text.dat', 'text.dir', 'X Folder']\n",
      "[' Programming_Assignment2.ipynb', '.ipynb_checkpoints', 'Assignment 10.ipynb', 'Assignment 11.ipynb', 'Assignment 12.ipynb', 'Assignment 13.ipynb', 'Assignment 7.ipynb', 'Assignment 8.ipynb', 'Assignment 9.ipynb', 'E.zip', 'Programming_Assignment1.ipynb', 'test.txt', 'Test2 Folder', 'text.bak', 'text.dat', 'text.dir', 'X Folder']\n"
     ]
    }
   ],
   "source": [
    "\"\"\"\n",
    "2. What function is used to rename files??\n",
    "os.rename or shutil.move can be used\n",
    "\n",
    "\"\"\"\n",
    "import shutil\n",
    "print(os.listdir())\n",
    "shutil.move('./Test3 Folder','./Test2 Folder')\n",
    "print(os.listdir())"
   ]
  },
  {
   "cell_type": "code",
   "execution_count": 16,
   "id": "be7b543a",
   "metadata": {},
   "outputs": [],
   "source": [
    "\"\"\"\n",
    "3. What is the difference between the delete functions in the send2trash and shutil modules?\n",
    "\n",
    "  send2trash module functions deletes the files but are available in recycle bin. But shutil module fuctions \n",
    "delete the directory completely from the system\n",
    "\"\"\"\n",
    "import send2trash as st\n",
    "st.send2trash(\"text.bak\")\n",
    "shutil.rmtree(\"Test2 Folder\")\n",
    "\n"
   ]
  },
  {
   "cell_type": "code",
   "execution_count": 19,
   "id": "5f6ad322",
   "metadata": {},
   "outputs": [
    {
     "data": {
      "text/plain": [
       "'C:\\\\Users\\\\vamsi.k\\\\Python\\\\INEURON\\\\Untitled Folder'"
      ]
     },
     "execution_count": 19,
     "metadata": {},
     "output_type": "execute_result"
    }
   ],
   "source": [
    "os.getcwd()"
   ]
  },
  {
   "cell_type": "code",
   "execution_count": 20,
   "id": "100cfd7a",
   "metadata": {},
   "outputs": [
    {
     "ename": "PermissionError",
     "evalue": "[Errno 13] Permission denied: 'C:\\\\Users\\\\vamsi.k\\\\Python\\\\INEURON\\\\Untitled Folder\\\\E.zip'",
     "output_type": "error",
     "traceback": [
      "\u001b[1;31m---------------------------------------------------------------------------\u001b[0m",
      "\u001b[1;31mPermissionError\u001b[0m                           Traceback (most recent call last)",
      "Input \u001b[1;32mIn [20]\u001b[0m, in \u001b[0;36m<cell line: 9>\u001b[1;34m()\u001b[0m\n\u001b[0;32m      1\u001b[0m \u001b[38;5;124;03m\"\"\"\u001b[39;00m\n\u001b[0;32m      2\u001b[0m \u001b[38;5;124;03m4.ZipFile objects have a close() method just like File objects’ close() method. What ZipFile method is\u001b[39;00m\n\u001b[0;32m      3\u001b[0m \u001b[38;5;124;03mequivalent to File objects’ open() method?\u001b[39;00m\n\u001b[1;32m   (...)\u001b[0m\n\u001b[0;32m      6\u001b[0m \u001b[38;5;124;03mand the second argument is the mode to open the ZIP file in (read, write, or append)\u001b[39;00m\n\u001b[0;32m      7\u001b[0m \u001b[38;5;124;03m\"\"\"\u001b[39;00m\n\u001b[0;32m      8\u001b[0m \u001b[38;5;28;01mimport\u001b[39;00m \u001b[38;5;21;01mzipfile\u001b[39;00m \u001b[38;5;28;01mas\u001b[39;00m \u001b[38;5;21;01mzf\u001b[39;00m\n\u001b[1;32m----> 9\u001b[0m k\u001b[38;5;241m=\u001b[39m\u001b[43mzf\u001b[49m\u001b[38;5;241;43m.\u001b[39;49m\u001b[43mZipFile\u001b[49m\u001b[43m(\u001b[49m\u001b[38;5;124;43m\"\u001b[39;49m\u001b[38;5;124;43mC:\u001b[39;49m\u001b[38;5;130;43;01m\\\\\u001b[39;49;00m\u001b[38;5;124;43mUsers\u001b[39;49m\u001b[38;5;130;43;01m\\\\\u001b[39;49;00m\u001b[38;5;124;43mvamsi.k\u001b[39;49m\u001b[38;5;130;43;01m\\\\\u001b[39;49;00m\u001b[38;5;124;43mPython\u001b[39;49m\u001b[38;5;130;43;01m\\\\\u001b[39;49;00m\u001b[38;5;124;43mINEURON\u001b[39;49m\u001b[38;5;130;43;01m\\\\\u001b[39;49;00m\u001b[38;5;124;43mUntitled Folder\u001b[39;49m\u001b[38;5;130;43;01m\\\\\u001b[39;49;00m\u001b[38;5;124;43mE.zip\u001b[39;49m\u001b[38;5;124;43m\"\u001b[39;49m\u001b[43m)\u001b[49m\n\u001b[0;32m     10\u001b[0m k\u001b[38;5;241m.\u001b[39mextractall(\u001b[38;5;124m\"\u001b[39m\u001b[38;5;124mE.zip\u001b[39m\u001b[38;5;124m\"\u001b[39m)\n\u001b[0;32m     11\u001b[0m k\u001b[38;5;241m.\u001b[39mclose()\n",
      "File \u001b[1;32m~\\Python\\lib\\zipfile.py:1248\u001b[0m, in \u001b[0;36mZipFile.__init__\u001b[1;34m(self, file, mode, compression, allowZip64, compresslevel, strict_timestamps)\u001b[0m\n\u001b[0;32m   1246\u001b[0m \u001b[38;5;28;01mwhile\u001b[39;00m \u001b[38;5;28;01mTrue\u001b[39;00m:\n\u001b[0;32m   1247\u001b[0m     \u001b[38;5;28;01mtry\u001b[39;00m:\n\u001b[1;32m-> 1248\u001b[0m         \u001b[38;5;28mself\u001b[39m\u001b[38;5;241m.\u001b[39mfp \u001b[38;5;241m=\u001b[39m \u001b[43mio\u001b[49m\u001b[38;5;241;43m.\u001b[39;49m\u001b[43mopen\u001b[49m\u001b[43m(\u001b[49m\u001b[43mfile\u001b[49m\u001b[43m,\u001b[49m\u001b[43m \u001b[49m\u001b[43mfilemode\u001b[49m\u001b[43m)\u001b[49m\n\u001b[0;32m   1249\u001b[0m     \u001b[38;5;28;01mexcept\u001b[39;00m \u001b[38;5;167;01mOSError\u001b[39;00m:\n\u001b[0;32m   1250\u001b[0m         \u001b[38;5;28;01mif\u001b[39;00m filemode \u001b[38;5;129;01min\u001b[39;00m modeDict:\n",
      "\u001b[1;31mPermissionError\u001b[0m: [Errno 13] Permission denied: 'C:\\\\Users\\\\vamsi.k\\\\Python\\\\INEURON\\\\Untitled Folder\\\\E.zip'"
     ]
    }
   ],
   "source": [
    "\"\"\"\n",
    "4.ZipFile objects have a close() method just like File objects’ close() method. What ZipFile method is\n",
    "equivalent to File objects’ open() method?\n",
    "\n",
    "The zipfile.ZipFile() function is equivalent to the open() function; the first argument is the filename, \n",
    "and the second argument is the mode to open the ZIP file in (read, write, or append)\n",
    "\"\"\"\n",
    "import zipfile as zf\n",
    "k=zf.ZipFile(\"C:\\\\Users\\\\vamsi.k\\\\Python\\\\INEURON\\\\Untitled Folder\\\\E.zip\")\n",
    "k.extractall(\"E.zip\")\n",
    "k.close()\n"
   ]
  },
  {
   "cell_type": "code",
   "execution_count": 22,
   "id": "b687a589",
   "metadata": {},
   "outputs": [
    {
     "name": "stdout",
     "output_type": "stream",
     "text": [
      "False\n"
     ]
    }
   ],
   "source": [
    "import zipfile as zf\n",
    "print(zf.is_zipfile(\"C:\\\\Users\\\\vamsi.k\\\\Desktop\\\\E.zip\"))"
   ]
  },
  {
   "cell_type": "code",
   "execution_count": 29,
   "id": "723eda88",
   "metadata": {},
   "outputs": [
    {
     "data": {
      "text/plain": [
       "'\\\\'"
      ]
     },
     "execution_count": 29,
     "metadata": {},
     "output_type": "execute_result"
    }
   ],
   "source": [
    "os.path.sep"
   ]
  },
  {
   "cell_type": "code",
   "execution_count": 2,
   "id": "a7568050",
   "metadata": {},
   "outputs": [
    {
     "name": "stdout",
     "output_type": "stream",
     "text": [
      "C:\\Users\\vamsi.k\\Python\\INEURON\\Untitled Folder  +  ['.ipynb_checkpoints', 'X Folder']  +  [' Programming_Assignment2.ipynb', 'Assignment 10.ipynb', 'Assignment 11.ipynb', 'Assignment 12.ipynb', 'Assignment 13.ipynb', 'Assignment 7.ipynb', 'Assignment 8.ipynb', 'Assignment 9.ipynb', 'E1.PNG', 'E2.PNG', 'Programming_Assignment1.ipynb', 'Selections', 'test.txt', 'text.dat', 'text.dir']\n",
      "C:\\Users\\vamsi.k\\Python\\INEURON\\Untitled Folder\\.ipynb_checkpoints  +  []  +  [' Programming_Assignment2-checkpoint.ipynb', 'Assignment 10-checkpoint.ipynb', 'Assignment 11-checkpoint.ipynb', 'Assignment 12-checkpoint.ipynb', 'Assignment 13-checkpoint.ipynb', 'Assignment 7-checkpoint.ipynb', 'Assignment 8-checkpoint.ipynb', 'Assignment 9-checkpoint.ipynb', 'Programming_Assignment1-checkpoint.ipynb']\n",
      "C:\\Users\\vamsi.k\\Python\\INEURON\\Untitled Folder\\X Folder  +  ['.ipynb_checkpoints']  +  ['Assignment 10.ipynb', 'Assignment 13.ipynb']\n",
      "C:\\Users\\vamsi.k\\Python\\INEURON\\Untitled Folder\\X Folder\\.ipynb_checkpoints  +  []  +  []\n"
     ]
    }
   ],
   "source": [
    "\"\"\"\n",
    "5. Create a programme that searches a folder tree for files with a certain file extension (such as .pdf\n",
    "or .jpg). Copy these files from whatever location they are in to a new folder.\n",
    "\n",
    "\"\"\"\n",
    "import os\n",
    "import shutil\n",
    "\n",
    "def CopySelectiveFiles(src,ext,dest):\n",
    "    src_folder=os.path.abspath(src)\n",
    "    dest_folder=os.path.abspath(dest)\n",
    "    \n",
    "    for foldername, subfolders, filenames in os.walk(src_folder):\n",
    "        print(foldername,\" + \",subfolders,\" + \", filenames)\n",
    "        for filename in filenames:\n",
    "            name,exts=os.path.splitext(filename)\n",
    "            if exts in ext:\n",
    "                file_path= os.path.join(foldername, filename)\n",
    "                shutil.copy(file_path, dest_folder)\n",
    "                \n",
    "src=os.getcwd()\n",
    "ext=[\".pdf\",\".PNG\"]\n",
    "dest=\"Selections\"\n",
    "CopySelectiveFiles(src,ext,dest)\n",
    "    \n",
    "    \n",
    "    \n",
    "#os.path()"
   ]
  },
  {
   "cell_type": "code",
   "execution_count": 43,
   "id": "898866cd",
   "metadata": {},
   "outputs": [],
   "source": [
    "os.chdir(\"..\")"
   ]
  },
  {
   "cell_type": "code",
   "execution_count": 51,
   "id": "58099890",
   "metadata": {},
   "outputs": [
    {
     "data": {
      "text/plain": [
       "'C:\\\\Users\\\\vamsi.k\\\\Python\\\\INEURON\\\\Untitled Folder'"
      ]
     },
     "execution_count": 51,
     "metadata": {},
     "output_type": "execute_result"
    }
   ],
   "source": [
    "os.path.abspath(os.getcwd())"
   ]
  },
  {
   "cell_type": "code",
   "execution_count": 44,
   "id": "334e6faa",
   "metadata": {},
   "outputs": [
    {
     "data": {
      "text/plain": [
       "'C:\\\\Users\\\\vamsi.k\\\\Python\\\\INEURON\\\\Untitled Folder'"
      ]
     },
     "execution_count": 44,
     "metadata": {},
     "output_type": "execute_result"
    }
   ],
   "source": [
    "os.getcwd()"
   ]
  },
  {
   "cell_type": "code",
   "execution_count": null,
   "id": "fb68ecd1",
   "metadata": {},
   "outputs": [],
   "source": [
    "#Rough work- not assignment questions(only related stuff for practise)"
   ]
  },
  {
   "cell_type": "code",
   "execution_count": 6,
   "id": "f89a1840",
   "metadata": {},
   "outputs": [
    {
     "data": {
      "text/plain": [
       "'C:\\\\Users\\\\vamsi.k\\\\Python\\\\INEURON\\\\Untitled Folder'"
      ]
     },
     "execution_count": 6,
     "metadata": {},
     "output_type": "execute_result"
    }
   ],
   "source": [
    "os.getcwd()"
   ]
  },
  {
   "cell_type": "code",
   "execution_count": 7,
   "id": "5d0c58ee",
   "metadata": {},
   "outputs": [
    {
     "data": {
      "text/plain": [
       "[' Programming_Assignment2.ipynb',\n",
       " '.ipynb_checkpoints',\n",
       " 'Assignment 10.ipynb',\n",
       " 'Assignment 11.ipynb',\n",
       " 'Assignment 12.ipynb',\n",
       " 'Assignment 13.ipynb',\n",
       " 'Assignment 7.ipynb',\n",
       " 'Assignment 8.ipynb',\n",
       " 'Assignment 9.ipynb',\n",
       " 'Programming_Assignment1.ipynb',\n",
       " 'test.txt',\n",
       " 'Test1 Folder',\n",
       " 'Test2 Folder',\n",
       " 'text.bak',\n",
       " 'text.dat',\n",
       " 'text.dir']"
      ]
     },
     "execution_count": 7,
     "metadata": {},
     "output_type": "execute_result"
    }
   ],
   "source": [
    "os.makedirs(\"C:\\\\Users\\\\vamsi.k\\\\Python\\\\INEURON\\\\Untitled Folder\\\\Test2 Folder\")\n",
    "os.listdir()\n"
   ]
  },
  {
   "cell_type": "code",
   "execution_count": 43,
   "id": "2b2d43fd",
   "metadata": {},
   "outputs": [
    {
     "name": "stdout",
     "output_type": "stream",
     "text": [
      "C:\\Users\\vamsi.k\\Python\\INEURON\\Untitled Folder\\Test1 Folder\n",
      "['.ipynb_checkpoints', 'Assignment 10.ipynb', 'Assignment 13.ipynb']\n"
     ]
    }
   ],
   "source": [
    "import shutil\n",
    "s=shutil.copy(\".\\\\Assignment 10.ipynb\",\".\\\\Test1 Folder\")\n",
    "os.chdir(\".\\\\Test1 Folder\")\n",
    "print(os.getcwd())\n",
    "print(os.listdir())"
   ]
  },
  {
   "cell_type": "code",
   "execution_count": 44,
   "id": "2f221e00",
   "metadata": {},
   "outputs": [],
   "source": [
    "os.chdir(\"./..\")"
   ]
  },
  {
   "cell_type": "code",
   "execution_count": 45,
   "id": "1b92a737",
   "metadata": {},
   "outputs": [
    {
     "data": {
      "text/plain": [
       "'C:\\\\Users\\\\vamsi.k\\\\Python\\\\INEURON\\\\Untitled Folder'"
      ]
     },
     "execution_count": 45,
     "metadata": {},
     "output_type": "execute_result"
    }
   ],
   "source": [
    "os.getcwd()"
   ]
  },
  {
   "cell_type": "code",
   "execution_count": 25,
   "id": "1b686871",
   "metadata": {},
   "outputs": [
    {
     "name": "stdout",
     "output_type": "stream",
     "text": [
      "C:\\Users\\vamsi.k\\Python\\INEURON\\New Folder\n",
      "[' Programming_Assignment2.ipynb', '.ipynb_checkpoints', 'Assignment 10.ipynb', 'Assignment 11.ipynb', 'Assignment 12.ipynb', 'Assignment 13.ipynb', 'Assignment 7.ipynb', 'Assignment 8.ipynb', 'Assignment 9.ipynb', 'Programming_Assignment1.ipynb', 'test.txt', 'Test1 Folder', 'Test2 Folder', 'text.bak', 'text.dat', 'text.dir']\n"
     ]
    }
   ],
   "source": [
    "s=shutil.copytree(\".\",\"./../New Folder\")\n",
    "os.chdir(\"./../New Folder\")\n",
    "print(os.getcwd())\n",
    "print(os.listdir())"
   ]
  },
  {
   "cell_type": "code",
   "execution_count": 35,
   "id": "cc93ded0",
   "metadata": {},
   "outputs": [],
   "source": [
    "shutil.rmtree(\"./../New Folder\")"
   ]
  },
  {
   "cell_type": "code",
   "execution_count": 17,
   "id": "200e1bfe",
   "metadata": {},
   "outputs": [
    {
     "data": {
      "text/plain": [
       "'C:\\\\Users\\\\vamsi.k\\\\Python\\\\INEURON\\\\Untitled Folder'"
      ]
     },
     "execution_count": 17,
     "metadata": {},
     "output_type": "execute_result"
    }
   ],
   "source": [
    "os.chdir(\"./..\")\n",
    "os.getcwd()"
   ]
  },
  {
   "cell_type": "code",
   "execution_count": 9,
   "id": "af8303d4",
   "metadata": {},
   "outputs": [
    {
     "ename": "NotADirectoryError",
     "evalue": "[WinError 267] The directory name is invalid: '.\\\\Assignment 10.ipynb'",
     "output_type": "error",
     "traceback": [
      "\u001b[1;31m---------------------------------------------------------------------------\u001b[0m",
      "\u001b[1;31mNotADirectoryError\u001b[0m                        Traceback (most recent call last)",
      "Input \u001b[1;32mIn [9]\u001b[0m, in \u001b[0;36m<cell line: 1>\u001b[1;34m()\u001b[0m\n\u001b[1;32m----> 1\u001b[0m s\u001b[38;5;241m=\u001b[39m\u001b[43mshutil\u001b[49m\u001b[38;5;241;43m.\u001b[39;49m\u001b[43mcopytree\u001b[49m\u001b[43m(\u001b[49m\u001b[38;5;124;43m\"\u001b[39;49m\u001b[38;5;124;43m.\u001b[39;49m\u001b[38;5;130;43;01m\\\\\u001b[39;49;00m\u001b[38;5;124;43mAssignment 10.ipynb\u001b[39;49m\u001b[38;5;124;43m\"\u001b[39;49m\u001b[43m,\u001b[49m\u001b[38;5;124;43m\"\u001b[39;49m\u001b[38;5;124;43m.\u001b[39;49m\u001b[38;5;130;43;01m\\\\\u001b[39;49;00m\u001b[38;5;124;43mTest2 Folder\u001b[39;49m\u001b[38;5;124;43m\"\u001b[39;49m\u001b[43m)\u001b[49m\n\u001b[0;32m      2\u001b[0m os\u001b[38;5;241m.\u001b[39mchdir(\u001b[38;5;124m\"\u001b[39m\u001b[38;5;124m.\u001b[39m\u001b[38;5;130;01m\\\\\u001b[39;00m\u001b[38;5;124mTest1 Folder\u001b[39m\u001b[38;5;124m\"\u001b[39m)\n\u001b[0;32m      3\u001b[0m \u001b[38;5;28mprint\u001b[39m(os\u001b[38;5;241m.\u001b[39mgetcwd())\n",
      "File \u001b[1;32m~\\Anaconda3\\lib\\shutil.py:564\u001b[0m, in \u001b[0;36mcopytree\u001b[1;34m(src, dst, symlinks, ignore, copy_function, ignore_dangling_symlinks, dirs_exist_ok)\u001b[0m\n\u001b[0;32m    527\u001b[0m \u001b[38;5;124;03m\"\"\"Recursively copy a directory tree and return the destination directory.\u001b[39;00m\n\u001b[0;32m    528\u001b[0m \n\u001b[0;32m    529\u001b[0m \u001b[38;5;124;03mdirs_exist_ok dictates whether to raise an exception in case dst or any\u001b[39;00m\n\u001b[1;32m   (...)\u001b[0m\n\u001b[0;32m    561\u001b[0m \n\u001b[0;32m    562\u001b[0m \u001b[38;5;124;03m\"\"\"\u001b[39;00m\n\u001b[0;32m    563\u001b[0m sys\u001b[38;5;241m.\u001b[39maudit(\u001b[38;5;124m\"\u001b[39m\u001b[38;5;124mshutil.copytree\u001b[39m\u001b[38;5;124m\"\u001b[39m, src, dst)\n\u001b[1;32m--> 564\u001b[0m \u001b[38;5;28;01mwith\u001b[39;00m \u001b[43mos\u001b[49m\u001b[38;5;241;43m.\u001b[39;49m\u001b[43mscandir\u001b[49m\u001b[43m(\u001b[49m\u001b[43msrc\u001b[49m\u001b[43m)\u001b[49m \u001b[38;5;28;01mas\u001b[39;00m itr:\n\u001b[0;32m    565\u001b[0m     entries \u001b[38;5;241m=\u001b[39m \u001b[38;5;28mlist\u001b[39m(itr)\n\u001b[0;32m    566\u001b[0m \u001b[38;5;28;01mreturn\u001b[39;00m _copytree(entries\u001b[38;5;241m=\u001b[39mentries, src\u001b[38;5;241m=\u001b[39msrc, dst\u001b[38;5;241m=\u001b[39mdst, symlinks\u001b[38;5;241m=\u001b[39msymlinks,\n\u001b[0;32m    567\u001b[0m                  ignore\u001b[38;5;241m=\u001b[39mignore, copy_function\u001b[38;5;241m=\u001b[39mcopy_function,\n\u001b[0;32m    568\u001b[0m                  ignore_dangling_symlinks\u001b[38;5;241m=\u001b[39mignore_dangling_symlinks,\n\u001b[0;32m    569\u001b[0m                  dirs_exist_ok\u001b[38;5;241m=\u001b[39mdirs_exist_ok)\n",
      "\u001b[1;31mNotADirectoryError\u001b[0m: [WinError 267] The directory name is invalid: '.\\\\Assignment 10.ipynb'"
     ]
    }
   ],
   "source": [
    "s=shutil.copytree(\".\\\\Assignment 10.ipynb\",\".\\\\Test2 Folder\")\n",
    "os.chdir(\".\\\\Test1 Folder\")\n",
    "print(os.getcwd())\n",
    "print(os.listdir())"
   ]
  },
  {
   "cell_type": "code",
   "execution_count": 51,
   "id": "fe6f6364",
   "metadata": {},
   "outputs": [],
   "source": [
    "import send2trash as st"
   ]
  },
  {
   "cell_type": "code",
   "execution_count": 53,
   "id": "b567c0d0",
   "metadata": {},
   "outputs": [
    {
     "data": {
      "text/plain": [
       "'C:\\\\Users\\\\vamsi.k\\\\Python\\\\INEURON\\\\Untitled Folder'"
      ]
     },
     "execution_count": 53,
     "metadata": {},
     "output_type": "execute_result"
    }
   ],
   "source": [
    "os.getcwd()"
   ]
  },
  {
   "cell_type": "code",
   "execution_count": 58,
   "id": "55a7fb32",
   "metadata": {},
   "outputs": [
    {
     "ename": "SyntaxError",
     "evalue": "(unicode error) 'unicodeescape' codec can't decode bytes in position 2-3: truncated \\UXXXXXXXX escape (3924275530.py, line 1)",
     "output_type": "error",
     "traceback": [
      "\u001b[1;36m  Input \u001b[1;32mIn [58]\u001b[1;36m\u001b[0m\n\u001b[1;33m    st.send2trash(\"C:\\Users\\vamsi.k\\Desktop\\\\E2.PNG\")\u001b[0m\n\u001b[1;37m                                                    ^\u001b[0m\n\u001b[1;31mSyntaxError\u001b[0m\u001b[1;31m:\u001b[0m (unicode error) 'unicodeescape' codec can't decode bytes in position 2-3: truncated \\UXXXXXXXX escape\n"
     ]
    }
   ],
   "source": [
    "st.send2trash(\"C:\\Users\\vamsi.k\\Desktop\\\\E2.PNG\")"
   ]
  },
  {
   "cell_type": "code",
   "execution_count": 23,
   "id": "4c04b7d4",
   "metadata": {},
   "outputs": [
    {
     "data": {
      "text/plain": [
       "'C:\\\\Users\\\\vamsi.k\\\\Python\\\\INEURON\\\\Untitled Folder'"
      ]
     },
     "execution_count": 23,
     "metadata": {},
     "output_type": "execute_result"
    }
   ],
   "source": [
    "os.getcwd()"
   ]
  },
  {
   "cell_type": "code",
   "execution_count": 25,
   "id": "41cfb99a",
   "metadata": {},
   "outputs": [],
   "source": [
    "os.chdir(\"./E.zip\")"
   ]
  },
  {
   "cell_type": "code",
   "execution_count": 26,
   "id": "f633bb15",
   "metadata": {},
   "outputs": [
    {
     "data": {
      "text/plain": [
       "'C:\\\\Users\\\\vamsi.k\\\\Python\\\\INEURON\\\\Untitled Folder\\\\E.zip'"
      ]
     },
     "execution_count": 26,
     "metadata": {},
     "output_type": "execute_result"
    }
   ],
   "source": [
    "os.getcwd()"
   ]
  },
  {
   "cell_type": "code",
   "execution_count": 27,
   "id": "f2892af3",
   "metadata": {},
   "outputs": [
    {
     "data": {
      "text/plain": [
       "['E1.PNG', 'E2.PNG']"
      ]
     },
     "execution_count": 27,
     "metadata": {},
     "output_type": "execute_result"
    }
   ],
   "source": [
    "os.listdir()"
   ]
  },
  {
   "cell_type": "code",
   "execution_count": 28,
   "id": "c2a2e852",
   "metadata": {},
   "outputs": [
    {
     "ename": "TypeError",
     "evalue": "chdir() takes at most 1 argument (2 given)",
     "output_type": "error",
     "traceback": [
      "\u001b[1;31m---------------------------------------------------------------------------\u001b[0m",
      "\u001b[1;31mTypeError\u001b[0m                                 Traceback (most recent call last)",
      "Input \u001b[1;32mIn [28]\u001b[0m, in \u001b[0;36m<cell line: 1>\u001b[1;34m()\u001b[0m\n\u001b[1;32m----> 1\u001b[0m \u001b[43mos\u001b[49m\u001b[38;5;241;43m.\u001b[39;49m\u001b[43mchdir\u001b[49m\u001b[43m(\u001b[49m\u001b[38;5;124;43m\"\u001b[39;49m\u001b[38;5;124;43mE1.PNG\u001b[39;49m\u001b[38;5;124;43m\"\u001b[39;49m\u001b[43m,\u001b[49m\u001b[38;5;124;43m\"\u001b[39;49m\u001b[38;5;124;43m./..\u001b[39;49m\u001b[38;5;124;43m\"\u001b[39;49m\u001b[43m)\u001b[49m\n",
      "\u001b[1;31mTypeError\u001b[0m: chdir() takes at most 1 argument (2 given)"
     ]
    }
   ],
   "source": [
    "os.chdir(\"E1.PNG\",\"./..\")"
   ]
  },
  {
   "cell_type": "code",
   "execution_count": null,
   "id": "02d414eb",
   "metadata": {},
   "outputs": [],
   "source": []
  }
 ],
 "metadata": {
  "kernelspec": {
   "display_name": "Python 3 (ipykernel)",
   "language": "python",
   "name": "python3"
  },
  "language_info": {
   "codemirror_mode": {
    "name": "ipython",
    "version": 3
   },
   "file_extension": ".py",
   "mimetype": "text/x-python",
   "name": "python",
   "nbconvert_exporter": "python",
   "pygments_lexer": "ipython3",
   "version": "3.9.12"
  }
 },
 "nbformat": 4,
 "nbformat_minor": 5
}
