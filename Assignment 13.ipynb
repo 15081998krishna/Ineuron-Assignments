{
 "cells": [
  {
   "cell_type": "code",
   "execution_count": null,
   "id": "a673e41e",
   "metadata": {},
   "outputs": [],
   "source": [
    "\"\"\"\n",
    "1. What advantages do Excel spreadsheets have over CSV spreadsheets?\n",
    "2.What do you pass to csv.reader() and csv.writer() to create reader and writer objects?\n",
    "3. What modes do File objects for reader and writer objects need to be opened in?\n",
    "4. What method takes a list argument and writes it to a CSV file?\n",
    "5. What do the keyword arguments delimiter and line terminator do?\n",
    "6. What function takes a string of JSON data and returns a Python data structure?\n",
    "7. What function takes a Python data structure and returns a string of JSON data?\n",
    "\"\"\""
   ]
  },
  {
   "cell_type": "code",
   "execution_count": 1,
   "id": "6414692b",
   "metadata": {},
   "outputs": [
    {
     "data": {
      "text/plain": [
       "\"\\n1. What advantages do Excel spreadsheets have over CSV spreadsheets?\\n\\nRicher Data types: you can use datatypes like date, time, currency and other notations, wheras csv has only text format\\n\\nMultiple Sheets and Workbooks: You can have multiple sheets in excel, wheras csv has only 1 sheet per csv\\n\\nFormulas and Functions: In Excel supports formulas and functions to perform calculations, whereas in csv you need external\\ntools to perform calculations.\\n\\nFormatting:  Excel allows you to format cells, rows, and columns, making it easier to view and analyze data, whereas in\\nCSV files, there is no formatting\\n\\nData Validation:you can apply data validation rules in excel to see if data is correct, in csv files there is no built-in\\nvalidation\\n\\nCharts and Graphs:You have internally built tools in excel to use charts and graphs for presentation. In csv, you need to \\nuse external tools\\n\\nMacros: Excel supports Macros(automate repetative tasks), csv doesn't support it\\n\\n\""
      ]
     },
     "execution_count": 1,
     "metadata": {},
     "output_type": "execute_result"
    }
   ],
   "source": [
    "\"\"\"\n",
    "1. What advantages do Excel spreadsheets have over CSV spreadsheets?\n",
    "\n",
    "Richer Data types: you can use datatypes like date, time, currency and other notations, wheras csv has only text format\n",
    "\n",
    "Multiple Sheets and Workbooks: You can have multiple sheets in excel, wheras csv has only 1 sheet per csv\n",
    "\n",
    "Formulas and Functions: In Excel supports formulas and functions to perform calculations, whereas in csv you need external\n",
    "tools to perform calculations.\n",
    "\n",
    "Formatting:  Excel allows you to format cells, rows, and columns, making it easier to view and analyze data, whereas in\n",
    "CSV files, there is no formatting\n",
    "\n",
    "Data Validation:you can apply data validation rules in excel to see if data is correct, in csv files there is no built-in\n",
    "validation\n",
    "\n",
    "Charts and Graphs:You have internally built tools in excel to use charts and graphs for presentation. In csv, you need to \n",
    "use external tools\n",
    "\n",
    "Macros: Excel supports Macros(automate repetative tasks), csv doesn't support it\n",
    "\n",
    "\"\"\"\n"
   ]
  },
  {
   "cell_type": "code",
   "execution_count": 14,
   "id": "07ed32a8",
   "metadata": {},
   "outputs": [
    {
     "name": "stdout",
     "output_type": "stream",
     "text": [
      "['ï»¿4:45 AM - 5:45 AM', 'Eighth learning session (1 hour)', '']\n",
      "['5:45 AM - 6:00 AM', 'Break (15 minutes)', '']\n",
      "['6:00 AM - 6:15 AM', 'Meditation (15 minutes)', '']\n",
      "['6:15 AM - 7:00 AM', 'Jogging/exercise (45 minutes)', '']\n",
      "['7:00 AM - 8:00 AM', 'Breakfast and free time (1 hour)', '']\n",
      "['8:00 AM - 9:00 AM', 'First learning session (1 hour)', 'ds assignments']\n",
      "['9:00 AM - 9:05 AM', 'Break (5 minutes)', '']\n",
      "['9:05 AM - 9:45 AM', 'Second learning session (40 minutes)', 'ds assignments']\n",
      "['9:45 AM - 9:50 AM', 'Break (5 minutes)', '']\n",
      "['9:50 AM - 10:00 AM', 'Get ready for work', '']\n",
      "['10:00 AM - 1:00 PM', 'Work', '']\n",
      "['1:00 PM - 2:00 PM', 'Lunch break and learning session (1 hour)', '']\n",
      "['2:00 PM - 2:05 PM', 'Break (5 minutes)', '']\n",
      "['2:05 PM - 2:45 PM', 'Third learning session (40 minutes)', 'Supply chain']\n",
      "['2:45 PM - 2:50 PM', 'Break (5 minutes)', '']\n",
      "['2:50 PM - 5:50 PM', 'Work', '']\n",
      "['5:50 PM - 6:00 PM', 'Get ready for home', '']\n",
      "['6:00 PM - 7:00 PM', 'Dinner break and free time (1 hour)', '']\n",
      "['7:00 PM - 8:00 PM', 'Fourth learning session (1 hour)', 'ds lectures']\n",
      "['8:00 PM - 8:05 PM', 'Break (5 minutes)', '']\n",
      "['8:05 PM - 8:45 PM', 'Fifth learning session (40 minutes)', 'ds project']\n",
      "['8:45 PM - 8:50 PM', 'Break (5 minutes)', '']\n",
      "['8:50 PM - 9:30 PM', 'Sixth learning session (40 minutes)', 'ds project']\n",
      "['9:30 PM - 9:35 PM', 'Break (5 minutes)', '']\n",
      "['9:35 PM - 10:35 PM', 'Seventh learning session (1 hour)', 'personal']\n",
      "['10:35 PM - 10:45 PM', 'Get ready for bed', '']\n",
      "['10:45 PM - 4:45 AM', 'Sleep (6 hours)', '']\n"
     ]
    }
   ],
   "source": [
    "\"\"\"\n",
    "2.What do you pass to csv.reader() and csv.writer() to create reader and writer objects?\n",
    "\"\"\"\n",
    "import csv\n",
    "\n",
    "with open(\"Timetable.csv\", 'r') as file:\n",
    "    reader=csv.reader(file)\n",
    "    \n",
    "    for row in reader:\n",
    "        print(row)\n",
    "\n",
    "with open(\"outfile.csv\", 'w', newline='') as file:\n",
    "    writer=csv.writer(file)\n",
    "    \n",
    "    writer.writerows\n",
    "    writer.writerow(('Name','Age','Sex'))\n",
    "    writer.writerow(['Krish','23','M'])\n",
    "    writer.writerow(['Savithri','43','F'])\n",
    "    writer.writerow(['Shamy','34','M'])"
   ]
  },
  {
   "cell_type": "code",
   "execution_count": 15,
   "id": "fdb64242",
   "metadata": {},
   "outputs": [
    {
     "name": "stdout",
     "output_type": "stream",
     "text": [
      "['Name', 'Age', 'Sex']\n",
      "['Krish', '23', 'M']\n",
      "['Savithri', '43', 'F']\n",
      "['Shamy', '34', 'M']\n",
      "['Singh', '46', 'M']\n"
     ]
    }
   ],
   "source": [
    "\"\"\"\n",
    "3. What modes do File objects for reader and writer objects need to be opened in?\n",
    "for reader 'r' and for write 'w' or 'a'\n",
    "\"\"\"\n",
    "\n",
    "with open(\"outfile.csv\", 'a', newline='') as file:\n",
    "    writer=csv.writer(file)\n",
    "    writer.writerow(('Singh','46','M'))\n",
    "    \n",
    "with open(\"outfile.csv\",'r') as file:\n",
    "    reader=csv.reader(file)\n",
    "    for row in reader:\n",
    "        print(row)\n"
   ]
  },
  {
   "cell_type": "code",
   "execution_count": 16,
   "id": "539eae91",
   "metadata": {},
   "outputs": [
    {
     "name": "stdout",
     "output_type": "stream",
     "text": [
      "['Name', 'Age', 'Sex']\n",
      "['Krish', '23', 'M']\n",
      "['Savithri', '43', 'F']\n",
      "['Shamy', '34', 'M']\n",
      "['Singh', '46', 'M']\n",
      "['Itachi', '13', 'M']\n",
      "['Sharada', '12', 'F']\n",
      "['Sasuke', '34', 'M']\n"
     ]
    }
   ],
   "source": [
    "\"\"\"\n",
    "4. What method takes a list argument and writes it to a CSV file?\n",
    "writerows method takes list of rows and writes it to csv file\n",
    "\"\"\"\n",
    "list1=[['Itachi',13,'M'],['Sharada',12,'F'],['Sasuke',34,'M']]\n",
    "\n",
    "with open(\"outfile.csv\", 'a', newline='') as file:\n",
    "    writer=csv.writer(file)\n",
    "    writer.writerows(list1)\n",
    "    \n",
    "with open(\"outfile.csv\",'r') as file:\n",
    "    reader=csv.reader(file)\n",
    "    for row in reader:\n",
    "        print(row)\n"
   ]
  },
  {
   "cell_type": "code",
   "execution_count": 25,
   "id": "ba2431c7",
   "metadata": {},
   "outputs": [
    {
     "name": "stdout",
     "output_type": "stream",
     "text": [
      "['Name\\tAge\\tSex']\n",
      "['Krish\\t23\\tM']\n",
      "['Savithri\\t43\\tF']\n",
      "['Shamy\\t34\\tM']\n",
      "['Singh\\t46\\tM']\n",
      "['Itachi\\t13\\tM']\n",
      "['Sharada\\t12\\tF']\n",
      "['Sasuke\\t34\\tM']\n"
     ]
    }
   ],
   "source": [
    "\"\"\"\n",
    "5. What do the keyword arguments delimiter and line terminator do?\n",
    "\n",
    "delimiter is used to state what should be character to identify different columns in same row(deafult is \",\")\n",
    "line terminator is used to specify characters used to terminate lines in csv(default is\"\\n)\n",
    "\n",
    "\"\"\"\n",
    "\n",
    "delimiter = '\\t'\n",
    "line_terminator = '\\r\\n'\n",
    "\n",
    "with open(\"outfile.csv\",'r') as file:\n",
    "    reader=csv.reader(file)\n",
    "    with open(\"testoutfile.csv\",'w', newline='') as outfile:\n",
    "            writer=csv.writer(outfile,delimiter=delimiter, lineterminator=line_terminator)\n",
    "            for row in reader:\n",
    "                writer.writerow(row)\n",
    "\n",
    "with open(\"testoutfile.csv\",'r') as file:\n",
    "    reader=csv.reader(file)\n",
    "    for row in reader:\n",
    "        print(row)"
   ]
  },
  {
   "cell_type": "code",
   "execution_count": 28,
   "id": "f98fe4a6",
   "metadata": {},
   "outputs": [
    {
     "name": "stdout",
     "output_type": "stream",
     "text": [
      "{'name': 'Krish', 'age': 30, 'sex': 'M'}\n"
     ]
    },
    {
     "data": {
      "text/plain": [
       "dict"
      ]
     },
     "execution_count": 28,
     "metadata": {},
     "output_type": "execute_result"
    }
   ],
   "source": [
    "\"\"\"\n",
    "6. What function takes a string of JSON data and returns a Python data structure?\n",
    "json.loads is a method that stores the json input into python dictionary\n",
    "\"\"\"\n",
    "import json\n",
    "\n",
    "json_data = '{\"name\": \"Krish\", \"age\": 30, \"sex\": \"M\"}'\n",
    "python_data = json.loads(json_data)\n",
    "\n",
    "print(python_data)\n",
    "type(python_data)"
   ]
  },
  {
   "cell_type": "code",
   "execution_count": 34,
   "id": "a767787c",
   "metadata": {},
   "outputs": [
    {
     "name": "stdout",
     "output_type": "stream",
     "text": [
      "{\"name\": \"Raj\", \"age\": 25, \"creditcard\": [\"HDFC\", \"ICICI\", \"IOB\"]}\n"
     ]
    },
    {
     "data": {
      "text/plain": [
       "str"
      ]
     },
     "execution_count": 34,
     "metadata": {},
     "output_type": "execute_result"
    }
   ],
   "source": [
    "\"\"\"\n",
    "7. What function takes a Python data structure and returns a string of JSON data?\n",
    "\"\"\"\n",
    "\n",
    "data = {\n",
    "    'name': 'Raj',\n",
    "    'age': 25,\n",
    "    'creditcard': ['HDFC', 'ICICI', 'IOB']\n",
    "}\n",
    "\n",
    "str1 = json.dumps(data)\n",
    "\n",
    "print(str1)\n",
    "type(str1)\n",
    "\n"
   ]
  },
  {
   "cell_type": "code",
   "execution_count": null,
   "id": "d0a6f4db",
   "metadata": {},
   "outputs": [],
   "source": []
  }
 ],
 "metadata": {
  "kernelspec": {
   "display_name": "Python 3 (ipykernel)",
   "language": "python",
   "name": "python3"
  },
  "language_info": {
   "codemirror_mode": {
    "name": "ipython",
    "version": 3
   },
   "file_extension": ".py",
   "mimetype": "text/x-python",
   "name": "python",
   "nbconvert_exporter": "python",
   "pygments_lexer": "ipython3",
   "version": "3.9.12"
  }
 },
 "nbformat": 4,
 "nbformat_minor": 5
}
