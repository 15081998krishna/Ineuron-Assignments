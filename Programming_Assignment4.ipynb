{
 "cells": [
  {
   "cell_type": "code",
   "execution_count": null,
   "id": "f1b5ed42",
   "metadata": {},
   "outputs": [],
   "source": [
    "\"\"\"\n",
    "1. Write a Python Program to Find the Factorial of a Number?\n",
    "2. Write a Python Program to Display the multiplication Table?\n",
    "3. Write a Python Program to Print the Fibonacci sequence?\n",
    "4. Write a Python Program to Check Armstrong Number?\n",
    "5. Write a Python Program to Find Armstrong Number in an Interval?\n",
    "6. Write a Python Program to Find the Sum of Natural Numbers?\n",
    "\"\"\""
   ]
  },
  {
   "cell_type": "code",
   "execution_count": 9,
   "id": "cd6f8919",
   "metadata": {},
   "outputs": [
    {
     "name": "stdout",
     "output_type": "stream",
     "text": [
      "Enter the the numberaw\n",
      "Invalid Input! Please enter an interger \n",
      "Enter the the number4\n",
      "The factorial of 4 is 24 \n"
     ]
    }
   ],
   "source": [
    "\"\"\"\n",
    "1. Write a Python Program to Find the Factorial of a Number?\n",
    "\"\"\"\n",
    "def factorial():\n",
    "    while True:\n",
    "        try:\n",
    "            k=int(input(\"Enter the the number\"))\n",
    "            break\n",
    "        except ValueError:\n",
    "            print(\"Invalid Input! Please enter an interger \")\n",
    "            continue\n",
    "    l=k\n",
    "    for i in range(1,k):\n",
    "        k=k*i\n",
    "    print(f\"The factorial of {l} is {k} \")\n",
    "\n",
    "factorial()"
   ]
  },
  {
   "cell_type": "code",
   "execution_count": 11,
   "id": "c7e455e8",
   "metadata": {},
   "outputs": [
    {
     "name": "stdout",
     "output_type": "stream",
     "text": [
      "Enter the the number: wew\n",
      "Invalid Input! Please enter an interger \n",
      "Enter the the number: 4\n",
      "4 * 1 = 4\n",
      "4 * 2 = 8\n",
      "4 * 3 = 12\n",
      "4 * 4 = 16\n",
      "4 * 5 = 20\n",
      "4 * 6 = 24\n",
      "4 * 7 = 28\n",
      "4 * 8 = 32\n",
      "4 * 9 = 36\n",
      "4 * 10 = 40\n"
     ]
    }
   ],
   "source": [
    "\"\"\"\n",
    "2. Write a Python Program to Display the multiplication Table?\n",
    "\"\"\"\n",
    "def multitable():\n",
    "    while True:\n",
    "        try:\n",
    "            k=int(input(\"Enter the the number: \"))\n",
    "            break\n",
    "        except ValueError:\n",
    "            print(\"Invalid Input! Please enter an interger \")\n",
    "            continue\n",
    "    for i in range(1,11):\n",
    "        print(f\"{k} * {i} = {k*i}\")\n",
    "\n",
    "multitable()        "
   ]
  },
  {
   "cell_type": "code",
   "execution_count": 15,
   "id": "e55d291d",
   "metadata": {},
   "outputs": [
    {
     "name": "stdout",
     "output_type": "stream",
     "text": [
      "Enter the size of fibonacci sequence 10\n",
      "[0, 1, 1, 2, 3, 5, 8, 13, 21, 34]\n"
     ]
    }
   ],
   "source": [
    "\"\"\"\n",
    "3. Write a Python Program to Print the Fibonacci sequence?\n",
    "\"\"\"\n",
    "def fibonacci():\n",
    "    while True:\n",
    "        try:\n",
    "            k=int(input(\"Enter the size of fibonacci sequence \"))\n",
    "            if k<1:\n",
    "                raise ValueError\n",
    "            break\n",
    "        except ValueError:\n",
    "            print(\"Invalid Input! Please enter an interger greater than 0 \")\n",
    "            continue\n",
    "    l=[0,1]\n",
    "    if k==1:\n",
    "        print(l[0])\n",
    "    elif k==2:\n",
    "        print(l)\n",
    "    else:\n",
    "        for i in range (k-2):\n",
    "            l.append(l[-1]+l[-2])\n",
    "        print(l)\n",
    "        \n",
    "fibonacci()        "
   ]
  },
  {
   "cell_type": "code",
   "execution_count": 43,
   "id": "ec5afb8f",
   "metadata": {},
   "outputs": [
    {
     "name": "stdout",
     "output_type": "stream",
     "text": [
      "Enter the armstrong number 153\n",
      "Yes 153 is an Armstrong number\n"
     ]
    }
   ],
   "source": [
    "\"\"\"\n",
    "4. Write a Python Program to Check Armstrong Number?\n",
    "\"\"\"\n",
    "def armstrong():\n",
    "    while True:\n",
    "        try:\n",
    "            k=int(input(\"Enter the armstrong number \"))\n",
    "            if k<0:\n",
    "                raise ValueError\n",
    "            break\n",
    "        except ValueError:\n",
    "            print(\"Invalid Input! Please enter a positive interger \")\n",
    "            continue\n",
    "    t= [int (i) for i in str(k)]\n",
    "    m= sum([(i**3) for i in t])\n",
    "    if k==m:\n",
    "        print(f\"Yes {k} is an Armstrong number\")\n",
    "    else:\n",
    "        print(f\"No, {k} is not an armstrong number\")\n",
    "\n",
    "armstrong()"
   ]
  },
  {
   "cell_type": "code",
   "execution_count": 42,
   "id": "a02c2122",
   "metadata": {},
   "outputs": [
    {
     "name": "stdout",
     "output_type": "stream",
     "text": [
      "Enter the armstrong number 9474\n",
      "No, 9474 is not an armstrong number\n"
     ]
    }
   ],
   "source": [
    "armstrong()"
   ]
  },
  {
   "cell_type": "code",
   "execution_count": 47,
   "id": "20813ccc",
   "metadata": {},
   "outputs": [
    {
     "name": "stdout",
     "output_type": "stream",
     "text": [
      "Enter the start number 200\n",
      "Enter the end number 500\n",
      "370\n",
      "371\n",
      "407\n"
     ]
    }
   ],
   "source": [
    "\"\"\"\n",
    "5. Write a Python Program to Find Armstrong Number in an Interval?\n",
    "\"\"\"\n",
    "def is_Armstrong(n):\n",
    "    digits=[int(l) for l in str(n)]\n",
    "    sum_of_cubes=sum([(k**3) for k in digits])\n",
    "    \n",
    "    return n==sum_of_cubes\n",
    "\n",
    "def armsstronglimits(start, end):\n",
    "    for i in range(start, end):\n",
    "        if is_Armstrong(i):\n",
    "            print(i)\n",
    "\n",
    "            \n",
    "while True:\n",
    "    try:\n",
    "        k=int(input(\"Enter the start number \"))\n",
    "        l=int(input(\"Enter the end number \"))\n",
    "        if k>l or k==l:\n",
    "            raise ValueError\n",
    "        break\n",
    "    except ValueError:\n",
    "        print(\"Invalid Input! Please enter start interger less than end integer \")\n",
    "        continue\n",
    "armsstronglimits(k,l)\n"
   ]
  },
  {
   "cell_type": "code",
   "execution_count": null,
   "id": "e453d27b",
   "metadata": {},
   "outputs": [],
   "source": [
    "\"\"\"\n",
    "6. Write a Python Program to Find the Sum of Natural Numbers?\n",
    "\"\"\"\n"
   ]
  },
  {
   "cell_type": "code",
   "execution_count": 50,
   "id": "7cc7757f",
   "metadata": {},
   "outputs": [
    {
     "name": "stdout",
     "output_type": "stream",
     "text": [
      "Enter the the number: wer\n",
      "Invalid Input! Please enter positive integer \n",
      "Enter the the number: -3\n",
      "Invalid Input! Please enter positive integer \n",
      "Enter the the number: 5\n",
      "The sum of natural numbers upto 5 is 15\n"
     ]
    }
   ],
   "source": [
    "def sumofnatural():\n",
    "    while True:\n",
    "        try:\n",
    "            k=int(input(\"Enter the the number: \"))\n",
    "            if k<0:\n",
    "                raise ValueError\n",
    "            break\n",
    "        except ValueError:\n",
    "            print(\"Invalid Input! Please enter positive integer \")\n",
    "            continue\n",
    "    l=(k*(k+1))/2\n",
    "    print(f\"The sum of natural numbers upto {k} is {int(l)}\")\n",
    "\n",
    "sumofnatural()"
   ]
  },
  {
   "cell_type": "code",
   "execution_count": null,
   "id": "d37971c5",
   "metadata": {},
   "outputs": [],
   "source": []
  }
 ],
 "metadata": {
  "kernelspec": {
   "display_name": "Python 3 (ipykernel)",
   "language": "python",
   "name": "python3"
  },
  "language_info": {
   "codemirror_mode": {
    "name": "ipython",
    "version": 3
   },
   "file_extension": ".py",
   "mimetype": "text/x-python",
   "name": "python",
   "nbconvert_exporter": "python",
   "pygments_lexer": "ipython3",
   "version": "3.9.12"
  }
 },
 "nbformat": 4,
 "nbformat_minor": 5
}
