{
 "cells": [
  {
   "cell_type": "code",
   "execution_count": null,
   "id": "bcf1901b",
   "metadata": {},
   "outputs": [],
   "source": [
    "\"\"\"\n",
    "1. To what does a relative path refer?\n",
    "2. What does an absolute path start with your operating system?\n",
    "3. What do the functions os.getcwd() and os.chdir() do?\n",
    "4. What are the . and .. folders?\n",
    "5. In C:\\bacon\\eggs\\spam.txt, which part is the dir name, and which part is the base name?\n",
    "6. What are the three “mode” arguments that can be passed to the open() function?\n",
    "7. What happens if an existing file is opened in write mode?\n",
    "8. How do you tell the difference between read() and readlines()?\n",
    "9. What data structure does a shelf value resemble?\n",
    "\"\"\""
   ]
  },
  {
   "cell_type": "code",
   "execution_count": 1,
   "id": "67d86888",
   "metadata": {},
   "outputs": [
    {
     "name": "stdout",
     "output_type": "stream",
     "text": [
      "C:\\Users\\vamsi.k\\Python\\INEURON\\Untitled Folder\n",
      "b'C:\\\\Users\\\\vamsi.k\\\\Python\\\\INEURON\\\\Untitled Folder'\n"
     ]
    }
   ],
   "source": [
    "\"\"\"\n",
    "1. To what does a relative path refer?\n",
    "\n",
    "It refers to path from our current working directory\n",
    "\"\"\"\n",
    "import os\n",
    "print(os.getcwd())\n",
    "print(os.getcwdb())\n"
   ]
  },
  {
   "cell_type": "code",
   "execution_count": 3,
   "id": "3be815c8",
   "metadata": {},
   "outputs": [
    {
     "data": {
      "text/plain": [
       "'C:\\\\Users\\\\vamsi.k\\\\Python\\\\INEURON\\\\Untitled Folder'"
      ]
     },
     "execution_count": 3,
     "metadata": {},
     "output_type": "execute_result"
    }
   ],
   "source": [
    "\"\"\"\n",
    "2. What does an absolute path start with your operating system?\n",
    "\"\"\"\n",
    "os.getcwd()"
   ]
  },
  {
   "cell_type": "code",
   "execution_count": 9,
   "id": "9aa9aade",
   "metadata": {},
   "outputs": [
    {
     "name": "stdout",
     "output_type": "stream",
     "text": [
      "C:\\Users\\vamsi.k\\Python\\INEURON\\Untitled Folder\n",
      "None\n",
      "C:\\Users\\vamsi.k\\Python\\INEURON\n"
     ]
    },
    {
     "data": {
      "text/plain": [
       "['.ipynb_checkpoints',\n",
       " '9.Functions Solns.ipynb',\n",
       " 'Day1.ipynb',\n",
       " 'Filestart.ipynb',\n",
       " 'Granularity.PNG',\n",
       " 'Logging.ipynb',\n",
       " 'Modules and Packages.ipynb',\n",
       " 'my_module.py',\n",
       " 'OOPS part2.ipynb',\n",
       " 'Packages.ipynb',\n",
       " 'test.py',\n",
       " 'test2.log',\n",
       " 'test2.py',\n",
       " 'test3.log',\n",
       " 'Tester.txt',\n",
       " 'Untitled Folder',\n",
       " 'Untitled.ipynb',\n",
       " 'Vfilelist.log',\n",
       " '__pycache__']"
      ]
     },
     "execution_count": 9,
     "metadata": {},
     "output_type": "execute_result"
    }
   ],
   "source": [
    "\"\"\"\n",
    "3. What do the functions os.getcwd() and os.chdir() do?\n",
    "getcwd() outputs the current working directory\n",
    "chdir() changes the working directory to the path specified\n",
    "\"\"\"\n",
    "print(os.getcwd())\n",
    "print(os.chdir(\"./..\"))\n",
    "print(os.getcwd())\n",
    "os.listdir()"
   ]
  },
  {
   "cell_type": "code",
   "execution_count": 10,
   "id": "8dd0ca11",
   "metadata": {},
   "outputs": [
    {
     "name": "stdout",
     "output_type": "stream",
     "text": [
      "None\n"
     ]
    },
    {
     "data": {
      "text/plain": [
       "'C:\\\\Users\\\\vamsi.k\\\\Python\\\\INEURON\\\\Untitled Folder'"
      ]
     },
     "execution_count": 10,
     "metadata": {},
     "output_type": "execute_result"
    }
   ],
   "source": [
    "print(os.chdir(\"C:\\\\Users\\\\vamsi.k\\\\Python\\\\INEURON\\\\Untitled Folder\"))\n",
    "os.getcwd()"
   ]
  },
  {
   "cell_type": "code",
   "execution_count": null,
   "id": "83b35310",
   "metadata": {},
   "outputs": [],
   "source": [
    "\"\"\"\n",
    "4. What are the . and .. folders?\n",
    "\n",
    ". is link to current working directory (in our case it's Untitled folder)\n",
    ".. is link to parent directory (in ourcase it's INEURON as discussed in previous example)\n",
    "\"\"\""
   ]
  },
  {
   "cell_type": "code",
   "execution_count": null,
   "id": "50c46d09",
   "metadata": {},
   "outputs": [],
   "source": [
    "\"\"\"\n",
    "5. In C:\\bacon\\eggs\\spam.txt, which part is the dir name, and which part is the base name?\n",
    "\n",
    "In C:\\bacon\\eggs is the dir name and spam.txt is the base name\n",
    "\"\"\""
   ]
  },
  {
   "cell_type": "code",
   "execution_count": null,
   "id": "876f3370",
   "metadata": {},
   "outputs": [],
   "source": [
    "\"\"\"\n",
    "6. What are the three “mode” arguments that can be passed to the open() function?\n",
    "'r' for read mode\n",
    "'w' for write mode\n",
    "'a' for append mode\n",
    "\"\"\""
   ]
  },
  {
   "cell_type": "code",
   "execution_count": 18,
   "id": "ae2ee4e5",
   "metadata": {},
   "outputs": [
    {
     "name": "stdout",
     "output_type": "stream",
     "text": [
      "['This is overwritten 1st line\\n', 'This is overwritten 2nd line\\n', 'This is overwritten 3rd line\\n', 'This is overwritten 4th line\\n']\n",
      "[]\n"
     ]
    }
   ],
   "source": [
    "\"\"\"\n",
    "7. What happens if an existing file is opened in write mode?\n",
    "\n",
    "It wipes out eisting data in the file and writes whatever you write to it after opening in write mode\n",
    "\"\"\"\n",
    "f=open(\"test.txt\",'w')\n",
    "f.write(\"\"\"This is 1st line\n",
    "This is 2nd line\n",
    "This is 3rd line\n",
    "This is 4th line\n",
    "\"\"\")\n",
    "f.close()\n",
    "f=open(\"test.txt\",'w')\n",
    "f.write(\"\"\"This is overwritten 1st line\n",
    "This is overwritten 2nd line\n",
    "This is overwritten 3rd line\n",
    "This is overwritten 4th line\n",
    "\"\"\")\n",
    "f.close()\n",
    "f=open(\"test.txt\",'r')\n",
    "print(f.readlines())\n",
    "print(f.readlines())"
   ]
  },
  {
   "cell_type": "code",
   "execution_count": 22,
   "id": "3ab3c7e1",
   "metadata": {},
   "outputs": [
    {
     "name": "stdout",
     "output_type": "stream",
     "text": [
      "This is overwritten 1st line\n",
      "This is overwritten 2nd line\n",
      "This is overwritten 3rd line\n",
      "This is overwritten 4th line\n",
      "\n"
     ]
    }
   ],
   "source": [
    "\"\"\"\n",
    "8. How do you tell the difference between read() and readlines()?\n",
    "readlines function outputs list of strings where each string represents a line from the file\n",
    "read outputs a single string containing file's entire contents.\n",
    "\"\"\"\n",
    "f.close()\n",
    "f=open(\"test.txt\",'r')\n",
    "print(f.read())"
   ]
  },
  {
   "cell_type": "code",
   "execution_count": 38,
   "id": "fd9d1c40",
   "metadata": {},
   "outputs": [
    {
     "name": "stdout",
     "output_type": "stream",
     "text": [
      "[('name', 'Krishna'), ('marks', 75), ('salary', 10000), ('designation', 'manager'), ('age', 25)]\n"
     ]
    }
   ],
   "source": [
    "\"\"\"\n",
    "9. What data structure does a shelf value resemble?\n",
    "It represents a dictionary value. Like a dictionary shelf has key-value pairs\n",
    "\"\"\"\n",
    "import shelve\n",
    "s = shelve.open(\"text\")\n",
    "s['name'] = \"Krishna\"\n",
    "s['age'] = 25\n",
    "s['marks'] = 75\n",
    "\n",
    "print(list(s.items()))\n"
   ]
  },
  {
   "cell_type": "code",
   "execution_count": 39,
   "id": "04555291",
   "metadata": {},
   "outputs": [
    {
     "name": "stdout",
     "output_type": "stream",
     "text": [
      "['name', 'marks', 'salary', 'designation', 'age']\n",
      "['Krishna', 75, 10000, 'manager', 25]\n"
     ]
    }
   ],
   "source": [
    "print(list(s.keys()))\n",
    "print(list(s.values()))"
   ]
  },
  {
   "cell_type": "code",
   "execution_count": 40,
   "id": "88147c39",
   "metadata": {},
   "outputs": [
    {
     "data": {
      "text/plain": [
       "[('name', 'Krishna'),\n",
       " ('marks', 75),\n",
       " ('salary', 10000),\n",
       " ('designation', 'manager')]"
      ]
     },
     "execution_count": 40,
     "metadata": {},
     "output_type": "execute_result"
    }
   ],
   "source": [
    "s.pop('age')\n",
    "list(s.items())"
   ]
  },
  {
   "cell_type": "code",
   "execution_count": 41,
   "id": "0edf6053",
   "metadata": {},
   "outputs": [
    {
     "data": {
      "text/plain": [
       "[('name', 'Krishna'),\n",
       " ('marks', 75),\n",
       " ('salary', 300),\n",
       " ('designation', 'Consultant')]"
      ]
     },
     "execution_count": 41,
     "metadata": {},
     "output_type": "execute_result"
    }
   ],
   "source": [
    "d={'salary':300, 'designation':'Consultant'}\n",
    "s.update(d)\n",
    "list(s.items())"
   ]
  },
  {
   "cell_type": "code",
   "execution_count": 42,
   "id": "feac4081",
   "metadata": {},
   "outputs": [],
   "source": [
    "s.close()"
   ]
  },
  {
   "cell_type": "code",
   "execution_count": 43,
   "id": "da313a14",
   "metadata": {},
   "outputs": [
    {
     "data": {
      "text/plain": [
       "[('name', 'Krishna'),\n",
       " ('marks', 75),\n",
       " ('salary', 300),\n",
       " ('designation', 'Consultant')]"
      ]
     },
     "execution_count": 43,
     "metadata": {},
     "output_type": "execute_result"
    }
   ],
   "source": [
    "s = shelve.open(\"text\")\n",
    "list(s.items())"
   ]
  },
  {
   "cell_type": "code",
   "execution_count": null,
   "id": "b95a4ad9",
   "metadata": {},
   "outputs": [],
   "source": []
  }
 ],
 "metadata": {
  "kernelspec": {
   "display_name": "Python 3 (ipykernel)",
   "language": "python",
   "name": "python3"
  },
  "language_info": {
   "codemirror_mode": {
    "name": "ipython",
    "version": 3
   },
   "file_extension": ".py",
   "mimetype": "text/x-python",
   "name": "python",
   "nbconvert_exporter": "python",
   "pygments_lexer": "ipython3",
   "version": "3.9.12"
  }
 },
 "nbformat": 4,
 "nbformat_minor": 5
}
