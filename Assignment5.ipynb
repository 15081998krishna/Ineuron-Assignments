{
 "cells": [
  {
   "cell_type": "code",
   "execution_count": null,
   "id": "7ba76c1f-fe42-41c0-814b-5ac03fea9b9c",
   "metadata": {},
   "outputs": [],
   "source": [
    "#1. What does an empty dictionary's code look like?"
   ]
  },
  {
   "cell_type": "code",
   "execution_count": 1,
   "id": "f6dc093d-5285-43fb-87b3-f2fdaac6780c",
   "metadata": {},
   "outputs": [],
   "source": [
    "d={}"
   ]
  },
  {
   "cell_type": "code",
   "execution_count": 2,
   "id": "653b7b1a-9c36-41a3-a5d6-2dd3dcc1138c",
   "metadata": {},
   "outputs": [
    {
     "data": {
      "text/plain": [
       "dict"
      ]
     },
     "execution_count": 2,
     "metadata": {},
     "output_type": "execute_result"
    }
   ],
   "source": [
    "type(d)"
   ]
  },
  {
   "cell_type": "code",
   "execution_count": null,
   "id": "e118ce70-e0bb-446b-aeb0-9b3b1a1c79a3",
   "metadata": {},
   "outputs": [],
   "source": [
    "#2. What is the value of a dictionary value with the key 'foo' and the value 42?"
   ]
  },
  {
   "cell_type": "code",
   "execution_count": 3,
   "id": "55e8cdc9-17df-4fa3-8539-39b163c984b6",
   "metadata": {},
   "outputs": [],
   "source": [
    "d={'foo':42}"
   ]
  },
  {
   "cell_type": "code",
   "execution_count": 5,
   "id": "412c4d45-7936-4184-806f-07c3cf55afc8",
   "metadata": {},
   "outputs": [
    {
     "data": {
      "text/plain": [
       "42"
      ]
     },
     "execution_count": 5,
     "metadata": {},
     "output_type": "execute_result"
    }
   ],
   "source": [
    "d['foo']"
   ]
  },
  {
   "cell_type": "code",
   "execution_count": null,
   "id": "bcfb0052-f82b-4100-89c0-00f7331bd930",
   "metadata": {},
   "outputs": [],
   "source": [
    "#3. What is the most significant distinction between a dictionary and a list?"
   ]
  },
  {
   "cell_type": "code",
   "execution_count": null,
   "id": "d04257c3-d82b-4f34-8bd3-9ffd4699cc2c",
   "metadata": {},
   "outputs": [],
   "source": [
    "\"\"\"\n",
    "Dictionary is composed of key-value pairs, while list is collection of elements\n",
    "dictionary is an unordered colection while list is ordererd collection. \n",
    "We call values of dict using their keys, list using their indices\n",
    "\"\"\""
   ]
  },
  {
   "cell_type": "code",
   "execution_count": null,
   "id": "1bcb0369-4070-42dc-95ca-a95c25763574",
   "metadata": {},
   "outputs": [],
   "source": [
    "#4. What happens if you try to access spam['foo'] if spam is {'bar': 100}?"
   ]
  },
  {
   "cell_type": "code",
   "execution_count": 6,
   "id": "781c5d70-f7fe-4279-9f86-36ddc2c2f470",
   "metadata": {},
   "outputs": [],
   "source": [
    "spam= {'bar': 100}"
   ]
  },
  {
   "cell_type": "code",
   "execution_count": 7,
   "id": "7c689327-ff9c-4533-81f1-7f6874ca8c41",
   "metadata": {},
   "outputs": [
    {
     "ename": "KeyError",
     "evalue": "'foo'",
     "output_type": "error",
     "traceback": [
      "\u001b[0;31m---------------------------------------------------------------------------\u001b[0m",
      "\u001b[0;31mKeyError\u001b[0m                                  Traceback (most recent call last)",
      "Input \u001b[0;32mIn [7]\u001b[0m, in \u001b[0;36m<cell line: 1>\u001b[0;34m()\u001b[0m\n\u001b[0;32m----> 1\u001b[0m \u001b[43mspam\u001b[49m\u001b[43m[\u001b[49m\u001b[38;5;124;43m'\u001b[39;49m\u001b[38;5;124;43mfoo\u001b[39;49m\u001b[38;5;124;43m'\u001b[39;49m\u001b[43m]\u001b[49m\n",
      "\u001b[0;31mKeyError\u001b[0m: 'foo'"
     ]
    }
   ],
   "source": [
    "spam['foo']"
   ]
  },
  {
   "cell_type": "code",
   "execution_count": null,
   "id": "cf5a7cf6-e62f-4b29-980f-dd5296e49877",
   "metadata": {},
   "outputs": [],
   "source": [
    "#KeyError is generated as there is no key named 'foo'"
   ]
  },
  {
   "cell_type": "code",
   "execution_count": null,
   "id": "f086de36-0f47-4d84-9f3e-d334feab66de",
   "metadata": {},
   "outputs": [],
   "source": [
    "\"\"\"\n",
    "5. If a dictionary is stored in spam, what is the difference between the expressions 'cat' in spam and\n",
    "'cat' in spam.keys()?\n",
    "\"\"\""
   ]
  },
  {
   "cell_type": "code",
   "execution_count": 8,
   "id": "f26c3371-82b5-485a-a064-b70f1bae6442",
   "metadata": {},
   "outputs": [
    {
     "name": "stdout",
     "output_type": "stream",
     "text": [
      "bar   <class 'str'>\n"
     ]
    }
   ],
   "source": [
    "for i in spam:\n",
    "    print(i,\" \",type(i))"
   ]
  },
  {
   "cell_type": "code",
   "execution_count": 10,
   "id": "617a0097-743b-4089-8b43-a54b6431dbc0",
   "metadata": {},
   "outputs": [
    {
     "name": "stdout",
     "output_type": "stream",
     "text": [
      "bar   <class 'str'>\n"
     ]
    }
   ],
   "source": [
    "for i in spam.keys():\n",
    "    print(i,\" \",type(i))"
   ]
  },
  {
   "cell_type": "code",
   "execution_count": 13,
   "id": "126a8b2f-ffc7-4171-85b6-57ef2f193c32",
   "metadata": {},
   "outputs": [
    {
     "data": {
      "text/plain": [
       "False"
      ]
     },
     "execution_count": 13,
     "metadata": {},
     "output_type": "execute_result"
    }
   ],
   "source": [
    "'cat' in spam"
   ]
  },
  {
   "cell_type": "code",
   "execution_count": 14,
   "id": "ae91b70e-57e2-45f9-80b3-0eb2528319fb",
   "metadata": {},
   "outputs": [
    {
     "data": {
      "text/plain": [
       "False"
      ]
     },
     "execution_count": 14,
     "metadata": {},
     "output_type": "execute_result"
    }
   ],
   "source": [
    "'cat' in spam.keys()"
   ]
  },
  {
   "cell_type": "code",
   "execution_count": null,
   "id": "a0416c14-aed2-4eb8-808b-8f5a67df0e7a",
   "metadata": {},
   "outputs": [],
   "source": [
    "#Both are same"
   ]
  },
  {
   "cell_type": "code",
   "execution_count": null,
   "id": "26bffcb7-e810-4f29-9d62-4c165dc19645",
   "metadata": {},
   "outputs": [],
   "source": [
    "\"\"\"\n",
    "6. If a dictionary is stored in spam, what is the difference between the expressions 'cat' in spam and\n",
    "'cat' in spam.values()?\n",
    "\n",
    "1st case checks whether 'cat' exists in keys of dictionary, while in 2nd case it checks\n",
    "whether 'cat' exists in values of dictionary\n",
    "\"\"\""
   ]
  },
  {
   "cell_type": "code",
   "execution_count": null,
   "id": "32ac7217-59de-4656-b226-163041e6861c",
   "metadata": {},
   "outputs": [],
   "source": [
    "\"\"\"\n",
    "7. What is a shortcut for the following code?\n",
    "if 'color' not in spam:\n",
    "spam['color'] = 'black'\n",
    "\"\"\""
   ]
  },
  {
   "cell_type": "code",
   "execution_count": 17,
   "id": "9e120f74-502f-4d9d-b085-89e2b36a1350",
   "metadata": {},
   "outputs": [],
   "source": [
    "spam['color']='white'"
   ]
  },
  {
   "cell_type": "code",
   "execution_count": 18,
   "id": "164ec8dd-c401-48b7-8ede-8baebef77d33",
   "metadata": {},
   "outputs": [
    {
     "data": {
      "text/plain": [
       "{'bar': 100, 'color': 'white'}"
      ]
     },
     "execution_count": 18,
     "metadata": {},
     "output_type": "execute_result"
    }
   ],
   "source": [
    "spam"
   ]
  },
  {
   "cell_type": "code",
   "execution_count": 19,
   "id": "0b4a245b-5be0-4fe7-a1a0-3f16291ff57e",
   "metadata": {},
   "outputs": [
    {
     "data": {
      "text/plain": [
       "'white'"
      ]
     },
     "execution_count": 19,
     "metadata": {},
     "output_type": "execute_result"
    }
   ],
   "source": [
    "spam.setdefault('color','black')"
   ]
  },
  {
   "cell_type": "code",
   "execution_count": null,
   "id": "7c306130-8955-412e-a0fd-305ce0c14d35",
   "metadata": {},
   "outputs": [],
   "source": [
    "\"\"\"\n",
    "Use setdefault wheere it searches whether 'color' key exists, if exists it just returns it's value. If not it\n",
    "stores the key value pair\n",
    "\"\"\""
   ]
  },
  {
   "cell_type": "code",
   "execution_count": null,
   "id": "87af4ca9-9fd9-43c3-9b00-1a6c7709da97",
   "metadata": {},
   "outputs": [],
   "source": [
    "#8. How do you \"pretty print\" dictionary values using which module and function?"
   ]
  },
  {
   "cell_type": "code",
   "execution_count": 21,
   "id": "037cf1af-49e9-47bc-81a6-2936b972afda",
   "metadata": {},
   "outputs": [],
   "source": [
    "import pprint"
   ]
  },
  {
   "cell_type": "code",
   "execution_count": 23,
   "id": "64bf13ae-90a6-4168-b6b8-db011a51954a",
   "metadata": {},
   "outputs": [
    {
     "name": "stdout",
     "output_type": "stream",
     "text": [
      "{'bar': 100, 'color': 'white'}\n"
     ]
    }
   ],
   "source": [
    "pprint.pprint(spam)"
   ]
  },
  {
   "cell_type": "code",
   "execution_count": null,
   "id": "09ec6310-4eb6-4b2f-8789-9861805350ec",
   "metadata": {},
   "outputs": [],
   "source": []
  }
 ],
 "metadata": {
  "kernelspec": {
   "display_name": "Python 3 (ipykernel)",
   "language": "python",
   "name": "python3"
  },
  "language_info": {
   "codemirror_mode": {
    "name": "ipython",
    "version": 3
   },
   "file_extension": ".py",
   "mimetype": "text/x-python",
   "name": "python",
   "nbconvert_exporter": "python",
   "pygments_lexer": "ipython3",
   "version": "3.9.12"
  }
 },
 "nbformat": 4,
 "nbformat_minor": 5
}
