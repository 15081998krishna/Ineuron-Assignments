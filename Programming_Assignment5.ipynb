{
 "cells": [
  {
   "cell_type": "code",
   "execution_count": null,
   "id": "9127f3ff",
   "metadata": {},
   "outputs": [],
   "source": [
    "\"\"\"\n",
    "1. Write a Python Program to Find LCM?\n",
    "2. Write a Python Program to Find HCF?\n",
    "3. Write a Python Program to Convert Decimal to Binary, Octal and Hexadecimal?\n",
    "4. Write a Python Program To Find ASCII value of a character?\n",
    "5. Write a Python Program to Make a Simple Calculator with 4 basic mathematical operations?\n",
    "\"\"\""
   ]
  },
  {
   "cell_type": "code",
   "execution_count": 5,
   "id": "67d3c08d",
   "metadata": {
    "scrolled": true
   },
   "outputs": [
    {
     "name": "stdout",
     "output_type": "stream",
     "text": [
      "Enter the 1st integer: 12\n",
      "Enter the 2nd integer: 12\n",
      "The LCM of 12 , 12 is 12\n"
     ]
    }
   ],
   "source": [
    "\"\"\"\n",
    "1. Write a Python Program to Find LCM?\n",
    "\"\"\"\n",
    "def find_hcf(a,b):\n",
    "    if b==0:\n",
    "        return a;\n",
    "    else:\n",
    "        return find_hcf(b,a%b)\n",
    "def find_lcm(a,b):\n",
    "    k=find_hcf(a,b)\n",
    "    return int((a*b)/k)\n",
    "while True:\n",
    "    try:\n",
    "        a=int(input(\"Enter the 1st integer: \"))\n",
    "        b=int(input('Enter the 2nd integer: '))\n",
    "        if a<0 or b<0:\n",
    "            print(\"Invalid Input! Please enter proper values grater than 0\")\n",
    "            raise ValueError\n",
    "        break\n",
    "    except ValueError:\n",
    "        continue\n",
    "\n",
    "print(f\"The LCM of {a} , {b} is {find_lcm(a,b)}\")\n",
    "        "
   ]
  },
  {
   "cell_type": "code",
   "execution_count": 10,
   "id": "208b1169",
   "metadata": {},
   "outputs": [
    {
     "name": "stdout",
     "output_type": "stream",
     "text": [
      "Enter the 1st integer: awe\n",
      "Enter the 1st integer: 12\n",
      "Enter the 2nd integer: 24\n",
      "The HCF of 12 , 24 is 12\n"
     ]
    }
   ],
   "source": [
    "\"\"\"\n",
    "2. Write a Python Program to Find HCF?\n",
    "\"\"\"\n",
    "while True:\n",
    "    try:\n",
    "        a=int(input(\"Enter the 1st integer: \"))\n",
    "        b=int(input('Enter the 2nd integer: '))\n",
    "        if a<0 or b<0:\n",
    "            print(\"Invalid Input! Please enter proper values grater than 0\")\n",
    "            raise ValueError\n",
    "        break\n",
    "    except ValueError:\n",
    "        continue\n",
    "print(f\"The HCF of {a} , {b} is {find_hcf(a,b)}\")"
   ]
  },
  {
   "cell_type": "code",
   "execution_count": 10,
   "id": "84797d0e",
   "metadata": {},
   "outputs": [
    {
     "name": "stdout",
     "output_type": "stream",
     "text": [
      "Enter the integer: ytry\n",
      "Enter the integer: 30\n",
      "The binary form of integr 30 is 11110\n",
      "The octal form of integr 30 is 36\n",
      "The hexadecimal form of integr 30 is 114\n"
     ]
    }
   ],
   "source": [
    "\"\"\"\n",
    "3. Write a Python Program to Convert Decimal to Binary, Octal and Hexadecimal?\n",
    "\"\"\"\n",
    "def dectobin(a):\n",
    "    #to binary:\n",
    "    if a<0:\n",
    "        return \"-\"+dectobin(abs(a))\n",
    "    elif a==0:\n",
    "        return \"0\"\n",
    "    else:\n",
    "        binary=\"\"\n",
    "        while a>0:\n",
    "            binary=str(a%2) +binary\n",
    "            a=a//2\n",
    "        return binary\n",
    "            \n",
    "def dectooctal(a):\n",
    "    #to octal:\n",
    "    if a<0:\n",
    "        return \"-\"+dectooctal(abs(a))\n",
    "    elif a==0:\n",
    "        return \"0\"\n",
    "    else:\n",
    "        octal=\"\"\n",
    "        while a>0:\n",
    "            octal=str(a%8) +octal\n",
    "            a=a//8\n",
    "        return octal    \n",
    "\n",
    "def dectohexa(a):\n",
    "    #to hexa:\n",
    "    if a<0:\n",
    "        return \"-\"+dectohexa(abs(a))\n",
    "    elif a==0:\n",
    "        return \"0\"\n",
    "    else:\n",
    "        hexa=\"\"\n",
    "        while a>0:\n",
    "            hexa=str(a%16) +hexa\n",
    "            a=a//16\n",
    "        return hexa \n",
    "        \n",
    "\n",
    "    \n",
    "while True:\n",
    "    try:\n",
    "        a=int(input(\"Enter the integer: \"))\n",
    "        break\n",
    "    except ValueError:\n",
    "        continue\n",
    "k=dectobin(a)\n",
    "print(f\"The binary form of integr {a} is {k}\")\n",
    "print(f\"The octal form of integr {a} is {dectooctal(a)}\")\n",
    "print(f\"The hexadecimal form of integr {a} is {dectohexa(a)}\")"
   ]
  },
  {
   "cell_type": "code",
   "execution_count": 9,
   "id": "416e3950",
   "metadata": {},
   "outputs": [
    {
     "name": "stdout",
     "output_type": "stream",
     "text": [
      "Enter the integer: 30\n",
      "0b11110\n",
      "0x1e\n",
      "0o36\n"
     ]
    }
   ],
   "source": [
    "while True:\n",
    "    try:\n",
    "        a=int(input(\"Enter the integer: \"))\n",
    "        break\n",
    "    except ValueError:\n",
    "        continue\n",
    "print(bin(a))\n",
    "print(hex(a))\n",
    "print(oct(a))"
   ]
  },
  {
   "cell_type": "code",
   "execution_count": 20,
   "id": "e12780e6",
   "metadata": {},
   "outputs": [
    {
     "name": "stdout",
     "output_type": "stream",
     "text": [
      "Enter the character: er\n",
      "Invalid Input! Please enter a character of length 1\n",
      "Enter the character: 234\n",
      "Invalid Input! Please enter a character of length 1\n",
      "Enter the character: e\n",
      "The ASCII value of character e is 101\n"
     ]
    }
   ],
   "source": [
    "\"\"\"\n",
    "4. Write a Python Program To Find ASCII value of a character?\n",
    "\"\"\"\n",
    "while True:\n",
    "    try:\n",
    "        char=\"\"+input(\"Enter the character: \")\n",
    "        if len(char)>1:\n",
    "            raise ValueError\n",
    "        break\n",
    "    except ValueError:\n",
    "        print(\"Invalid Input! Please enter a character of length 1\")\n",
    "        continue\n",
    "print(f\"The ASCII value of character {char} is {ord(char)}\")"
   ]
  },
  {
   "cell_type": "code",
   "execution_count": 23,
   "id": "a2242723",
   "metadata": {},
   "outputs": [
    {
     "name": "stdout",
     "output_type": "stream",
     "text": [
      "Enter the 1st integer/float: wejrq\n",
      "Invalid Input! Please enter an integer/float type\n",
      "Enter the 1st integer/float: 34\n",
      "Enter the 2nd integer/float: weewr\n",
      "Invalid Input! Please enter an integer/float type\n",
      "Enter the 1st integer/float: 100\n",
      "Enter the 2nd integer/float: 24\n",
      "Enter the operator i.e. +,-,*,/ /\n",
      "100.0 / 24.0 = 4.166666666666667\n"
     ]
    }
   ],
   "source": [
    "\"\"\"\n",
    "5. Write a Python Program to Make a Simple Calculator with 4 basic mathematical operations?\n",
    "\"\"\"\n",
    "def calculator():\n",
    "    while True:\n",
    "        try:\n",
    "            x=float(input(\"Enter the 1st integer/float: \"))\n",
    "            y=float(input(\"Enter the 2nd integer/float: \"))\n",
    "            break\n",
    "        except ValueError:\n",
    "            print(\"Invalid Input! Please enter an integer/float type\")\n",
    "            continue\n",
    "    while True:\n",
    "        try:\n",
    "            a=input(\"Enter the operator i.e. +,-,*,/ \")\n",
    "            break\n",
    "            if a!='+' or a!='-' or a!='*' or a!='/':\n",
    "                raise ValueError\n",
    "        except ValueError:\n",
    "            print(\"Invalid Input! Please enter the crct  operator\")\n",
    "            continue \n",
    "    if(a=='+'):\n",
    "        print(f\"{x} + {y} = {x+y}\")\n",
    "    elif(a=='-'):\n",
    "        print(f\"{x} - {y} = {x-y}\")\n",
    "    elif(a=='*'):\n",
    "        print(f\"{x} * {y} = {x*y}\")\n",
    "    else:\n",
    "        print(f\"{x} / {y} = {x/y}\")\n",
    "\n",
    "calculator()"
   ]
  },
  {
   "cell_type": "code",
   "execution_count": null,
   "id": "24fad3f3",
   "metadata": {},
   "outputs": [],
   "source": []
  }
 ],
 "metadata": {
  "kernelspec": {
   "display_name": "Python 3 (ipykernel)",
   "language": "python",
   "name": "python3"
  },
  "language_info": {
   "codemirror_mode": {
    "name": "ipython",
    "version": 3
   },
   "file_extension": ".py",
   "mimetype": "text/x-python",
   "name": "python",
   "nbconvert_exporter": "python",
   "pygments_lexer": "ipython3",
   "version": "3.9.12"
  }
 },
 "nbformat": 4,
 "nbformat_minor": 5
}
