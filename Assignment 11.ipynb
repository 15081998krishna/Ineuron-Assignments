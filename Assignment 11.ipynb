{
 "cells": [
  {
   "cell_type": "code",
   "execution_count": null,
   "id": "519d3e4f",
   "metadata": {},
   "outputs": [],
   "source": [
    "\"\"\"\n",
    "1. Create an assert statement that throws an AssertionError if the variable spam is a negative\n",
    "integer.\n",
    "2. Write an assert statement that triggers an AssertionError if the variables eggs and bacon contain\n",
    "strings that are the same as each other, even if their cases are different (that is, 'hello' and 'hello' are\n",
    "considered the same, and 'goodbye' and 'GOODbye' are also considered the same).\n",
    "3. Create an assert statement that throws an AssertionError every time.\n",
    "4. What are the two lines that must be present in your software in order to call logging.debug()?\n",
    "5. What are the two lines that your program must have in order to have logging.debug() send a\n",
    "logging message to a file named programLog.txt?\n",
    "6. What are the five levels of logging?\n",
    "7. What line of code would you add to your software to disable all logging messages?\n",
    "8.Why is using logging messages better than using print() to display the same message?\n",
    "9. What are the differences between the Step Over, Step In, and Step Out buttons in the debugger?\n",
    "10.After you click Continue, when will the debugger stop ?\n",
    "11. What is the concept of a breakpoint?\n",
    "\"\"\""
   ]
  },
  {
   "cell_type": "code",
   "execution_count": 1,
   "id": "a16e8c74",
   "metadata": {},
   "outputs": [
    {
     "ename": "AssertionError",
     "evalue": "",
     "output_type": "error",
     "traceback": [
      "\u001b[1;31m---------------------------------------------------------------------------\u001b[0m",
      "\u001b[1;31mAssertionError\u001b[0m                            Traceback (most recent call last)",
      "Input \u001b[1;32mIn [1]\u001b[0m, in \u001b[0;36m<cell line: 7>\u001b[1;34m()\u001b[0m\n\u001b[0;32m      1\u001b[0m \u001b[38;5;124;03m\"\"\"\u001b[39;00m\n\u001b[0;32m      2\u001b[0m \u001b[38;5;124;03m1. Create an assert statement that throws an AssertionError if the variable spam is a negative\u001b[39;00m\n\u001b[0;32m      3\u001b[0m \u001b[38;5;124;03minteger.\u001b[39;00m\n\u001b[0;32m      4\u001b[0m \u001b[38;5;124;03m\"\"\"\u001b[39;00m\n\u001b[0;32m      6\u001b[0m spam \u001b[38;5;241m=\u001b[39m\u001b[38;5;241m-\u001b[39m\u001b[38;5;241m6\u001b[39m\n\u001b[1;32m----> 7\u001b[0m \u001b[38;5;28;01massert\u001b[39;00m spam\u001b[38;5;241m>\u001b[39m\u001b[38;5;241m=\u001b[39m\u001b[38;5;241m0\u001b[39m\n",
      "\u001b[1;31mAssertionError\u001b[0m: "
     ]
    }
   ],
   "source": [
    "\"\"\"\n",
    "1. Create an assert statement that throws an AssertionError if the variable spam is a negative\n",
    "integer.\n",
    "\"\"\"\n",
    "\n",
    "spam =-6\n",
    "assert spam>=0"
   ]
  },
  {
   "cell_type": "code",
   "execution_count": 10,
   "id": "ba5adc54",
   "metadata": {},
   "outputs": [
    {
     "name": "stdout",
     "output_type": "stream",
     "text": [
      "Yes, goodbye  and GOODbye are same\n"
     ]
    }
   ],
   "source": [
    "\"\"\"\n",
    "2. Write an assert statement that triggers an AssertionError if the variables eggs and bacon contain \n",
    "strings that are the same as each other, even if their cases are different (that is, 'hello' and 'hello' are\n",
    "considered the same, and 'goodbye' and 'GOODbye' are also considered the same).\n",
    "\"\"\"\n",
    "\n",
    "eggs=\"goodbye\"\n",
    "bacon='GOODbye'\n",
    "assert eggs.lower()==bacon.lower()\n",
    "print(f\"Yes, {eggs}  and {bacon} are same\")"
   ]
  },
  {
   "cell_type": "code",
   "execution_count": 12,
   "id": "dad2521a",
   "metadata": {},
   "outputs": [
    {
     "ename": "AssertionError",
     "evalue": "",
     "output_type": "error",
     "traceback": [
      "\u001b[1;31m---------------------------------------------------------------------------\u001b[0m",
      "\u001b[1;31mAssertionError\u001b[0m                            Traceback (most recent call last)",
      "Input \u001b[1;32mIn [12]\u001b[0m, in \u001b[0;36m<cell line: 4>\u001b[1;34m()\u001b[0m\n\u001b[0;32m      1\u001b[0m \u001b[38;5;124;03m\"\"\"\u001b[39;00m\n\u001b[0;32m      2\u001b[0m \u001b[38;5;124;03m3. Create an assert statement that throws an AssertionError every time.\u001b[39;00m\n\u001b[0;32m      3\u001b[0m \u001b[38;5;124;03m\"\"\"\u001b[39;00m\n\u001b[1;32m----> 4\u001b[0m \u001b[38;5;28;01massert\u001b[39;00m \u001b[38;5;241m0\u001b[39m\u001b[38;5;241m==\u001b[39m\u001b[38;5;241m1\u001b[39m\n",
      "\u001b[1;31mAssertionError\u001b[0m: "
     ]
    }
   ],
   "source": [
    "\"\"\"\n",
    "3. Create an assert statement that throws an AssertionError every time.\n",
    "\"\"\"\n",
    "assert 0==1"
   ]
  },
  {
   "cell_type": "code",
   "execution_count": 35,
   "id": "0a6dd999",
   "metadata": {},
   "outputs": [],
   "source": [
    "\"\"\"\n",
    "4. What are the two lines that must be present in your software in order to call logging.debug()?\n",
    "\"\"\"\n",
    "import logging\n",
    "logging.basicConfig(level=logging.DEBUG)\n",
    "logging.debug(\"this is test debug --check check\")\n",
    "\n"
   ]
  },
  {
   "cell_type": "code",
   "execution_count": 28,
   "id": "c504564d",
   "metadata": {},
   "outputs": [
    {
     "ename": "AttributeError",
     "evalue": "module 'logging' has no attribute 'shotdown'",
     "output_type": "error",
     "traceback": [
      "\u001b[1;31m---------------------------------------------------------------------------\u001b[0m",
      "\u001b[1;31mAttributeError\u001b[0m                            Traceback (most recent call last)",
      "Input \u001b[1;32mIn [28]\u001b[0m, in \u001b[0;36m<cell line: 1>\u001b[1;34m()\u001b[0m\n\u001b[1;32m----> 1\u001b[0m \u001b[43mlogging\u001b[49m\u001b[38;5;241;43m.\u001b[39;49m\u001b[43mshotdown\u001b[49m()\n",
      "\u001b[1;31mAttributeError\u001b[0m: module 'logging' has no attribute 'shotdown'"
     ]
    }
   ],
   "source": [
    "logging.shotdown()"
   ]
  },
  {
   "cell_type": "code",
   "execution_count": 33,
   "id": "240c9733",
   "metadata": {},
   "outputs": [
    {
     "name": "stderr",
     "output_type": "stream",
     "text": [
      "DEBUG:root:this is test debug --check check\n"
     ]
    },
    {
     "name": "stdout",
     "output_type": "stream",
     "text": [
      "\n"
     ]
    }
   ],
   "source": [
    "\"\"\"\n",
    "5. What are the two lines that your program must have in order to have logging.debug() send a\n",
    "logging message to a file named programLog.txt?\n",
    "\"\"\"\n",
    "import logging\n",
    "with open(\"text.txt\", 'w') as file:\n",
    "    pass\n",
    "logging.basicConfig(filename=\"text.txt\",level=logging.DEBUG)\n",
    "logging.debug(\"this is test debug --check check\")\\\n",
    "\n",
    "logging.shutdown()\n",
    "\n",
    "with open(\"text.txt\",'r') as file:\n",
    "    content=file.read()\n",
    "    print(content)\n",
    "    \n",
    "\n"
   ]
  },
  {
   "cell_type": "code",
   "execution_count": 39,
   "id": "837d5b79",
   "metadata": {},
   "outputs": [],
   "source": [
    "\"\"\"\n",
    "6. What are the five levels of logging?\n",
    "DEBUG-anything & everything\n",
    "INFO- all needed info\n",
    "WARNING - warnings\n",
    "ERROR-errors -serious errors\n",
    "CRITICAL\n",
    "\"\"\"\n",
    "import logging\n",
    "logger=logging.getLogger(\"L1-logs\")\n",
    "logger.setLevel(logging.DEBUG)\n",
    "\n",
    "file_handler=logging.FileHandler(\"L1-logs.txt\")\n",
    "file_handler.setLevel(logging.DEBUG)\n",
    "\n",
    "formatter=logging.Formatter(\"%(asctime)s - %(name)s - %(levelname)s - %(message)s\")\n",
    "file_handler.setFormatter(formatter)\n",
    "\n",
    "logger.addHandler(file_handler)\n",
    "\n",
    "logger.debug('This is a debug log message')\n",
    "logger.info('This is a info log message')\n",
    "logger.warning('This is a warning log message')\n",
    "logger.error('This is a error log message')\n",
    "logger.critical('This is a critical log message')\n"
   ]
  },
  {
   "cell_type": "code",
   "execution_count": 34,
   "id": "a15b9130",
   "metadata": {},
   "outputs": [],
   "source": [
    "\"\"\"\n",
    "7. What line of code would you add to your software to disable all logging messages?\n",
    "\"\"\"\n",
    "logging.disable(logging.CRITICAL)\n",
    "#This basically blocks all the loggings equal and below Critical level, thus no logging"
   ]
  },
  {
   "cell_type": "code",
   "execution_count": 36,
   "id": "1e3b5103",
   "metadata": {},
   "outputs": [
    {
     "data": {
      "text/plain": [
       "'\\n8.Why is using logging messages better than using print() to display the same message?\\n\\n1. Flexibility to see/store: \\n    By using logging, you can write to a file/remote server and have felxible access to logs\\n    \\n2. Layers of logging: \\n    It helps in identifying and filtering logs based on level of logging you need(in case you only \\nneed error logs ignoring all else, this is useful)\\n\\n3. Performance:\\n    it helps in performance as it stores to a file istead of showing in UI which might slow/shut down system \\nif there are too many logs.\\n\\n4. Integration:\\n    logging can be integrated to frameworks/modules like Flask & Django, making it easier to monitor logs in web apps\\n\\nStandardization:\\n    This is used across world similarly which help in easy communication\\n   \\n'"
      ]
     },
     "execution_count": 36,
     "metadata": {},
     "output_type": "execute_result"
    }
   ],
   "source": [
    "\"\"\"\n",
    "8.Why is using logging messages better than using print() to display the same message?\n",
    "\n",
    "1. Flexibility to see/store: \n",
    "    By using logging, you can write to a file/remote server and have felxible access to logs\n",
    "    \n",
    "2. Layers of logging: \n",
    "    It helps in identifying and filtering logs based on level of logging you need(in case you only \n",
    "need error logs ignoring all else, this is useful)\n",
    "\n",
    "3. Performance:\n",
    "    it helps in performance as it stores to a file istead of showing in UI which might slow/shut down system \n",
    "if there are too many logs.\n",
    "\n",
    "4. Integration:\n",
    "    logging can be integrated to frameworks/modules like Flask & Django, making it easier to monitor logs in web apps\n",
    "\n",
    "Standardization:\n",
    "    This is used across world similarly which help in easy communication\n",
    "   \n",
    "\"\"\""
   ]
  },
  {
   "cell_type": "code",
   "execution_count": null,
   "id": "41697b89",
   "metadata": {},
   "outputs": [],
   "source": [
    "\"\"\"\n",
    "9. What are the differences between the Step Over, Step In, and Step Out buttons in the debugger?\n",
    "\n",
    "Step Over- executes current line and goes to next line\n",
    "Step In- sames as Step Over, except if it is a function call, it goes into function and pauses on the 1st line of function\n",
    "Step Over- sames ad Step Over, unless the current line is in a function(where it completes execution \n",
    "of function and comes out of function and moves to next line of code)\n",
    "\"\"\""
   ]
  },
  {
   "cell_type": "code",
   "execution_count": 40,
   "id": "ffd88a91",
   "metadata": {},
   "outputs": [
    {
     "name": "stdout",
     "output_type": "stream",
     "text": [
      "--Return--\n",
      "None\n",
      "> \u001b[1;32mc:\\users\\vamsi.k\\appdata\\local\\temp\\ipykernel_13244\\3423246762.py\u001b[0m(9)\u001b[0;36m<cell line: 9>\u001b[1;34m()\u001b[0m\n",
      "\n",
      "ipdb> exit\n"
     ]
    },
    {
     "ename": "BdbQuit",
     "evalue": "",
     "output_type": "error",
     "traceback": [
      "\u001b[1;31m---------------------------------------------------------------------------\u001b[0m",
      "\u001b[1;31mBdbQuit\u001b[0m                                   Traceback (most recent call last)",
      "Input \u001b[1;32mIn [40]\u001b[0m, in \u001b[0;36m<cell line: 9>\u001b[1;34m()\u001b[0m\n\u001b[0;32m      1\u001b[0m \u001b[38;5;124;03m\"\"\"\u001b[39;00m\n\u001b[0;32m      2\u001b[0m \u001b[38;5;124;03m10.After you click Continue, when will the debugger stop ?\u001b[39;00m\n\u001b[0;32m      3\u001b[0m \n\u001b[0;32m      4\u001b[0m \u001b[38;5;124;03mAfter clicking Continue, the debugger continues until it hits a breakpoint, encounters an unhandled exception, \u001b[39;00m\n\u001b[0;32m      5\u001b[0m \u001b[38;5;124;03mor reaches the end of the program\u001b[39;00m\n\u001b[0;32m      6\u001b[0m \u001b[38;5;124;03m\"\"\"\u001b[39;00m\n\u001b[0;32m      8\u001b[0m \u001b[38;5;28;01mimport\u001b[39;00m \u001b[38;5;21;01mpdb\u001b[39;00m\n\u001b[1;32m----> 9\u001b[0m pdb\u001b[38;5;241m.\u001b[39mset_trace()\n\u001b[0;32m     10\u001b[0m a\u001b[38;5;241m=\u001b[39m\u001b[38;5;241m10\u001b[39m\n\u001b[0;32m     11\u001b[0m b\u001b[38;5;241m=\u001b[39m\u001b[38;5;241m0\u001b[39m\n",
      "File \u001b[1;32m~\\Python\\lib\\bdb.py:92\u001b[0m, in \u001b[0;36mBdb.trace_dispatch\u001b[1;34m(self, frame, event, arg)\u001b[0m\n\u001b[0;32m     90\u001b[0m     \u001b[38;5;28;01mreturn\u001b[39;00m \u001b[38;5;28mself\u001b[39m\u001b[38;5;241m.\u001b[39mdispatch_call(frame, arg)\n\u001b[0;32m     91\u001b[0m \u001b[38;5;28;01mif\u001b[39;00m event \u001b[38;5;241m==\u001b[39m \u001b[38;5;124m'\u001b[39m\u001b[38;5;124mreturn\u001b[39m\u001b[38;5;124m'\u001b[39m:\n\u001b[1;32m---> 92\u001b[0m     \u001b[38;5;28;01mreturn\u001b[39;00m \u001b[38;5;28;43mself\u001b[39;49m\u001b[38;5;241;43m.\u001b[39;49m\u001b[43mdispatch_return\u001b[49m\u001b[43m(\u001b[49m\u001b[43mframe\u001b[49m\u001b[43m,\u001b[49m\u001b[43m \u001b[49m\u001b[43marg\u001b[49m\u001b[43m)\u001b[49m\n\u001b[0;32m     93\u001b[0m \u001b[38;5;28;01mif\u001b[39;00m event \u001b[38;5;241m==\u001b[39m \u001b[38;5;124m'\u001b[39m\u001b[38;5;124mexception\u001b[39m\u001b[38;5;124m'\u001b[39m:\n\u001b[0;32m     94\u001b[0m     \u001b[38;5;28;01mreturn\u001b[39;00m \u001b[38;5;28mself\u001b[39m\u001b[38;5;241m.\u001b[39mdispatch_exception(frame, arg)\n",
      "File \u001b[1;32m~\\Python\\lib\\bdb.py:154\u001b[0m, in \u001b[0;36mBdb.dispatch_return\u001b[1;34m(self, frame, arg)\u001b[0m\n\u001b[0;32m    152\u001b[0m \u001b[38;5;28;01mfinally\u001b[39;00m:\n\u001b[0;32m    153\u001b[0m     \u001b[38;5;28mself\u001b[39m\u001b[38;5;241m.\u001b[39mframe_returning \u001b[38;5;241m=\u001b[39m \u001b[38;5;28;01mNone\u001b[39;00m\n\u001b[1;32m--> 154\u001b[0m \u001b[38;5;28;01mif\u001b[39;00m \u001b[38;5;28mself\u001b[39m\u001b[38;5;241m.\u001b[39mquitting: \u001b[38;5;28;01mraise\u001b[39;00m BdbQuit\n\u001b[0;32m    155\u001b[0m \u001b[38;5;66;03m# The user issued a 'next' or 'until' command.\u001b[39;00m\n\u001b[0;32m    156\u001b[0m \u001b[38;5;28;01mif\u001b[39;00m \u001b[38;5;28mself\u001b[39m\u001b[38;5;241m.\u001b[39mstopframe \u001b[38;5;129;01mis\u001b[39;00m frame \u001b[38;5;129;01mand\u001b[39;00m \u001b[38;5;28mself\u001b[39m\u001b[38;5;241m.\u001b[39mstoplineno \u001b[38;5;241m!=\u001b[39m \u001b[38;5;241m-\u001b[39m\u001b[38;5;241m1\u001b[39m:\n",
      "\u001b[1;31mBdbQuit\u001b[0m: "
     ]
    }
   ],
   "source": [
    "\"\"\"\n",
    "10.After you click Continue, when will the debugger stop ?\n",
    "\n",
    "After clicking Continue, the debugger continues until it hits a breakpoint, encounters an unhandled exception, \n",
    "or reaches the end of the program\n",
    "\"\"\"\n",
    "\n",
    "import pdb\n",
    "pdb.set_trace()\n",
    "a=10\n",
    "b=0\n",
    "print(a/b)\n",
    "\n",
    "print(\"Completed\")"
   ]
  },
  {
   "cell_type": "code",
   "execution_count": 42,
   "id": "699bdc24",
   "metadata": {},
   "outputs": [
    {
     "name": "stdout",
     "output_type": "stream",
     "text": [
      "> \u001b[1;32mc:\\users\\vamsi.k\\appdata\\local\\temp\\ipykernel_13244\\1874131981.py\u001b[0m(13)\u001b[0;36mmy_function\u001b[1;34m()\u001b[0m\n",
      "\n",
      "ipdb> help\n",
      "\n",
      "Documented commands (type help <topic>):\n",
      "========================================\n",
      "EOF    commands   enable    ll        pp       s                until \n",
      "a      condition  exit      longlist  psource  skip_hidden      up    \n",
      "alias  cont       h         n         q        skip_predicates  w     \n",
      "args   context    help      next      quit     source           whatis\n",
      "b      continue   ignore    p         r        step             where \n",
      "break  d          interact  pdef      restart  tbreak         \n",
      "bt     debug      j         pdoc      return   u              \n",
      "c      disable    jump      pfile     retval   unalias        \n",
      "cl     display    l         pinfo     run      undisplay      \n",
      "clear  down       list      pinfo2    rv       unt            \n",
      "\n",
      "Miscellaneous help topics:\n",
      "==========================\n",
      "exec  pdb\n",
      "\n",
      "ipdb> whatis x\n",
      "<class 'int'>\n",
      "ipdb> where x\n",
      "*** invalid literal for int() with base 10: 'x'\n",
      "ipdb> where\n",
      "\u001b[1;31m    [... skipping 21 hidden frame(s)]\u001b[0m\n",
      "\n",
      "None\n",
      "  \u001b[1;32mc:\\users\\vamsi.k\\appdata\\local\\temp\\ipykernel_13244\\1874131981.py\u001b[0m(15)\u001b[0;36m<cell line: 15>\u001b[1;34m()\u001b[0m\n",
      "\n",
      "> \u001b[1;32mc:\\users\\vamsi.k\\appdata\\local\\temp\\ipykernel_13244\\1874131981.py\u001b[0m(13)\u001b[0;36mmy_function\u001b[1;34m()\u001b[0m\n",
      "\n",
      "ipdb> help where\n",
      "w(here)\n",
      "        Print a stack trace, with the most recent frame at the bottom.\n",
      "        An arrow indicates the \"current frame\", which determines the\n",
      "        context of most commands. 'bt' is an alias for this command.\n",
      "\n",
      "        Take a number as argument as an (optional) number of context line to\n",
      "        print\n",
      "ipdb> where(4)\n",
      "*** invalid literal for int() with base 10: '(4)'\n",
      "ipdb> where 4\n",
      "\u001b[1;31m    [... skipping 21 hidden frame(s)]\u001b[0m\n",
      "\n",
      "None\n",
      "  \u001b[1;32mc:\\users\\vamsi.k\\appdata\\local\\temp\\ipykernel_13244\\1874131981.py\u001b[0m(15)\u001b[0;36m<cell line: 15>\u001b[1;34m()\u001b[0m\n",
      "\n",
      "> \u001b[1;32mc:\\users\\vamsi.k\\appdata\\local\\temp\\ipykernel_13244\\1874131981.py\u001b[0m(13)\u001b[0;36mmy_function\u001b[1;34m()\u001b[0m\n",
      "\n",
      "ipdb> p\n",
      "*** SyntaxError: unexpected EOF while parsing\n",
      "ipdb> c\n",
      "3\n"
     ]
    }
   ],
   "source": [
    "\"\"\"\n",
    "11. What is the concept of a breakpoint?\n",
    "Breakdown is apooint where debugger pauses executing code, so that developer can see the state of variable and code to see \n",
    "to fix the code. It helps is debugging.\n",
    "\"\"\"\n",
    "import pdb\n",
    "\n",
    "def my_function():\n",
    "    x = 1\n",
    "    y = 2\n",
    "    z = x + y\n",
    "    pdb.set_trace() \n",
    "    print(z)\n",
    "\n",
    "my_function()"
   ]
  },
  {
   "cell_type": "code",
   "execution_count": null,
   "id": "eb54f70d",
   "metadata": {},
   "outputs": [],
   "source": []
  }
 ],
 "metadata": {
  "kernelspec": {
   "display_name": "Python 3 (ipykernel)",
   "language": "python",
   "name": "python3"
  },
  "language_info": {
   "codemirror_mode": {
    "name": "ipython",
    "version": 3
   },
   "file_extension": ".py",
   "mimetype": "text/x-python",
   "name": "python",
   "nbconvert_exporter": "python",
   "pygments_lexer": "ipython3",
   "version": "3.9.12"
  }
 },
 "nbformat": 4,
 "nbformat_minor": 5
}
