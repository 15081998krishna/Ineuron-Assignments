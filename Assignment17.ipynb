{
 "cells": [
  {
   "cell_type": "code",
   "execution_count": 1,
   "id": "f744f487",
   "metadata": {},
   "outputs": [
    {
     "data": {
      "text/plain": [
       "\"\\n1. Assign the value 7 to the variable guess_me. Then, write the conditional tests (if, else, and elif) to\\nprint the string 'too low' if guess_me is less than 7, 'too high' if greater than 7, and 'just right' if equal\\nto 7.\\n2. Assign the value 7 to the variable guess_me and the value 1 to the variable start. Write a while\\nloop that compares start with guess_me. Print too low if start is less than guess me. If start equals\\nguess_me, print 'found it!' and exit the loop. If start is greater than guess_me, print 'oops' and exit\\nthe loop. Increment start at the end of the loop.\\n3. Print the following values of the list [3, 2, 1, 0] using a for loop.\\n4. Use a list comprehension to make a list of the even numbers in range(10)\\n5. Use a dictionary comprehension to create the dictionary squares. Use range(10) to return the\\nkeys, and use the square of each key as its value.\\n6. Construct the set odd from the odd numbers in the range using a set comprehension (10).\\n7. Use a generator comprehension to return the string 'Got ' and a number for the numbers in\\nrange(10). Iterate through this by using a for loop.\\n8. Define a function called good that returns the list ['Harry', 'Ron', 'Hermione'].\\n9. Define a generator function called get_odds that returns the odd numbers from range(10). Use a\\nfor loop to find and print the third value returned.\\n10. Define an exception called OopsException. Raise this exception to see what happens. Then write\\nthe code to catch this exception and print 'Caught an oops'.\\n11. Use zip() to make a dictionary called movies that pairs these lists: titles = ['Creature of Habit',\\n'Crewel Fate'] and plots = ['A nun turns into a monster', 'A haunted yarn shop'].\\n\""
      ]
     },
     "execution_count": 1,
     "metadata": {},
     "output_type": "execute_result"
    }
   ],
   "source": [
    "\"\"\"\n",
    "1. Assign the value 7 to the variable guess_me. Then, write the conditional tests (if, else, and elif) to\n",
    "print the string 'too low' if guess_me is less than 7, 'too high' if greater than 7, and 'just right' if equal\n",
    "to 7.\n",
    "2. Assign the value 7 to the variable guess_me and the value 1 to the variable start. Write a while\n",
    "loop that compares start with guess_me. Print too low if start is less than guess me. If start equals\n",
    "guess_me, print 'found it!' and exit the loop. If start is greater than guess_me, print 'oops' and exit\n",
    "the loop. Increment start at the end of the loop.\n",
    "3. Print the following values of the list [3, 2, 1, 0] using a for loop.\n",
    "4. Use a list comprehension to make a list of the even numbers in range(10)\n",
    "5. Use a dictionary comprehension to create the dictionary squares. Use range(10) to return the\n",
    "keys, and use the square of each key as its value.\n",
    "6. Construct the set odd from the odd numbers in the range using a set comprehension (10).\n",
    "7. Use a generator comprehension to return the string 'Got ' and a number for the numbers in\n",
    "range(10). Iterate through this by using a for loop.\n",
    "8. Define a function called good that returns the list ['Harry', 'Ron', 'Hermione'].\n",
    "9. Define a generator function called get_odds that returns the odd numbers from range(10). Use a\n",
    "for loop to find and print the third value returned.\n",
    "10. Define an exception called OopsException. Raise this exception to see what happens. Then write\n",
    "the code to catch this exception and print 'Caught an oops'.\n",
    "11. Use zip() to make a dictionary called movies that pairs these lists: titles = ['Creature of Habit',\n",
    "'Crewel Fate'] and plots = ['A nun turns into a monster', 'A haunted yarn shop'].\n",
    "\"\"\""
   ]
  },
  {
   "cell_type": "code",
   "execution_count": 2,
   "id": "776dc317",
   "metadata": {},
   "outputs": [
    {
     "name": "stdout",
     "output_type": "stream",
     "text": [
      "just right\n"
     ]
    }
   ],
   "source": [
    "\"\"\"\n",
    "1. Assign the value 7 to the variable guess_me. Then, write the conditional tests (if, else, and elif) to\n",
    "print the string 'too low' if guess_me is less than 7, 'too high' if greater than 7, and 'just right' if equal\n",
    "to 7.\n",
    "\"\"\"\n",
    "\n",
    "guess_me=7\n",
    "\n",
    "if(guess_me<7):\n",
    "    print('too low')\n",
    "elif(guess_me>7):\n",
    "    print('too high')\n",
    "else:\n",
    "    print('just right')"
   ]
  },
  {
   "cell_type": "code",
   "execution_count": 3,
   "id": "cb57c817",
   "metadata": {},
   "outputs": [
    {
     "name": "stdout",
     "output_type": "stream",
     "text": [
      "too low\n",
      "too low\n",
      "too low\n",
      "too low\n",
      "too low\n",
      "too low\n",
      "found it!\n"
     ]
    }
   ],
   "source": [
    "\"\"\"\n",
    "2. Assign the value 7 to the variable guess_me and the value 1 to the variable start. Write a while\n",
    "loop that compares start with guess_me. Print too low if start is less than guess me. If start equals\n",
    "guess_me, print 'found it!' and exit the loop. If start is greater than guess_me, print 'oops' and exit\n",
    "the loop. Increment start at the end of the loop.\n",
    "\"\"\"\n",
    "guess_me=7\n",
    "start=1\n",
    "\n",
    "while(True):\n",
    "    if(start<guess_me):\n",
    "        print('too low')\n",
    "    elif(start==guess_me):\n",
    "        print('found it!')\n",
    "        break\n",
    "    else:\n",
    "        print('oops')\n",
    "        break\n",
    "    start+=1\n",
    "    "
   ]
  },
  {
   "cell_type": "code",
   "execution_count": 4,
   "id": "c90a422f",
   "metadata": {},
   "outputs": [
    {
     "name": "stdout",
     "output_type": "stream",
     "text": [
      "3\n",
      "2\n",
      "1\n",
      "0\n"
     ]
    }
   ],
   "source": [
    "\"\"\"\n",
    "3. Print the following values of the list [3, 2, 1, 0] using a for loop.\n",
    "\"\"\"\n",
    "lst=[3,2,1,0]\n",
    "\n",
    "for i in lst:\n",
    "    print(i)"
   ]
  },
  {
   "cell_type": "code",
   "execution_count": 5,
   "id": "b14915b4",
   "metadata": {},
   "outputs": [
    {
     "data": {
      "text/plain": [
       "[0, 2, 4, 6, 8]"
      ]
     },
     "execution_count": 5,
     "metadata": {},
     "output_type": "execute_result"
    }
   ],
   "source": [
    "\"\"\"\n",
    "4. Use a list comprehension to make a list of the even numbers in range(10)\n",
    "\"\"\"\n",
    "lst=[num for num in range(10) if num%2==0]\n",
    "lst"
   ]
  },
  {
   "cell_type": "code",
   "execution_count": 6,
   "id": "3e0cab5d",
   "metadata": {},
   "outputs": [
    {
     "data": {
      "text/plain": [
       "{0: 0, 1: 1, 2: 4, 3: 9, 4: 16, 5: 25, 6: 36, 7: 49, 8: 64, 9: 81}"
      ]
     },
     "execution_count": 6,
     "metadata": {},
     "output_type": "execute_result"
    }
   ],
   "source": [
    "\"\"\"\n",
    "5. Use a dictionary comprehension to create the dictionary squares. Use range(10) to return the\n",
    "keys, and use the square of each key as its value.\n",
    "\"\"\"\n",
    "sqrdic={i:i*i for i in range(10)}\n",
    "sqrdic"
   ]
  },
  {
   "cell_type": "code",
   "execution_count": 7,
   "id": "cfc87fbc",
   "metadata": {},
   "outputs": [
    {
     "data": {
      "text/plain": [
       "{1, 3, 5, 7, 9}"
      ]
     },
     "execution_count": 7,
     "metadata": {},
     "output_type": "execute_result"
    }
   ],
   "source": [
    "\"\"\"\n",
    "6. Construct the set odd from the odd numbers in the range using a set comprehension (10).\n",
    "\"\"\"\n",
    "odd={num for num in range(10) if num%2!=0}\n",
    "odd"
   ]
  },
  {
   "cell_type": "code",
   "execution_count": 8,
   "id": "09dcb7c9",
   "metadata": {},
   "outputs": [
    {
     "name": "stdout",
     "output_type": "stream",
     "text": [
      "Got 0\n",
      "Got 1\n",
      "Got 2\n",
      "Got 3\n",
      "Got 4\n",
      "Got 5\n",
      "Got 6\n",
      "Got 7\n",
      "Got 8\n",
      "Got 9\n"
     ]
    }
   ],
   "source": [
    "\"\"\"\n",
    "7. Use a generator comprehension to return the string 'Got ' and a number for the numbers in\n",
    "range(10). Iterate through this by using a for loop.\n",
    "\"\"\"\n",
    "lst=(f\"Got {i}\" for i in range(10))\n",
    "for s in lst:\n",
    "    print(s)"
   ]
  },
  {
   "cell_type": "code",
   "execution_count": 9,
   "id": "18976e31",
   "metadata": {},
   "outputs": [
    {
     "data": {
      "text/plain": [
       "['Harry', 'Ron', 'Hermione']"
      ]
     },
     "execution_count": 9,
     "metadata": {},
     "output_type": "execute_result"
    }
   ],
   "source": [
    "\"\"\"\n",
    "8. Define a function called good that returns the list ['Harry', 'Ron', 'Hermione'].\n",
    "\"\"\"\n",
    "def good():\n",
    "    return ['Harry', 'Ron', 'Hermione'];\n",
    "\n",
    "good()"
   ]
  },
  {
   "cell_type": "code",
   "execution_count": 17,
   "id": "6a7d4771",
   "metadata": {},
   "outputs": [
    {
     "name": "stdout",
     "output_type": "stream",
     "text": [
      "5\n"
     ]
    }
   ],
   "source": [
    "\"\"\"\n",
    "9. Define a generator function called get_odds that returns the odd numbers from range(10). Use a\n",
    "for loop to find and print the third value returned.\n",
    "\"\"\"\n",
    "def get_odds():\n",
    "    return (num for num in range(10) if num%2!=0)\n",
    "\n",
    "for i, odd in enumerate(get_odds()):\n",
    "    if i == 2:\n",
    "        print(odd)\n",
    "        break"
   ]
  },
  {
   "cell_type": "code",
   "execution_count": 20,
   "id": "708139e3",
   "metadata": {},
   "outputs": [
    {
     "name": "stdout",
     "output_type": "stream",
     "text": [
      "Caught an oops Raising Oops Exception\n"
     ]
    }
   ],
   "source": [
    "\"\"\"\n",
    "10. Define an exception called OopsException. Raise this exception to see what happens. Then write\n",
    "the code to catch this exception and print 'Caught an oops'.\n",
    "\"\"\"\n",
    "class OopsException(Exception):\n",
    "    pass\n",
    "\n",
    "try:\n",
    "    raise OopsException(\"Raising Oops Exception\")\n",
    "except OopsException as ex:\n",
    "    print('Caught an oops',ex)"
   ]
  },
  {
   "cell_type": "code",
   "execution_count": 22,
   "id": "c9a66509",
   "metadata": {},
   "outputs": [
    {
     "name": "stdout",
     "output_type": "stream",
     "text": [
      "{'Creature of Habit': 'A nun turns into a monster', 'Crewel Fate': 'A haunted yarn shop'}\n"
     ]
    }
   ],
   "source": [
    "\"\"\"\n",
    "11. Use zip() to make a dictionary called movies that pairs these lists: titles = ['Creature of Habit',\n",
    "'Crewel Fate'] and plots = ['A nun turns into a monster', 'A haunted yarn shop'].\n",
    "\"\"\"\n",
    "titles=  ['Creature of Habit','Crewel Fate']\n",
    "plots = ['A nun turns into a monster', 'A haunted yarn shop']\n",
    "\n",
    "movies=dict(zip(titles,plots))\n",
    "print(movies)"
   ]
  },
  {
   "cell_type": "code",
   "execution_count": null,
   "id": "fca75653",
   "metadata": {},
   "outputs": [],
   "source": []
  }
 ],
 "metadata": {
  "kernelspec": {
   "display_name": "Python 3 (ipykernel)",
   "language": "python",
   "name": "python3"
  },
  "language_info": {
   "codemirror_mode": {
    "name": "ipython",
    "version": 3
   },
   "file_extension": ".py",
   "mimetype": "text/x-python",
   "name": "python",
   "nbconvert_exporter": "python",
   "pygments_lexer": "ipython3",
   "version": "3.9.12"
  }
 },
 "nbformat": 4,
 "nbformat_minor": 5
}
