{
 "cells": [
  {
   "cell_type": "code",
   "execution_count": null,
   "id": "47c7f809",
   "metadata": {},
   "outputs": [],
   "source": [
    "\"\"\"\n",
    "1. Write a Python Program to Display Fibonacci Sequence Using Recursion?\n",
    "2. Write a Python Program to Find Factorial of Number Using Recursion?\n",
    "3. Write a Python Program to calculate your Body Mass Index?\n",
    "4. Write a Python Program to calculate the natural logarithm of any number?\n",
    "5. Write a Python Program for cube sum of first n natural numbers?\n",
    "\"\"\""
   ]
  },
  {
   "cell_type": "code",
   "execution_count": 3,
   "id": "8be3b3b4",
   "metadata": {},
   "outputs": [
    {
     "name": "stdout",
     "output_type": "stream",
     "text": [
      "Enter the size of fibonacci sequence: 6\n",
      "0 1 1 2 3 5 "
     ]
    }
   ],
   "source": [
    "\"\"\"\n",
    "1. Write a Python Program to Display Fibonacci Sequence Using Recursion?\n",
    "\"\"\"\n",
    "def febseq(k):\n",
    "    if k<=1:\n",
    "        return k\n",
    "    else:\n",
    "        return (febseq(k-1)+febseq(k-2))\n",
    "\n",
    "while True:\n",
    "    try:\n",
    "        k=int(input(\"Enter the size of fibonacci sequence: \"))\n",
    "        if k<1:\n",
    "            raise ValueError\n",
    "        break\n",
    "    except ValueError:\n",
    "        print(\"Invalid Input! Please enter a positive integer\")\n",
    "        continue\n",
    "for i in range(k):\n",
    "    print(febseq(i), end=\" \")\n",
    "        "
   ]
  },
  {
   "cell_type": "code",
   "execution_count": 7,
   "id": "12411a7f",
   "metadata": {},
   "outputs": [
    {
     "name": "stdout",
     "output_type": "stream",
     "text": [
      "Enter the number you need factorial for?: wet\n",
      "Invalid Input! Please enter a non-negative integer\n",
      "Enter the number you need factorial for?: 5\n",
      "120\n"
     ]
    }
   ],
   "source": [
    "\"\"\"\n",
    "2. Write a Python Program to Find Factorial of Number Using Recursion?\n",
    "\"\"\"\n",
    "def fact(n):\n",
    "    if n==0:\n",
    "        return 1;\n",
    "    elif n<=2:\n",
    "        return n;\n",
    "    else:\n",
    "        return n*fact(n-1)\n",
    "\n",
    "while True:\n",
    "    try:\n",
    "        k=int(input(\"Enter the number you need factorial for?: \"))\n",
    "        if k<0:\n",
    "            raise ValueError\n",
    "        break\n",
    "    except ValueError:\n",
    "        print(\"Invalid Input! Please enter a non-negative integer\")\n",
    "        continue\n",
    "    \n",
    "print(fact(k))    "
   ]
  },
  {
   "cell_type": "code",
   "execution_count": 10,
   "id": "82278b49",
   "metadata": {},
   "outputs": [
    {
     "name": "stdout",
     "output_type": "stream",
     "text": [
      "Enter the size of weight in kg: srw\n",
      "Invalid Input! Please enter correct value\n",
      "Enter the size of weight in kg: \n",
      "Invalid Input! Please enter correct value\n",
      "Enter the size of weight in kg: 84\n",
      "Enter the size of height in meters: 1.76\n",
      "The BMI for a body whose weight is 84.0 kg and height is 1.76 mtrs is 27.117768595041323\n"
     ]
    }
   ],
   "source": [
    "\"\"\"\n",
    "3. Write a Python Program to calculate your Body Mass Index?\n",
    "\"\"\"\n",
    "\n",
    "def bmi(wt,ht):\n",
    "    return wt/(ht**2)\n",
    "\n",
    "while True:\n",
    "    try:\n",
    "        k=float(input(\"Enter the size of weight in kg: \"))\n",
    "        l=float(input(\"Enter the size of height in meters: \"))\n",
    "        if k<=0 or l<=0:\n",
    "            raise ValueError\n",
    "        break\n",
    "    except ValueError:\n",
    "        print(\"Invalid Input! Please enter correct value\")\n",
    "        continue\n",
    "print(f\"The BMI for a body whose weight is {k} kg and height is {l} mtrs is {bmi(k,l)}\")"
   ]
  },
  {
   "cell_type": "code",
   "execution_count": 15,
   "id": "a00e6c2d",
   "metadata": {},
   "outputs": [
    {
     "name": "stdout",
     "output_type": "stream",
     "text": [
      "Enter the number you need natural log for?: wtr\n",
      "Invalid Input! Please enter a number >0\n",
      "Enter the number you need natural log for?: 4\n",
      "1.3862943611198906\n"
     ]
    }
   ],
   "source": [
    "\"\"\"\n",
    "4. Write a Python Program to calculate the natural logarithm of any number?\n",
    "\"\"\"\n",
    "import math\n",
    "def natlog(n):\n",
    "    return math.log(n)\n",
    "\n",
    "while True:\n",
    "    try:\n",
    "        k=float(input(\"Enter the number you need natural log for?: \"))\n",
    "        if k<=0:\n",
    "            raise ValueError\n",
    "        break\n",
    "    except ValueError:\n",
    "        print(\"Invalid Input! Please enter a number >0\")\n",
    "        continue\n",
    "    \n",
    "print(natlog(k))    "
   ]
  },
  {
   "cell_type": "code",
   "execution_count": 19,
   "id": "c0c70d29",
   "metadata": {},
   "outputs": [
    {
     "name": "stdout",
     "output_type": "stream",
     "text": [
      "Enter the last number wew\n",
      "Invalid Input! Please enter an integer >0\n",
      "Enter the last number 23.4\n",
      "Invalid Input! Please enter an integer >0\n",
      "Enter the last number 12\n",
      "6084\n"
     ]
    }
   ],
   "source": [
    "\"\"\"\n",
    "5. Write a Python Program for cube sum of first n natural numbers?\n",
    "\"\"\"\n",
    "def sumofcubes(n):\n",
    "    return int(((n**2)*((n+1)**2))/4);\n",
    "while True:\n",
    "    try:\n",
    "        k=int(input(\"Enter the last number \"))\n",
    "        if k<=0:\n",
    "            raise ValueError\n",
    "        break\n",
    "    except ValueError:\n",
    "        print(\"Invalid Input! Please enter an integer >0\")\n",
    "        continue\n",
    "    \n",
    "print(sumofcubes(k)) "
   ]
  },
  {
   "cell_type": "code",
   "execution_count": null,
   "id": "31ec3cbb",
   "metadata": {},
   "outputs": [],
   "source": []
  }
 ],
 "metadata": {
  "kernelspec": {
   "display_name": "Python 3 (ipykernel)",
   "language": "python",
   "name": "python3"
  },
  "language_info": {
   "codemirror_mode": {
    "name": "ipython",
    "version": 3
   },
   "file_extension": ".py",
   "mimetype": "text/x-python",
   "name": "python",
   "nbconvert_exporter": "python",
   "pygments_lexer": "ipython3",
   "version": "3.9.12"
  }
 },
 "nbformat": 4,
 "nbformat_minor": 5
}
