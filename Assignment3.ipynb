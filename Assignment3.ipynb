{
 "cells": [
  {
   "cell_type": "code",
   "execution_count": null,
   "id": "af359b7b-8e9c-4bce-bbda-6e3515162a49",
   "metadata": {},
   "outputs": [],
   "source": [
    "\"\"\"\n",
    "1. Why are functions advantageous to have in your programs?\n",
    "\n",
    "1) avoid repeating same code across the program reducing the effort & size of code\n",
    "2) reusability of code\n",
    "3) If we need to change anything in logic of code in future, you only need to update at one place.\n",
    "\"\"\""
   ]
  },
  {
   "cell_type": "code",
   "execution_count": null,
   "id": "a56ea724-a659-4d55-90d9-0776d297bc2f",
   "metadata": {},
   "outputs": [],
   "source": [
    "\"\"\"\n",
    "2. When does the code in a function run: when it's specified or when it's called?\n",
    "\n",
    "A function runs when it's called not when it's specified\n",
    "\"\"\""
   ]
  },
  {
   "cell_type": "code",
   "execution_count": null,
   "id": "936d9880-aafd-4435-bdf6-f10f06ed69dd",
   "metadata": {},
   "outputs": [],
   "source": [
    "\"\"\"\n",
    "3. What statement creates a function?\n",
    "The def statement creates a function\n",
    "\"\"\""
   ]
  },
  {
   "cell_type": "code",
   "execution_count": 1,
   "id": "0d9d7f08-ad1f-4d5b-ba14-175e2af15512",
   "metadata": {},
   "outputs": [
    {
     "data": {
      "text/plain": [
       "5"
      ]
     },
     "execution_count": 1,
     "metadata": {},
     "output_type": "execute_result"
    }
   ],
   "source": [
    "def add(a,b):\n",
    "    return a+b\n",
    "add(2,3)"
   ]
  },
  {
   "cell_type": "code",
   "execution_count": null,
   "id": "452a9815-7c41-4ae9-93b4-33b69cfe84e2",
   "metadata": {},
   "outputs": [],
   "source": [
    "\"\"\"\n",
    "4. What is the difference between a function and a function call?\n",
    "\n",
    "A function is a set of statements/commands stored inside a def clause. It doesn't produce any output \n",
    "without calling it\n",
    "Whereas function call executes the statements inside the function as per the order defined in \n",
    "function and may or may not produce an output\n",
    "\"\"\""
   ]
  },
  {
   "cell_type": "code",
   "execution_count": null,
   "id": "a1bb540e-3ea0-4ffe-984b-ed86fda7262a",
   "metadata": {},
   "outputs": [],
   "source": [
    "\"\"\"\n",
    "5. How many global scopes are there in a Python program? How many local scopes?\n",
    "\n",
    "There is 1 global scope and local scope is created whenever a function is called\n",
    "\"\"\""
   ]
  },
  {
   "cell_type": "code",
   "execution_count": null,
   "id": "1fc8c973-3938-49ae-b267-c586c7c02fdd",
   "metadata": {},
   "outputs": [],
   "source": [
    "\"\"\"\n",
    "6. What happens to variables in a local scope when the function call returns?\n",
    "\n",
    "The local scope is destroyed along with the variables in it.\n",
    "\"\"\""
   ]
  },
  {
   "cell_type": "code",
   "execution_count": null,
   "id": "13596c56-3c8a-41bb-9c3f-57dc3f955f0a",
   "metadata": {},
   "outputs": [],
   "source": [
    "\"\"\"\n",
    "7. What is the concept of a return value? Is it possible to have a return value in an expression?\n",
    "\n",
    "return values refers to value returned by a function call. Yes, it can be used in an expression\n",
    "\"\"\""
   ]
  },
  {
   "cell_type": "code",
   "execution_count": null,
   "id": "934765b8-47f1-4636-b601-d22b38bf8a3d",
   "metadata": {},
   "outputs": [],
   "source": [
    "\"\"\"\n",
    "8. If a function does not have a return statement, what is the return value of a call to that function?\n",
    "\n",
    "None(type=Nonetype)\n",
    "\"\"\""
   ]
  },
  {
   "cell_type": "code",
   "execution_count": null,
   "id": "8635806b-d80a-40dc-9311-39df50602cf6",
   "metadata": {},
   "outputs": [],
   "source": [
    "\"\"\"\n",
    "9. How do you make a function variable refer to the global variable?\n",
    "\n",
    "declaring the variable as global explicitly will make it a global variable\n",
    "\"\"\""
   ]
  },
  {
   "cell_type": "code",
   "execution_count": 4,
   "id": "a8d407d2-3f38-474a-9d44-b94963c6090f",
   "metadata": {},
   "outputs": [],
   "source": [
    "def add(a,b):\n",
    "    c= a+b\n",
    "add(2,3)"
   ]
  },
  {
   "cell_type": "code",
   "execution_count": 5,
   "id": "fc856259-9e20-4031-8f79-71533d8d4f4a",
   "metadata": {},
   "outputs": [
    {
     "ename": "NameError",
     "evalue": "name 'c' is not defined",
     "output_type": "error",
     "traceback": [
      "\u001b[0;31m---------------------------------------------------------------------------\u001b[0m",
      "\u001b[0;31mNameError\u001b[0m                                 Traceback (most recent call last)",
      "Input \u001b[0;32mIn [5]\u001b[0m, in \u001b[0;36m<cell line: 1>\u001b[0;34m()\u001b[0m\n\u001b[0;32m----> 1\u001b[0m \u001b[43mc\u001b[49m\n",
      "\u001b[0;31mNameError\u001b[0m: name 'c' is not defined"
     ]
    }
   ],
   "source": [
    "c"
   ]
  },
  {
   "cell_type": "code",
   "execution_count": 9,
   "id": "b29fd0cc-0a7d-4f05-9f31-e98de89f5140",
   "metadata": {},
   "outputs": [],
   "source": [
    "def add(a,b):\n",
    "    global c\n",
    "    c= a+b\n",
    "add(2,3)"
   ]
  },
  {
   "cell_type": "code",
   "execution_count": 10,
   "id": "b58bb1f1-ebc3-4f83-b946-db168fb378b8",
   "metadata": {},
   "outputs": [
    {
     "data": {
      "text/plain": [
       "5"
      ]
     },
     "execution_count": 10,
     "metadata": {},
     "output_type": "execute_result"
    }
   ],
   "source": [
    "c"
   ]
  },
  {
   "cell_type": "code",
   "execution_count": null,
   "id": "6324571b-273a-48a8-a13d-523dcbd6bc13",
   "metadata": {},
   "outputs": [],
   "source": [
    "#10. What is the data type of None?"
   ]
  },
  {
   "cell_type": "code",
   "execution_count": null,
   "id": "b365a36c-f843-4670-93d2-c2c2ac966c22",
   "metadata": {},
   "outputs": [],
   "source": [
    "#Nonetype"
   ]
  },
  {
   "cell_type": "code",
   "execution_count": 8,
   "id": "ff490d5e-f482-432d-9381-7915190fa778",
   "metadata": {},
   "outputs": [
    {
     "data": {
      "text/plain": [
       "NoneType"
      ]
     },
     "execution_count": 8,
     "metadata": {},
     "output_type": "execute_result"
    }
   ],
   "source": [
    "def add(a,b):\n",
    "    c= a+b\n",
    "type(add(2,3))"
   ]
  },
  {
   "cell_type": "code",
   "execution_count": null,
   "id": "7c85ce91-0d45-457f-b858-5133e3c11107",
   "metadata": {},
   "outputs": [],
   "source": [
    "\"\"\"\n",
    "11. What does the sentence import areallyourpetsnamederic do?\n",
    "\n",
    "the import command imports the module named \"areallyourpetsnamederic\" if there is one.\n",
    "\"\"\""
   ]
  },
  {
   "cell_type": "code",
   "execution_count": null,
   "id": "5b86237d-f150-4f07-b9a7-7a7bfc08e026",
   "metadata": {},
   "outputs": [],
   "source": [
    "\"\"\"\n",
    "12. If you had a bacon() feature in a spam module, what would you call it after importing spam?\n",
    "\n",
    "spam.bacon()\n",
    "\"\"\""
   ]
  },
  {
   "cell_type": "code",
   "execution_count": null,
   "id": "6b25677a-94a8-4e46-b10d-0eb8c18cff97",
   "metadata": {},
   "outputs": [],
   "source": [
    "#13. What can you do to save a programme from crashing if it encounters an error?"
   ]
  },
  {
   "cell_type": "code",
   "execution_count": null,
   "id": "c6c2f557-23ee-4641-9a75-756fdf8250a3",
   "metadata": {},
   "outputs": [],
   "source": [
    "#use try and except"
   ]
  },
  {
   "cell_type": "code",
   "execution_count": null,
   "id": "bd5060f9-fd99-4988-a193-0bf7dd67f7f1",
   "metadata": {},
   "outputs": [],
   "source": [
    "\"\"\"\n",
    "14. What is the purpose of the try clause? What is the purpose of the except clause?\n",
    "\n",
    "The try clause's puppose is to execute the code in it. and if it encounters an error\n",
    "it goes to the except clause to execute the code in it without abrutly stopping the program\n",
    "leading to error\n",
    "\"\"\""
   ]
  }
 ],
 "metadata": {
  "kernelspec": {
   "display_name": "Python 3 (ipykernel)",
   "language": "python",
   "name": "python3"
  },
  "language_info": {
   "codemirror_mode": {
    "name": "ipython",
    "version": 3
   },
   "file_extension": ".py",
   "mimetype": "text/x-python",
   "name": "python",
   "nbconvert_exporter": "python",
   "pygments_lexer": "ipython3",
   "version": "3.9.12"
  }
 },
 "nbformat": 4,
 "nbformat_minor": 5
}
