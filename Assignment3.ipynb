{
 "cells": [
  {
   "cell_type": "raw",
   "id": "e639ebe8-35bb-4921-82b8-9f09e5ffe4f2",
   "metadata": {},
   "source": [
    "1. Why are functions advantageous to have in your programs?"
   ]
  },
  {
   "cell_type": "raw",
   "id": "4bdcd63f-aa06-4aa2-a2a2-3a3affb6496b",
   "metadata": {},
   "source": [
    "1) avoid repeating same code across the program reducing the effort & size of code\n",
    "2) reusability of code\n",
    "3) If we need to change anything in logic of code in future, you only need to update at one place."
   ]
  },
  {
   "cell_type": "raw",
   "id": "0903adc2-26d1-4c73-8b14-e6d3c9521f41",
   "metadata": {},
   "source": [
    "2. When does the code in a function run: when it's specified or when it's called?"
   ]
  },
  {
   "cell_type": "raw",
   "id": "defc71ef-f804-45d8-86eb-6f848d9fb6e9",
   "metadata": {},
   "source": [
    "A function runs when it's called not when it's specified"
   ]
  },
  {
   "cell_type": "raw",
   "id": "1689923d-322d-4927-b019-1c618ae26513",
   "metadata": {},
   "source": [
    "3. What statement creates a function?"
   ]
  },
  {
   "cell_type": "raw",
   "id": "58b87374-813f-483a-b20f-d36dbf6270f1",
   "metadata": {},
   "source": [
    "The def statement creates a function"
   ]
  },
  {
   "cell_type": "code",
   "execution_count": 1,
   "id": "0d9d7f08-ad1f-4d5b-ba14-175e2af15512",
   "metadata": {},
   "outputs": [
    {
     "data": {
      "text/plain": [
       "5"
      ]
     },
     "execution_count": 1,
     "metadata": {},
     "output_type": "execute_result"
    }
   ],
   "source": [
    "def add(a,b):\n",
    "    return a+b\n",
    "add(2,3)"
   ]
  },
  {
   "cell_type": "raw",
   "id": "60b646f0-664b-43b6-acab-b15511adb92e",
   "metadata": {},
   "source": [
    "4. What is the difference between a function and a function call?"
   ]
  },
  {
   "cell_type": "raw",
   "id": "c3c04cea-1ce2-4880-87bf-14f119c45a4a",
   "metadata": {},
   "source": [
    "A function is a set of statements/commands stored inside a def clause. It doesn't produce any output \n",
    "without calling it\n",
    "Whereas function call executes the statements inside the function as per the order defined in function and may or may not produce an output"
   ]
  },
  {
   "cell_type": "raw",
   "id": "9895ce40-19cf-4dc0-9045-2dfe444c5ecc",
   "metadata": {},
   "source": [
    "5. How many global scopes are there in a Python program? How many local scopes?"
   ]
  },
  {
   "cell_type": "raw",
   "id": "4f75e29a-926c-43cf-ab95-5caba0a12d44",
   "metadata": {},
   "source": [
    "There is 1 global scope and local scope is created whenever a function is called"
   ]
  },
  {
   "cell_type": "raw",
   "id": "43ae04a9-6098-4718-b1b4-ef2e648754c3",
   "metadata": {},
   "source": [
    "6. What happens to variables in a local scope when the function call returns?"
   ]
  },
  {
   "cell_type": "raw",
   "id": "b07b3910-c480-482d-82fb-4782aa3bd917",
   "metadata": {},
   "source": [
    "The local scope is destroyed along with the variables in it."
   ]
  },
  {
   "cell_type": "raw",
   "id": "a37e86c2-0b94-4b96-9ede-60b749bf9401",
   "metadata": {},
   "source": [
    "7. What is the concept of a return value? Is it possible to have a return value in an expression?"
   ]
  },
  {
   "cell_type": "raw",
   "id": "593e20da-eb24-45da-bbf6-0ebce1226a27",
   "metadata": {},
   "source": [
    "return values refers to value returned by a function call. Yes, it can be used in an expression"
   ]
  },
  {
   "cell_type": "raw",
   "id": "d1bbad1b-4a2b-4201-8cb5-68dd46567ffe",
   "metadata": {},
   "source": [
    "8. If a function does not have a return statement, what is the return value of a call to that function?"
   ]
  },
  {
   "cell_type": "raw",
   "id": "47a429fe-9731-4f7c-9c98-98854cddf4ca",
   "metadata": {},
   "source": [
    "None(type=Nonetype)"
   ]
  },
  {
   "cell_type": "raw",
   "id": "47997809-0eb8-48ac-a50d-aa209eed2e9a",
   "metadata": {},
   "source": [
    "9. How do you make a function variable refer to the global variable?"
   ]
  },
  {
   "cell_type": "raw",
   "id": "400ea584-8123-44a9-bf1c-2119d72b3245",
   "metadata": {},
   "source": [
    "declaring the variable as global explicitly will make it a global variable"
   ]
  },
  {
   "cell_type": "code",
   "execution_count": 4,
   "id": "a8d407d2-3f38-474a-9d44-b94963c6090f",
   "metadata": {},
   "outputs": [],
   "source": [
    "def add(a,b):\n",
    "    c= a+b\n",
    "add(2,3)"
   ]
  },
  {
   "cell_type": "code",
   "execution_count": 5,
   "id": "fc856259-9e20-4031-8f79-71533d8d4f4a",
   "metadata": {},
   "outputs": [
    {
     "ename": "NameError",
     "evalue": "name 'c' is not defined",
     "output_type": "error",
     "traceback": [
      "\u001b[0;31m---------------------------------------------------------------------------\u001b[0m",
      "\u001b[0;31mNameError\u001b[0m                                 Traceback (most recent call last)",
      "Input \u001b[0;32mIn [5]\u001b[0m, in \u001b[0;36m<cell line: 1>\u001b[0;34m()\u001b[0m\n\u001b[0;32m----> 1\u001b[0m \u001b[43mc\u001b[49m\n",
      "\u001b[0;31mNameError\u001b[0m: name 'c' is not defined"
     ]
    }
   ],
   "source": [
    "c"
   ]
  },
  {
   "cell_type": "code",
   "execution_count": 9,
   "id": "b29fd0cc-0a7d-4f05-9f31-e98de89f5140",
   "metadata": {},
   "outputs": [],
   "source": [
    "def add(a,b):\n",
    "    global c\n",
    "    c= a+b\n",
    "add(2,3)"
   ]
  },
  {
   "cell_type": "code",
   "execution_count": 10,
   "id": "b58bb1f1-ebc3-4f83-b946-db168fb378b8",
   "metadata": {},
   "outputs": [
    {
     "data": {
      "text/plain": [
       "5"
      ]
     },
     "execution_count": 10,
     "metadata": {},
     "output_type": "execute_result"
    }
   ],
   "source": [
    "c"
   ]
  },
  {
   "cell_type": "raw",
   "id": "1fdb6a77-a5c8-4702-ae47-bb92d760fdc9",
   "metadata": {},
   "source": [
    "10. What is the data type of None?"
   ]
  },
  {
   "cell_type": "raw",
   "id": "df11d08e-f746-4631-874a-c89351de953d",
   "metadata": {},
   "source": [
    "Nonetype"
   ]
  },
  {
   "cell_type": "code",
   "execution_count": 8,
   "id": "ff490d5e-f482-432d-9381-7915190fa778",
   "metadata": {},
   "outputs": [
    {
     "data": {
      "text/plain": [
       "NoneType"
      ]
     },
     "execution_count": 8,
     "metadata": {},
     "output_type": "execute_result"
    }
   ],
   "source": [
    "def add(a,b):\n",
    "    c= a+b\n",
    "type(add(2,3))"
   ]
  },
  {
   "cell_type": "raw",
   "id": "96b4023b-72f1-4d73-85cf-79fb714f2b22",
   "metadata": {},
   "source": [
    "11. What does the sentence import areallyourpetsnamederic do?"
   ]
  },
  {
   "cell_type": "raw",
   "id": "5b5924fb-07f0-4b55-8d2f-2fd087b18638",
   "metadata": {},
   "source": [
    "the import command imports the module named \"areallyourpetsnamederic\" if there is one."
   ]
  },
  {
   "cell_type": "raw",
   "id": "0322ff0f-8de5-4e14-b16c-49f27fe59190",
   "metadata": {},
   "source": [
    "12. If you had a bacon() feature in a spam module, what would you call it after importing spam?"
   ]
  },
  {
   "cell_type": "raw",
   "id": "cfc20b5f-c01f-4bea-8928-c117321fc937",
   "metadata": {},
   "source": [
    "spam.bacon()"
   ]
  },
  {
   "cell_type": "raw",
   "id": "8f2ba7b6-ec5e-4c50-83ea-2f83dacf88ea",
   "metadata": {},
   "source": [
    "13. What can you do to save a programme from crashing if it encounters an error?"
   ]
  },
  {
   "cell_type": "raw",
   "id": "852a3ea5-d167-49ef-a6d8-e8d36d0ed590",
   "metadata": {},
   "source": [
    "use try and except"
   ]
  },
  {
   "cell_type": "raw",
   "id": "dae2dbae-b8e2-479b-9ef5-78feb27f97c9",
   "metadata": {},
   "source": [
    "14. What is the purpose of the try clause? What is the purpose of the except clause?"
   ]
  },
  {
   "cell_type": "raw",
   "id": "f5154f99-4911-4f7b-9d99-0c1ca8931141",
   "metadata": {},
   "source": [
    "The try clause's puppose is to execute the code in it. and if it encounters an error\n",
    "it goes to the except clause to execute the code in it without abrutly stopping the program\n",
    "leading to error"
   ]
  },
  {
   "cell_type": "code",
   "execution_count": null,
   "id": "2b89f81e-0b73-4ce1-a5c5-4f47417f0d00",
   "metadata": {},
   "outputs": [],
   "source": []
  }
 ],
 "metadata": {
  "kernelspec": {
   "display_name": "Python 3 (ipykernel)",
   "language": "python",
   "name": "python3"
  },
  "language_info": {
   "codemirror_mode": {
    "name": "ipython",
    "version": 3
   },
   "file_extension": ".py",
   "mimetype": "text/x-python",
   "name": "python",
   "nbconvert_exporter": "python",
   "pygments_lexer": "ipython3",
   "version": "3.9.12"
  }
 },
 "nbformat": 4,
 "nbformat_minor": 5
}
