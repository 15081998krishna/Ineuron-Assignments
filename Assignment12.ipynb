{
 "cells": [
  {
   "cell_type": "code",
   "execution_count": 1,
   "id": "6f336a2b-96ea-4ad4-bbc5-c752f8160cb2",
   "metadata": {},
   "outputs": [
    {
     "name": "stdout",
     "output_type": "stream",
     "text": [
      "Collecting PyPDF2\n",
      "  Downloading pypdf2-3.0.1-py3-none-any.whl (232 kB)\n",
      "\u001b[2K     \u001b[90m━━━━━━━━━━━━━━━━━━━━━━━━━━━━━━━━━━━━━━\u001b[0m \u001b[32m232.6/232.6 kB\u001b[0m \u001b[31m23.4 MB/s\u001b[0m eta \u001b[36m0:00:00\u001b[0m\n",
      "\u001b[?25hInstalling collected packages: PyPDF2\n",
      "Successfully installed PyPDF2-3.0.1\n"
     ]
    }
   ],
   "source": [
    "\"\"\"\n",
    "1. In what modes should the PdfFileReader() and PdfFileWriter() File objects will be opened?\n",
    "in 'rb' and 'rw' as they are binary files\n",
    "\n",
    "A. It seems that PDFFileReader and PDFFileWriter are replaced by PDFReader and PDFWriter. \n",
    "However the functionalities are same. So, for this exercise I will be using PDFReader and PDFWriter accordingly.\n",
    "\"\"\"\n",
    "!pip install PyPDF2\n",
    "\n",
    "import PyPDF2\n",
    "\n",
    "with open('sample.pdf', 'rb') as file:\n",
    "    pdf_reader = PyPDF2.PdfReader(file)\n",
    "    pdf_writer = PyPDF2.PdfWriter()\n",
    "    \n",
    "    count=len(pdf_reader.pages)\n",
    "    \n",
    "    for page_num in range(count):\n",
    "        page=pdf_reader.pages[page_num]       \n",
    "        pdf_writer.add_page(page)\n",
    "    \n",
    "    with open('output.pdf', 'wb') as file:\n",
    "        pdf_writer.write(file)"
   ]
  },
  {
   "cell_type": "code",
   "execution_count": 2,
   "id": "ca1a57ed-5cd9-49fd-8bb8-ee93d44f7057",
   "metadata": {},
   "outputs": [
    {
     "name": "stdout",
     "output_type": "stream",
     "text": [
      "pagenumnber 2 - Data: /n  Simple PDF File 2 \n",
      " ...continued from page 1. Yet more text. And more text. And more text. \n",
      " And more text. And more text. And more text. And more text. And more \n",
      " text. Oh, how boring typing this stuff. But not as boring as watching \n",
      " paint dry. And more text. And more text. And more text. And more text. \n",
      " Boring.  More, a little more text. The end, and just as well. \n"
     ]
    },
    {
     "ename": "IndexError",
     "evalue": "sequence index out of range",
     "output_type": "error",
     "traceback": [
      "\u001b[0;31m---------------------------------------------------------------------------\u001b[0m",
      "\u001b[0;31mIndexError\u001b[0m                                Traceback (most recent call last)",
      "Cell \u001b[0;32mIn [2], line 16\u001b[0m\n\u001b[1;32m     13\u001b[0m data\u001b[38;5;241m=\u001b[39mpage\u001b[38;5;241m.\u001b[39mextract_text()\n\u001b[1;32m     14\u001b[0m \u001b[38;5;28mprint\u001b[39m(\u001b[38;5;124mf\u001b[39m\u001b[38;5;124m\"\u001b[39m\u001b[38;5;124mpagenumnber \u001b[39m\u001b[38;5;132;01m{\u001b[39;00mpage_num\u001b[38;5;241m+\u001b[39m\u001b[38;5;241m1\u001b[39m\u001b[38;5;132;01m}\u001b[39;00m\u001b[38;5;124m - Data: /n \u001b[39m\u001b[38;5;132;01m{\u001b[39;00mdata\u001b[38;5;132;01m}\u001b[39;00m\u001b[38;5;124m\"\u001b[39m)\n\u001b[0;32m---> 16\u001b[0m page\u001b[38;5;241m=\u001b[39m\u001b[43mpdf_reader\u001b[49m\u001b[38;5;241;43m.\u001b[39;49m\u001b[43mpages\u001b[49m\u001b[43m[\u001b[49m\u001b[38;5;241;43m5\u001b[39;49m\u001b[43m]\u001b[49m       \n\u001b[1;32m     17\u001b[0m data\u001b[38;5;241m=\u001b[39mpage\u001b[38;5;241m.\u001b[39mextract_text()\n\u001b[1;32m     18\u001b[0m \u001b[38;5;28mprint\u001b[39m(\u001b[38;5;124mf\u001b[39m\u001b[38;5;124m\"\u001b[39m\u001b[38;5;124mpagenumnber \u001b[39m\u001b[38;5;132;01m{\u001b[39;00mpage_num\u001b[38;5;241m+\u001b[39m\u001b[38;5;241m1\u001b[39m\u001b[38;5;132;01m}\u001b[39;00m\u001b[38;5;124m - Data: /n \u001b[39m\u001b[38;5;132;01m{\u001b[39;00mdata\u001b[38;5;132;01m}\u001b[39;00m\u001b[38;5;124m\"\u001b[39m)\n",
      "File \u001b[0;32m/opt/conda/lib/python3.10/site-packages/PyPDF2/_page.py:2077\u001b[0m, in \u001b[0;36m_VirtualList.__getitem__\u001b[0;34m(self, index)\u001b[0m\n\u001b[1;32m   2075\u001b[0m     index \u001b[38;5;241m=\u001b[39m len_self \u001b[38;5;241m+\u001b[39m index\n\u001b[1;32m   2076\u001b[0m \u001b[38;5;28;01mif\u001b[39;00m index \u001b[38;5;241m<\u001b[39m \u001b[38;5;241m0\u001b[39m \u001b[38;5;129;01mor\u001b[39;00m index \u001b[38;5;241m>\u001b[39m\u001b[38;5;241m=\u001b[39m len_self:\n\u001b[0;32m-> 2077\u001b[0m     \u001b[38;5;28;01mraise\u001b[39;00m \u001b[38;5;167;01mIndexError\u001b[39;00m(\u001b[38;5;124m\"\u001b[39m\u001b[38;5;124msequence index out of range\u001b[39m\u001b[38;5;124m\"\u001b[39m)\n\u001b[1;32m   2078\u001b[0m \u001b[38;5;28;01mreturn\u001b[39;00m \u001b[38;5;28mself\u001b[39m\u001b[38;5;241m.\u001b[39mget_function(index)\n",
      "\u001b[0;31mIndexError\u001b[0m: sequence index out of range"
     ]
    }
   ],
   "source": [
    "\"\"\"\n",
    "2. From a PdfFileReader object, how do you get a Page object for page 5?\n",
    "A. as shown above it is to call page method on pdfReader object and input page 5, if there is page 5 it gets \n",
    "page file, if it doesn't have page 5, it gives out IndexError\n",
    "\"\"\"\n",
    "\n",
    "with open('sample.pdf', 'rb') as file:\n",
    "    pdf_reader = PyPDF2.PdfReader(file)\n",
    "    \n",
    "    count=len(pdf_reader.pages)\n",
    "    \n",
    "    page=pdf_reader.pages[1]       \n",
    "    data=page.extract_text()\n",
    "    print(f\"pagenumnber {page_num+1} - Data: /n {data}\")\n",
    "    \n",
    "    page=pdf_reader.pages[5]       \n",
    "    data=page.extract_text()\n",
    "    print(f\"pagenumnber {page_num+1} - Data: /n {data}\")"
   ]
  },
  {
   "cell_type": "code",
   "execution_count": 3,
   "id": "f4e20d10-413c-4ab7-b9f8-75d4b04297a2",
   "metadata": {},
   "outputs": [
    {
     "name": "stdout",
     "output_type": "stream",
     "text": [
      "Number of pages in sample.pdf are 2\n"
     ]
    }
   ],
   "source": [
    "\"\"\"\n",
    "3. What PdfFileReader variable stores the number of pages in the PDF document?\n",
    "\n",
    "as. shown above, len({pdfReader}.pages) gives the number of pages\n",
    "\"\"\"\n",
    "with open('sample.pdf', 'rb') as file:\n",
    "    pdf_reader = PyPDF2.PdfReader(file)\n",
    "    \n",
    "    count=len(pdf_reader.pages)\n",
    "    print(f\"Number of pages in sample.pdf are {count}\")"
   ]
  },
  {
   "cell_type": "code",
   "execution_count": null,
   "id": "bff7360b-69ee-4ce4-a1f4-ae1a477cfff5",
   "metadata": {},
   "outputs": [
    {
     "name": "stdout",
     "output_type": "stream",
     "text": [
      "Collecting PyMuPDF\n",
      "  Downloading PyMuPDF-1.22.2-cp310-cp310-manylinux_2_17_x86_64.manylinux2014_x86_64.whl (14.1 MB)\n",
      "\u001b[2K     \u001b[90m━━━━━━━━━━━━━━━━━━━━━━━━━━━━━━━━━━━━━━━━\u001b[0m \u001b[32m14.1/14.1 MB\u001b[0m \u001b[31m72.3 MB/s\u001b[0m eta \u001b[36m0:00:00\u001b[0m00:01\u001b[0m00:01\u001b[0m\n",
      "\u001b[?25h"
     ]
    }
   ],
   "source": [
    "\"\"\"\n",
    "4. If a PdfFileReader object’s PDF is encrypted with the password swordfish, what must you do\n",
    "before you can obtain Page objects from it?\n",
    "\"\"\"\n",
    "\"\"\"\n",
    "with open('sample2-protected.pdf', 'rb') as file:\n",
    "    pdf_reader = PyPDF2.PdfReader(file)\n",
    "    \n",
    "    if pdf_reader.is_encrypted:\n",
    "        pdf_reader.decrypt('swordfish')\n",
    "            \n",
    "    page = pdf_reader.pages[1]       \n",
    "    data = page.extract_text()\n",
    "    print(f\"Page number 2 - Data: \\n{data}\")\n",
    "    \n",
    "    #I am getting some eroros with this code satting pycrypt lib is necessary for AES algo, even after installing\n",
    "    and running them I do not get the proper output, so I used fitz lib\n",
    "    \n",
    "    \n",
    "\"\"\"\n",
    "!pip install PyMuPDF\n",
    "\n",
    "import fitz\n",
    "\n",
    "# Open the encrypted PDF file\n",
    "doc = fitz.open(\"Timetable_protected.pdf\")\n",
    "\n",
    "# Try to authenticate using the provided password\n",
    "if doc.authenticate(\"swordfish\"):\n",
    "    # If authentication is successful, remove the encryption\n",
    "    doc._fCrypt = None\n",
    "else:\n",
    "    # If authentication fails, exit the program\n",
    "    print(\"Incorrect password\")\n",
    "    exit()\n",
    "\n",
    "# Extract text from the second page of the PDF file\n",
    "page = doc.load_page(0)\n",
    "text = page.get_text()\n",
    "print(\"Page 1 text: {}\".format(text))\n",
    "print(len(doc))\n"
   ]
  },
  {
   "cell_type": "code",
   "execution_count": null,
   "id": "6c7aec8e-ca24-466a-b744-8d7e52570dc2",
   "metadata": {},
   "outputs": [],
   "source": [
    "\"\"\"\n",
    "5. What methods do you use to rotate a page?\n",
    "\n",
    "rotate and specify angle in multiples of 90 in input to rotate method\n",
    "\"\"\"\n",
    "\n",
    "with open(\"Timetable.pdf\",'rb') as file:\n",
    "    pdf_reader=PyPDF2.PdfReader(file)\n",
    "    \n",
    "    page=pdf_reader.pages[0]\n",
    "    page.rotate(180)\n",
    "    \n",
    "    with open('timeoutput.pdf', 'wb') as output:\n",
    "        pdf_writer = PyPDF2.PdfWriter()\n",
    "        pdf_writer.add_page(page)\n",
    "        pdf_writer.write(output)\n",
    "          "
   ]
  },
  {
   "cell_type": "code",
   "execution_count": null,
   "id": "8577bd4e-5791-448e-85d6-d860bfc53035",
   "metadata": {},
   "outputs": [],
   "source": [
    "\"\"\"\n",
    "6. What is the difference between a Run object and a Paragraph object?\n",
    "\n",
    "A. Both are objects used for formatiing in word document. A paragraph is a collection/container of one or \n",
    "multiple runs. Run is a contiguos run of text having the same formatting (properties like font size, color, \n",
    "bold and others).\n",
    "\"\"\""
   ]
  },
  {
   "cell_type": "code",
   "execution_count": null,
   "id": "c67b3a01-428d-4dfb-9798-b85546be033a",
   "metadata": {},
   "outputs": [],
   "source": [
    "\"\"\"\n",
    "7. How do you obtain a list of Paragraph objects for a Document object that’s stored in a variable\n",
    "named doc?\n",
    "using docx module, create Document obj, through which you can call paragraphs method\n",
    "\"\"\"\n",
    "!pip install python-docx\n",
    "import docx\n",
    "\n",
    "doc=docx.Document(\"Assignment_14.docx\")\n",
    "\n",
    "paragraphs=doc.paragraphs\n",
    "\n",
    "for para in paragraphs:\n",
    "    print(para.text)\n",
    "\n"
   ]
  },
  {
   "cell_type": "code",
   "execution_count": null,
   "id": "bfd20b50-e778-4bac-8bf2-171997b49f7e",
   "metadata": {},
   "outputs": [],
   "source": [
    "\"\"\"\n",
    "8. What type of object has bold, underline, italic, strike, and outline variables?\n",
    "\n",
    "Run object has these vars to represent the formatting properties of a run of text in word doc.\n",
    "\"\"\"\n"
   ]
  },
  {
   "cell_type": "code",
   "execution_count": null,
   "id": "50b37139-c18d-4bef-8d8d-3e37394e0aeb",
   "metadata": {},
   "outputs": [],
   "source": [
    "\"\"\"\n",
    "9. What is the difference between False, True, and None for the bold variable?\n",
    "True makes the run of text bold, false makes the run of text unbold. If it is set to none,  it depends on \n",
    "text input i.e if the text is bold then it is bold, if the text is not bold then it is not bold\n",
    "\"\"\""
   ]
  },
  {
   "cell_type": "code",
   "execution_count": null,
   "id": "ca1039f4-9bba-4f81-a280-02007ba90d15",
   "metadata": {},
   "outputs": [],
   "source": [
    "\"\"\"\n",
    "10. How do you create a Document object for a new Word document?\n",
    "\"\"\"\n",
    "from docx import Document\n",
    "doc=Document()\n",
    "\n",
    "para=doc.add_paragraph()\n",
    "\n",
    "run=para.add_run(\"This is italic and underlined text\")\n",
    "run.italic=True;\n",
    "run.underline=True;\n",
    "run.bold=None;\n",
    "run.add_break()\n",
    "\n",
    "run=para.add_run(\"This is bold and strike text\")\n",
    "run.bold=True;\n",
    "run.strike=True;\n",
    "run.add_break()\n",
    "\n",
    "run = para.add_run('This text has an outline')\n",
    "font = run.font\n",
    "font.outline = True\n",
    "\n",
    "doc.save(\"New_Word_Doc.docx\")\n"
   ]
  },
  {
   "cell_type": "code",
   "execution_count": null,
   "id": "cc236b42-fbf2-45c4-ab4c-cf6f83aabe7d",
   "metadata": {},
   "outputs": [],
   "source": [
    "doc=Document(\"New_Word_Doc.docx\")\n",
    "\n",
    "para=doc.paragraphs\n",
    "\n",
    "for p in para:\n",
    "    print(p.text)"
   ]
  },
  {
   "cell_type": "code",
   "execution_count": null,
   "id": "093307eb-e6fa-4846-916f-04f65b4639cb",
   "metadata": {},
   "outputs": [],
   "source": [
    "\"\"\"\n",
    "11. How do you add a paragraph with the text \"Hello, there\" to a Document object stored in a\n",
    "variable named doc?\n",
    "\"\"\"\n",
    "from docx import Document\n",
    "doc=Document()\n",
    "\n",
    "para=doc.add_paragraph(\"Hello, there!\")\n",
    "doc.save(\"test.docx\")\n"
   ]
  },
  {
   "cell_type": "code",
   "execution_count": null,
   "id": "003edc64-ef59-4acf-820d-9e787c500b13",
   "metadata": {},
   "outputs": [],
   "source": [
    "\"\"\"\n",
    "12. What integers represent the levels of headings available in Word documents?\n",
    "Level 1:0\n",
    "Level 2:1\n",
    "..\n",
    "..\n",
    "Level 9:8\n",
    "\n",
    "there are 9 levels with level 1 being highest level and level 9 being lowest level\n",
    "\"\"\"\n",
    "from docx import Document\n",
    "doc=Document()\n",
    "\n",
    "doc.add_heading(\"Main Header\",level=1)\n",
    "doc.add_heading(\"Section Header\",level=2)\n",
    "doc.add_heading(\"Sub Header\",level=4)\n",
    "doc.add_heading(\"Point Header\",level=6)\n",
    "\n",
    "doc.save(\"Levels.docx\")"
   ]
  },
  {
   "cell_type": "code",
   "execution_count": null,
   "id": "8d994986-a06c-4555-83e9-2e02fa0b2217",
   "metadata": {},
   "outputs": [],
   "source": []
  }
 ],
 "metadata": {
  "kernelspec": {
   "display_name": "Python 3 (ipykernel)",
   "language": "python",
   "name": "python3"
  },
  "language_info": {
   "codemirror_mode": {
    "name": "ipython",
    "version": 3
   },
   "file_extension": ".py",
   "mimetype": "text/x-python",
   "name": "python",
   "nbconvert_exporter": "python",
   "pygments_lexer": "ipython3",
   "version": "3.10.6"
  }
 },
 "nbformat": 4,
 "nbformat_minor": 5
}
