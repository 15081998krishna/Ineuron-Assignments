{
  "nbformat": 4,
  "nbformat_minor": 0,
  "metadata": {
    "colab": {
      "provenance": [],
      "collapsed_sections": []
    },
    "kernelspec": {
      "name": "python3",
      "display_name": "Python 3"
    },
    "language_info": {
      "name": "python"
    }
  },
  "cells": [
    {
      "cell_type": "markdown",
      "source": [
        "# ASSIGNMENTS - Compulsory\n",
        "## Send it before 0000 hrs IST or 12 AM Wednesday\n",
        "\n",
        "## NOTE: Evaluation will be done before next class.\n",
        "\n",
        "## HOW TO SUBMIT: -\n",
        "Download this notebook, Solve it and upload in the google form given in the mail."
      ],
      "metadata": {
        "id": "cyOfbWCdOjEr"
      }
    },
    {
      "cell_type": "markdown",
      "source": [
        "## Python String Manipulation\n",
        "\n",
        "1. Count the number of times `iNeuron` appears in the string.\n",
        "```python\n",
        "text = \"Welcome to iNeuron, You are a part of FSDS Bootcamp 2 in iNeuron. I hope you are enjoying the course by iNeuron\"\n",
        "```\n",
        "2. Check if position `5` to `11` ends with the phrase `iNeuron.` in the string \n",
        "```python\n",
        "txt = \"Hello, welcome to FSDS 2.0 at iNeuron.\"\n",
        "```\n",
        "3. Write a program that takes your full name as input and displays the abbreviations of the first and middle names except the last name which is displayed as it is. For example, if your name is Sunny Bhaveen Chandra, then the output should be S.B.Chandra.\n",
        "\n",
        "4. Join all items in a list into a string, using a hash(`#`) character as separator:\n",
        "```python\n",
        "LIST = [\"My\", \"name\", \"is\", \"Rishav\", \"Dash\"]\n",
        "```\n",
        "5. Write example for the following string manipulation function,\n",
        "\n",
        "  ```\n",
        "  - isdecimal()\n",
        "  - islower()\n",
        "  - isupper()\n",
        "  - isalpha()\n",
        "  - isnumeric()\n",
        "\n",
        "  ```\n",
        "6. Indian PAN card format follows the following formats - \n",
        "    - `AYEPC7894X`\n",
        "    - `ABCDE9999Y`\n",
        "  Take user input for PAN_CARD and validate as per the above example."
      ],
      "metadata": {
        "id": "HtfXaQiQ4YbU"
      }
    },
    {
      "cell_type": "code",
      "source": [
        "\"\"\"\n",
        "1. Count the number of times `iNeuron` appears in the string.\n",
        "```python\n",
        "text = \"Welcome to iNeuron, You are a part of FSDS Bootcamp 2 in iNeuron. I hope you are enjoying the course by iNeuron\"\n",
        "```\n",
        "\"\"\"\n",
        "text=\"Welcome to iNeuron, You are a part of FSDS Bootcamp 2 in iNeuron. I hope you are enjoying the course by iNeuron\"\n",
        "text.count(\"iNeuron\")"
      ],
      "metadata": {
        "id": "KwVni9gipNi-",
        "outputId": "4ee156b4-68ca-4f8e-93c3-d8b73b3f5ab1",
        "colab": {
          "base_uri": "https://localhost:8080/"
        }
      },
      "execution_count": null,
      "outputs": [
        {
          "output_type": "execute_result",
          "data": {
            "text/plain": [
              "3"
            ]
          },
          "metadata": {},
          "execution_count": 1
        }
      ]
    },
    {
      "cell_type": "code",
      "source": [
        "\"\"\"\n",
        "2. Check if position `5` to `11` ends with the phrase `iNeuron.` in the string \n",
        "```python\n",
        "txt = \"Hello, welcome to FSDS 2.0 at iNeuron.\"\n",
        "```\n",
        "\"\"\"\n",
        "txt = \"Hello, welcome to FSDS 2.0 at iNeuron.\"\n",
        "txt[5:11].endswith(\"iNeuron\")"
      ],
      "metadata": {
        "id": "mkQ7gUts3H10",
        "colab": {
          "base_uri": "https://localhost:8080/"
        },
        "outputId": "b7d0533d-e230-44d4-e3c7-06eef2eec301"
      },
      "execution_count": 6,
      "outputs": [
        {
          "output_type": "execute_result",
          "data": {
            "text/plain": [
              "False"
            ]
          },
          "metadata": {},
          "execution_count": 6
        }
      ]
    },
    {
      "cell_type": "code",
      "source": [
        "\"\"\"\n",
        "3. Write a program that takes your full name as input and displays the abbreviations of the first and \n",
        "middle names except the last name which is displayed as it is. For example, if your name is Sunny Bhaveen Chandra, \n",
        "then the output should be S.B.Chandra.\n",
        "\"\"\"\n",
        "name=input(\"Enter your full name \")\n",
        "splitnames=name.split(\" \")\n",
        "fullname=\"\"\n",
        "for i in range(len(splitnames)-1):\n",
        "  fullname=fullname+splitnames[i][0]+'.'\n",
        "fullname=fullname+splitnames[-1]\n",
        "fullname\n"
      ],
      "metadata": {
        "id": "puOhRxvQ3Nq1",
        "colab": {
          "base_uri": "https://localhost:8080/",
          "height": 53
        },
        "outputId": "c248ec1d-4bf1-4630-95e9-f20fa05b1d28"
      },
      "execution_count": 5,
      "outputs": [
        {
          "name": "stdout",
          "output_type": "stream",
          "text": [
            "Enter your full name Rama chandra shivam\n"
          ]
        },
        {
          "output_type": "execute_result",
          "data": {
            "text/plain": [
              "'R.c.shivam'"
            ],
            "application/vnd.google.colaboratory.intrinsic+json": {
              "type": "string"
            }
          },
          "metadata": {},
          "execution_count": 5
        }
      ]
    },
    {
      "cell_type": "code",
      "source": [
        "\"\"\"\n",
        "4. Join all items in a list into a string, using a hash(`#`) character as separator:\n",
        "```python\n",
        "LIST = [\"My\", \"name\", \"is\", \"Rishav\", \"Dash\"]\n",
        "\"\"\"\n",
        "LIST = [\"My\", \"name\", \"is\", \"Rishav\", \"Dash\"]\n",
        "k='#'.join(LIST)\n",
        "k"
      ],
      "metadata": {
        "colab": {
          "base_uri": "https://localhost:8080/",
          "height": 35
        },
        "id": "7obGzA5O4Fr0",
        "outputId": "e961a0e7-f0ed-496c-917c-981d79c5e43c"
      },
      "execution_count": 7,
      "outputs": [
        {
          "output_type": "execute_result",
          "data": {
            "text/plain": [
              "'My#name#is#Rishav#Dash'"
            ],
            "application/vnd.google.colaboratory.intrinsic+json": {
              "type": "string"
            }
          },
          "metadata": {},
          "execution_count": 7
        }
      ]
    },
    {
      "cell_type": "code",
      "source": [
        "\"\"\"\n",
        "5. Write example for the following string manipulation function,\n",
        "\n",
        "  ```\n",
        "  - isdecimal()\n",
        "  - islower()\n",
        "  - isupper()\n",
        "  - isalpha()\n",
        "  - isnumeric()\n",
        "\"\"\"\n",
        "f,k=\"1034\",\"23hh234\"\n",
        "print(f.isdecimal(),k.isdecimal())\n",
        "\n",
        "a = \"\\u0030\" #unicode for 0\n",
        "b = \"\\u0047\" #unicode for G\n",
        "print(a.isdecimal(),b.isdecimal())\n",
        "\n",
        "f,k=\"vamsi krishna\", \"Vamsi krishna\"\n",
        "print(f.islower(), k.islower())\n",
        "\n",
        "f,k=\"VAMSI KRISHNA\", \"Vamsi krishna\"\n",
        "print(f.isupper(), k.isupper())\n",
        "\n",
        "f,k=\"Krishna\", \"Kris3hna\"\n",
        "print(f.isalpha(), k.isalpha())\n",
        "\n",
        "f,k=\"1034\", \"23hh234\"\n",
        "print(f.isnumeric(), k.isnumeric())\n"
      ],
      "metadata": {
        "colab": {
          "base_uri": "https://localhost:8080/"
        },
        "id": "5mQVz2n04J2G",
        "outputId": "3f1653b8-bf5a-44fc-ab5a-5b0419a23f50"
      },
      "execution_count": 24,
      "outputs": [
        {
          "output_type": "stream",
          "name": "stdout",
          "text": [
            "True False\n",
            "True False\n",
            "True False\n",
            "True False\n",
            "True False\n",
            "True False\n"
          ]
        }
      ]
    },
    {
      "cell_type": "code",
      "source": [
        "\"\"\"\n",
        "6. Indian PAN card format follows the following formats - \n",
        "    - `AYEPC7894X`\n",
        "    - `ABCDE9999Y`\n",
        "  Take user input for PAN_CARD and validate as per the above example.\n",
        "\"\"\"\n",
        "pan=input(\"Please enter you Pan Card Number\")\n",
        "if len(pan)==10 and pan[:5].isalpha() and pan[5:9].isdecimal() and pan[-1].isalpha():\n",
        "  print(\"This is a valid pan number\")\n",
        "else:\n",
        "  print(\"This is an invalid pan number\")"
      ],
      "metadata": {
        "colab": {
          "base_uri": "https://localhost:8080/"
        },
        "id": "s08yYx5P4N9F",
        "outputId": "db79398e-f303-499c-e1c3-e8f77c7d859a"
      },
      "execution_count": 25,
      "outputs": [
        {
          "output_type": "stream",
          "name": "stdout",
          "text": [
            "Please enter you Pan Card NumberAYEPC7894X\n",
            "This is a valid pan number\n"
          ]
        }
      ]
    },
    {
      "cell_type": "code",
      "source": [],
      "metadata": {
        "id": "XYg0FV8oABX4"
      },
      "execution_count": null,
      "outputs": []
    }
  ]
}